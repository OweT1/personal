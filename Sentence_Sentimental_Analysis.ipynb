{
  "nbformat": 4,
  "nbformat_minor": 0,
  "metadata": {
    "colab": {
      "provenance": [],
      "gpuType": "T4",
      "authorship_tag": "ABX9TyMotlA3wLte3JPxO477VkZj",
      "include_colab_link": true
    },
    "kernelspec": {
      "name": "python3",
      "display_name": "Python 3"
    },
    "language_info": {
      "name": "python"
    },
    "accelerator": "GPU"
  },
  "cells": [
    {
      "cell_type": "markdown",
      "metadata": {
        "id": "view-in-github",
        "colab_type": "text"
      },
      "source": [
        "<a href=\"https://colab.research.google.com/github/OweT1/personal/blob/main/Sentence_Sentimental_Analysis.ipynb\" target=\"_parent\"><img src=\"https://colab.research.google.com/assets/colab-badge.svg\" alt=\"Open In Colab\"/></a>"
      ]
    },
    {
      "cell_type": "markdown",
      "source": [
        "# Reading in of packages"
      ],
      "metadata": {
        "id": "vf9VXqDHikw7"
      }
    },
    {
      "cell_type": "code",
      "source": [
        "import pandas as pd\n",
        "import numpy as np\n",
        "import matplotlib.pyplot as plt\n",
        "import seaborn as sns\n",
        "from transformers import pipeline\n",
        "from sklearn.model_selection import train_test_split\n",
        "from sklearn.metrics import accuracy_score, confusion_matrix, classification_report, ConfusionMatrixDisplay"
      ],
      "metadata": {
        "id": "g0Cg9F1Mic5-"
      },
      "execution_count": 36,
      "outputs": []
    },
    {
      "cell_type": "code",
      "execution_count": 37,
      "metadata": {
        "id": "H5QvzdnbN4TR",
        "colab": {
          "base_uri": "https://localhost:8080/"
        },
        "outputId": "05fe89d3-c940-4872-eb5a-37f9ce870263"
      },
      "outputs": [
        {
          "output_type": "stream",
          "name": "stdout",
          "text": [
            "Drive already mounted at /content/drive; to attempt to forcibly remount, call drive.mount(\"/content/drive\", force_remount=True).\n",
            "dataset.csv\n"
          ]
        }
      ],
      "source": [
        "from google.colab import drive\n",
        "drive.mount(\"/content/drive\")\n",
        "\n",
        "!ls /content/drive/MyDrive/'Colab Datasets'/'Sentence Sentimental Analysis'"
      ]
    },
    {
      "cell_type": "markdown",
      "source": [
        "# Reading in of Data"
      ],
      "metadata": {
        "id": "QdVPKlrFir2m"
      }
    },
    {
      "cell_type": "code",
      "source": [
        "data = pd.read_csv(\"/content/drive/MyDrive/Colab Datasets/Sentence Sentimental Analysis/dataset.csv\", header = None, names = [\"Label\", \"Text\"])\n",
        "\n",
        "print(data.head()) # First column: 1 - positive, 0 - negative\n",
        "print(data.shape)"
      ],
      "metadata": {
        "colab": {
          "base_uri": "https://localhost:8080/"
        },
        "id": "Qggu5ylEikPr",
        "outputId": "a7b20baa-8f1e-4a75-fc80-46a4dca187d2"
      },
      "execution_count": 38,
      "outputs": [
        {
          "output_type": "stream",
          "name": "stdout",
          "text": [
            "   Label                                               Text\n",
            "0      1  the rock is destined to be the 21st century's ...\n",
            "1      1  the gorgeously elaborate continuation of \" the...\n",
            "2      1                     effective but too-tepid biopic\n",
            "3      1  if you sometimes like to go to the movies to h...\n",
            "4      1  emerges as something rare , an issue movie tha...\n",
            "(10662, 2)\n"
          ]
        }
      ]
    },
    {
      "cell_type": "code",
      "source": [
        "print(data.columns)\n",
        "print(type(list(data[\"Text\"])))"
      ],
      "metadata": {
        "colab": {
          "base_uri": "https://localhost:8080/"
        },
        "id": "SOcGuvr6jFz_",
        "outputId": "4ce84889-eb12-4569-c906-eb748cd98a8f"
      },
      "execution_count": 39,
      "outputs": [
        {
          "output_type": "stream",
          "name": "stdout",
          "text": [
            "Index(['Label', 'Text'], dtype='object')\n",
            "<class 'list'>\n"
          ]
        }
      ]
    },
    {
      "cell_type": "markdown",
      "source": [
        "# Model (Pre-built on Hugging Face)\n",
        "For a start, we will try a pre-built model on Hugging Face that will analyse the text and give us a rating on whether it is `POSITIVE` or `NEGATIVE`."
      ],
      "metadata": {
        "id": "ITkSaF8IzwHf"
      }
    },
    {
      "cell_type": "code",
      "source": [
        "sentiment_pipeline = pipeline(\"sentiment-analysis\", model = \"distilbert/distilbert-base-uncased-finetuned-sst-2-english\") # device = 0\n",
        "output = sentiment_pipeline(list(data[\"Text\"]))"
      ],
      "metadata": {
        "id": "9t0tD8vZjIx2"
      },
      "execution_count": 40,
      "outputs": []
    },
    {
      "cell_type": "code",
      "source": [
        "new_data = data\n",
        "new_data[\"Prediction\"] = pd.Series(map(lambda x: x['label'], output))\n",
        "\n",
        "label_mapping = {\"POSITIVE\": 1, \"NEGATIVE\": 0}\n",
        "new_data[\"Prediction\"] = new_data[\"Prediction\"].map(label_mapping)"
      ],
      "metadata": {
        "id": "IdTr2sULjJGb"
      },
      "execution_count": 41,
      "outputs": []
    },
    {
      "cell_type": "code",
      "source": [
        "print(new_data.head())\n",
        "\n",
        "print(\"Accuracy Score: \" + str(accuracy_score(new_data[\"Label\"], new_data[\"Prediction\"])))"
      ],
      "metadata": {
        "colab": {
          "base_uri": "https://localhost:8080/"
        },
        "id": "LjsNDI4Cr00B",
        "outputId": "559ad01e-46ad-4fa9-c3ba-37f4250e577d"
      },
      "execution_count": 42,
      "outputs": [
        {
          "output_type": "stream",
          "name": "stdout",
          "text": [
            "   Label                                               Text  Prediction\n",
            "0      1  the rock is destined to be the 21st century's ...           1\n",
            "1      1  the gorgeously elaborate continuation of \" the...           1\n",
            "2      1                     effective but too-tepid biopic           0\n",
            "3      1  if you sometimes like to go to the movies to h...           1\n",
            "4      1  emerges as something rare , an issue movie tha...           1\n",
            "Accuracy Score: 0.8911086100168824\n"
          ]
        }
      ]
    },
    {
      "cell_type": "markdown",
      "source": [
        "## Model Evaluation\n",
        "We will evaluate the model and look at the accuracy of the model. As we can see, the model has an accuracy of around 89%."
      ],
      "metadata": {
        "id": "7a9G7oMz0D2z"
      }
    },
    {
      "cell_type": "code",
      "source": [
        "confusionMatrix = confusion_matrix(new_data[\"Label\"], new_data[\"Prediction\"])\n",
        "cm_display = ConfusionMatrixDisplay(confusion_matrix = confusionMatrix, display_labels = [False, True])\n",
        "cm_display.plot()\n",
        "plt.show()\n",
        "\n",
        "print(classification_report(new_data[\"Label\"], new_data[\"Prediction\"]))"
      ],
      "metadata": {
        "colab": {
          "base_uri": "https://localhost:8080/",
          "height": 605
        },
        "id": "OilY3Ik4tMMg",
        "outputId": "9be11ac7-4e28-493f-b1ed-4419761a2c9c"
      },
      "execution_count": 43,
      "outputs": [
        {
          "output_type": "display_data",
          "data": {
            "text/plain": [
              "<Figure size 640x480 with 2 Axes>"
            ],
            "image/png": "[encoded data removed]"
          },
          "metadata": {}
        },
        {
          "output_type": "stream",
          "name": "stdout",
          "text": [
            "              precision    recall  f1-score   support\n",
            "\n",
            "           0       0.90      0.88      0.89      5331\n",
            "           1       0.88      0.90      0.89      5331\n",
            "\n",
            "    accuracy                           0.89     10662\n",
            "   macro avg       0.89      0.89      0.89     10662\n",
            "weighted avg       0.89      0.89      0.89     10662\n",
            "\n"
          ]
        }
      ]
    },
    {
      "cell_type": "markdown",
      "source": [
        "# Manual Text Processing & Modelling\n",
        "Now, we will manually perform the processing of the texts and create a model to predict the sentiment of the text."
      ],
      "metadata": {
        "id": "_QUXLS6x0YPw"
      }
    },
    {
      "cell_type": "code",
      "source": [
        "#!pip install nltk==3.8.1\n",
        "\n",
        "import nltk\n",
        "\n",
        "nltk.download([\"stopwords\", \"punkt\", \"wordnet\"])"
      ],
      "metadata": {
        "colab": {
          "base_uri": "https://localhost:8080/"
        },
        "id": "AujUl2eBLANw",
        "outputId": "8b524816-45fc-43f6-87bd-7463adfc6432"
      },
      "execution_count": 44,
      "outputs": [
        {
          "output_type": "stream",
          "name": "stderr",
          "text": [
            "[nltk_data] Downloading package stopwords to /root/nltk_data...\n",
            "[nltk_data]   Package stopwords is already up-to-date!\n",
            "[nltk_data] Downloading package punkt to /root/nltk_data...\n",
            "[nltk_data]   Package punkt is already up-to-date!\n",
            "[nltk_data] Downloading package wordnet to /root/nltk_data...\n",
            "[nltk_data]   Package wordnet is already up-to-date!\n"
          ]
        },
        {
          "output_type": "execute_result",
          "data": {
            "text/plain": [
              "True"
            ]
          },
          "metadata": {},
          "execution_count": 44
        }
      ]
    },
    {
      "cell_type": "code",
      "source": [
        "X = pd.DataFrame(data[\"Text\"], columns = [\"Text\"])\n",
        "y = data[\"Label\"]"
      ],
      "metadata": {
        "id": "ToqouwMc0lkN"
      },
      "execution_count": 45,
      "outputs": []
    },
    {
      "cell_type": "markdown",
      "source": [
        "## Expanding of Contractions in Text"
      ],
      "metadata": {
        "id": "lOeMz1eSs63J"
      }
    },
    {
      "cell_type": "code",
      "source": [
        "# Tried using pycontractions but had issues installing it\n",
        "\n",
        "# !sudo apt install openjdk-8-jdk\n",
        "# !sudo update-alternatives --set java /usr/lib/jvm/java-8-openjdk-amd64/jre/bin/java\n",
        "# !pip install language-check\n",
        "# !pip install pycontractions\n",
        "# from pycontractions import Contractions\n",
        "!pip install contractions\n",
        "\n",
        "import contractions"
      ],
      "metadata": {
        "colab": {
          "base_uri": "https://localhost:8080/"
        },
        "id": "l5tsjKqQs6vT",
        "outputId": "56c605f2-aff4-4630-c9ca-7e1d3f445c34"
      },
      "execution_count": 46,
      "outputs": [
        {
          "output_type": "stream",
          "name": "stdout",
          "text": [
            "Requirement already satisfied: contractions in /usr/local/lib/python3.10/dist-packages (0.1.73)\n",
            "Requirement already satisfied: textsearch>=0.0.21 in /usr/local/lib/python3.10/dist-packages (from contractions) (0.0.24)\n",
            "Requirement already satisfied: anyascii in /usr/local/lib/python3.10/dist-packages (from textsearch>=0.0.21->contractions) (0.3.2)\n",
            "Requirement already satisfied: pyahocorasick in /usr/local/lib/python3.10/dist-packages (from textsearch>=0.0.21->contractions) (2.1.0)\n"
          ]
        }
      ]
    },
    {
      "cell_type": "code",
      "source": [
        "# def expand_contractions(text):\n",
        "#   expanded_text = []\n",
        "#   for word in text.split():\n",
        "#     expanded_text.append(contractions.fix(word))\n",
        "#   return \" \".join(expanded_text)\n",
        "\n",
        "X[\"Text_con\"] = [contractions.fix(text) for text in X[\"Text\"]]\n",
        "\n",
        "print(X.head())"
      ],
      "metadata": {
        "colab": {
          "base_uri": "https://localhost:8080/"
        },
        "id": "Fr-WKEGdtKbX",
        "outputId": "323958db-b19f-448f-ba3f-b094421b2f86"
      },
      "execution_count": 47,
      "outputs": [
        {
          "output_type": "stream",
          "name": "stdout",
          "text": [
            "                                                Text  \\\n",
            "0  the rock is destined to be the 21st century's ...   \n",
            "1  the gorgeously elaborate continuation of \" the...   \n",
            "2                     effective but too-tepid biopic   \n",
            "3  if you sometimes like to go to the movies to h...   \n",
            "4  emerges as something rare , an issue movie tha...   \n",
            "\n",
            "                                            Text_con  \n",
            "0  the rock is destined to be the 21st century's ...  \n",
            "1  the gorgeously elaborate continuation of \" the...  \n",
            "2                     effective but too-tepid biopic  \n",
            "3  if you sometimes like to go to the movies to h...  \n",
            "4  emerges as something rare , an issue movie tha...  \n"
          ]
        }
      ]
    },
    {
      "cell_type": "markdown",
      "source": [
        "## Tokenization of text"
      ],
      "metadata": {
        "id": "faFg8-sUlug3"
      }
    },
    {
      "cell_type": "code",
      "source": [
        "X[\"Text_con_token\"] = [nltk.word_tokenize(text) for text in X[\"Text_con\"]]\n",
        "\n",
        "print(X.head())"
      ],
      "metadata": {
        "colab": {
          "base_uri": "https://localhost:8080/"
        },
        "id": "62-mPExwkDPv",
        "outputId": "97723b4a-c7f7-408e-86dc-011fad71f45e"
      },
      "execution_count": 48,
      "outputs": [
        {
          "output_type": "stream",
          "name": "stdout",
          "text": [
            "                                                Text  \\\n",
            "0  the rock is destined to be the 21st century's ...   \n",
            "1  the gorgeously elaborate continuation of \" the...   \n",
            "2                     effective but too-tepid biopic   \n",
            "3  if you sometimes like to go to the movies to h...   \n",
            "4  emerges as something rare , an issue movie tha...   \n",
            "\n",
            "                                            Text_con  \\\n",
            "0  the rock is destined to be the 21st century's ...   \n",
            "1  the gorgeously elaborate continuation of \" the...   \n",
            "2                     effective but too-tepid biopic   \n",
            "3  if you sometimes like to go to the movies to h...   \n",
            "4  emerges as something rare , an issue movie tha...   \n",
            "\n",
            "                                      Text_con_token  \n",
            "0  [the, rock, is, destined, to, be, the, 21st, c...  \n",
            "1  [the, gorgeously, elaborate, continuation, of,...  \n",
            "2                [effective, but, too-tepid, biopic]  \n",
            "3  [if, you, sometimes, like, to, go, to, the, mo...  \n",
            "4  [emerges, as, something, rare, ,, an, issue, m...  \n"
          ]
        }
      ]
    },
    {
      "cell_type": "markdown",
      "source": [
        "## Removing of stopwords and punctuations"
      ],
      "metadata": {
        "id": "9MhS03NBl1bO"
      }
    },
    {
      "cell_type": "code",
      "source": [
        "stopwords = nltk.corpus.stopwords.words(\"english\")\n",
        "\n",
        "def remove_punc(words):\n",
        "  return [w for w in words if w.isalpha()]\n",
        "\n",
        "def remove_stopwords(words, stopwords):\n",
        "  return [w.lower() for w in words if w.lower() not in stopwords]\n",
        "\n",
        "X[\"Text_con_token_punc\"] = [remove_punc(text) for text in X[\"Text_con_token\"]]\n",
        "X[\"Text_con_token_punc_stop\"] = [remove_stopwords(text, stopwords) for text in X[\"Text_con_token_punc\"]]\n",
        "\n",
        "print(X.head())"
      ],
      "metadata": {
        "colab": {
          "base_uri": "https://localhost:8080/"
        },
        "id": "ClDynd1Clrq9",
        "outputId": "8657b759-c9b2-412e-978d-b6304854fb98"
      },
      "execution_count": 49,
      "outputs": [
        {
          "output_type": "stream",
          "name": "stdout",
          "text": [
            "                                                Text  \\\n",
            "0  the rock is destined to be the 21st century's ...   \n",
            "1  the gorgeously elaborate continuation of \" the...   \n",
            "2                     effective but too-tepid biopic   \n",
            "3  if you sometimes like to go to the movies to h...   \n",
            "4  emerges as something rare , an issue movie tha...   \n",
            "\n",
            "                                            Text_con  \\\n",
            "0  the rock is destined to be the 21st century's ...   \n",
            "1  the gorgeously elaborate continuation of \" the...   \n",
            "2                     effective but too-tepid biopic   \n",
            "3  if you sometimes like to go to the movies to h...   \n",
            "4  emerges as something rare , an issue movie tha...   \n",
            "\n",
            "                                      Text_con_token  \\\n",
            "0  [the, rock, is, destined, to, be, the, 21st, c...   \n",
            "1  [the, gorgeously, elaborate, continuation, of,...   \n",
            "2                [effective, but, too-tepid, biopic]   \n",
            "3  [if, you, sometimes, like, to, go, to, the, mo...   \n",
            "4  [emerges, as, something, rare, ,, an, issue, m...   \n",
            "\n",
            "                                 Text_con_token_punc  \\\n",
            "0  [the, rock, is, destined, to, be, the, century...   \n",
            "1  [the, gorgeously, elaborate, continuation, of,...   \n",
            "2                           [effective, but, biopic]   \n",
            "3  [if, you, sometimes, like, to, go, to, the, mo...   \n",
            "4  [emerges, as, something, rare, an, issue, movi...   \n",
            "\n",
            "                            Text_con_token_punc_stop  \n",
            "0  [rock, destined, century, new, conan, going, m...  \n",
            "1  [gorgeously, elaborate, continuation, lord, ri...  \n",
            "2                                [effective, biopic]  \n",
            "3  [sometimes, like, go, movies, fun, wasabi, goo...  \n",
            "4  [emerges, something, rare, issue, movie, hones...  \n"
          ]
        }
      ]
    },
    {
      "cell_type": "markdown",
      "source": [
        "## Lemmatization of words"
      ],
      "metadata": {
        "id": "w1kKQJ5PpPOQ"
      }
    },
    {
      "cell_type": "code",
      "source": [
        "from nltk.stem import WordNetLemmatizer\n",
        "lemmatizer = WordNetLemmatizer()\n",
        "\n",
        "def lemmatize_text(lemmatizer, words):\n",
        "  return [lemmatizer.lemmatize(word) for word in words]\n",
        "\n",
        "X[\"Text_con_token_punc_stop_lemma\"] = [lemmatize_text(lemmatizer, text) for text in X[\"Text_con_token_punc_stop\"]]\n",
        "\n",
        "print(X.head())"
      ],
      "metadata": {
        "colab": {
          "base_uri": "https://localhost:8080/"
        },
        "id": "lY0GFNs1pPAb",
        "outputId": "5723c908-f91b-4ed0-d5af-6f8da26ddefc"
      },
      "execution_count": 50,
      "outputs": [
        {
          "output_type": "stream",
          "name": "stdout",
          "text": [
            "                                                Text  \\\n",
            "0  the rock is destined to be the 21st century's ...   \n",
            "1  the gorgeously elaborate continuation of \" the...   \n",
            "2                     effective but too-tepid biopic   \n",
            "3  if you sometimes like to go to the movies to h...   \n",
            "4  emerges as something rare , an issue movie tha...   \n",
            "\n",
            "                                            Text_con  \\\n",
            "0  the rock is destined to be the 21st century's ...   \n",
            "1  the gorgeously elaborate continuation of \" the...   \n",
            "2                     effective but too-tepid biopic   \n",
            "3  if you sometimes like to go to the movies to h...   \n",
            "4  emerges as something rare , an issue movie tha...   \n",
            "\n",
            "                                      Text_con_token  \\\n",
            "0  [the, rock, is, destined, to, be, the, 21st, c...   \n",
            "1  [the, gorgeously, elaborate, continuation, of,...   \n",
            "2                [effective, but, too-tepid, biopic]   \n",
            "3  [if, you, sometimes, like, to, go, to, the, mo...   \n",
            "4  [emerges, as, something, rare, ,, an, issue, m...   \n",
            "\n",
            "                                 Text_con_token_punc  \\\n",
            "0  [the, rock, is, destined, to, be, the, century...   \n",
            "1  [the, gorgeously, elaborate, continuation, of,...   \n",
            "2                           [effective, but, biopic]   \n",
            "3  [if, you, sometimes, like, to, go, to, the, mo...   \n",
            "4  [emerges, as, something, rare, an, issue, movi...   \n",
            "\n",
            "                            Text_con_token_punc_stop  \\\n",
            "0  [rock, destined, century, new, conan, going, m...   \n",
            "1  [gorgeously, elaborate, continuation, lord, ri...   \n",
            "2                                [effective, biopic]   \n",
            "3  [sometimes, like, go, movies, fun, wasabi, goo...   \n",
            "4  [emerges, something, rare, issue, movie, hones...   \n",
            "\n",
            "                      Text_con_token_punc_stop_lemma  \n",
            "0  [rock, destined, century, new, conan, going, m...  \n",
            "1  [gorgeously, elaborate, continuation, lord, ri...  \n",
            "2                                [effective, biopic]  \n",
            "3  [sometimes, like, go, movie, fun, wasabi, good...  \n",
            "4  [emerges, something, rare, issue, movie, hones...  \n"
          ]
        }
      ]
    },
    {
      "cell_type": "markdown",
      "source": [
        "## Splitting of Data Values"
      ],
      "metadata": {
        "id": "kwI1MBiP0SAC"
      }
    },
    {
      "cell_type": "code",
      "source": [
        "X_train, X_test, y_train, y_test = train_test_split(X, y, stratify = y, test_size = 0.2)\n",
        "\n",
        "X_train = pd.DataFrame(X_train).reset_index().drop(\"index\", axis = 1)\n",
        "X_test = pd.DataFrame(X_test).reset_index().drop(\"index\", axis = 1)\n",
        "y_train = y_train.reset_index().drop(\"index\", axis = 1)\n",
        "y_test = y_test.reset_index().drop(\"index\", axis = 1)\n",
        "\n",
        "print(X_train.shape, X_test.shape)\n",
        "print(X_train.head())\n",
        "print(X_test.head())\n",
        "print(y_train.shape, y_test.shape)"
      ],
      "metadata": {
        "colab": {
          "base_uri": "https://localhost:8080/"
        },
        "id": "Yq3GE99mq75x",
        "outputId": "e8de9799-4c6f-4ff0-9293-1b8f4fd97c97"
      },
      "execution_count": 51,
      "outputs": [
        {
          "output_type": "stream",
          "name": "stdout",
          "text": [
            "(8529, 6) (2133, 6)\n",
            "                                                Text  \\\n",
            "0  the overall effect is so completely inane that...   \n",
            "1  for a shoot-'em-up , ballistic is oddly lifele...   \n",
            "2           darkly funny and frequently insightful .   \n",
            "3  a damn fine and a truly distinctive and a deep...   \n",
            "4  this rich , bittersweet israeli documentary , ...   \n",
            "\n",
            "                                            Text_con  \\\n",
            "0  the overall effect is so completely inane that...   \n",
            "1  for a shoot-them-up , ballistic is oddly lifel...   \n",
            "2           darkly funny and frequently insightful .   \n",
            "3  a damn fine and a truly distinctive and a deep...   \n",
            "4  this rich , bittersweet israeli documentary , ...   \n",
            "\n",
            "                                      Text_con_token  \\\n",
            "0  [the, overall, effect, is, so, completely, ina...   \n",
            "1  [for, a, shoot-them-up, ,, ballistic, is, oddl...   \n",
            "2    [darkly, funny, and, frequently, insightful, .]   \n",
            "3  [a, damn, fine, and, a, truly, distinctive, an...   \n",
            "4  [this, rich, ,, bittersweet, israeli, document...   \n",
            "\n",
            "                                 Text_con_token_punc  \\\n",
            "0  [the, overall, effect, is, so, completely, ina...   \n",
            "1           [for, a, ballistic, is, oddly, lifeless]   \n",
            "2       [darkly, funny, and, frequently, insightful]   \n",
            "3  [a, damn, fine, and, a, truly, distinctive, an...   \n",
            "4  [this, rich, bittersweet, israeli, documentary...   \n",
            "\n",
            "                            Text_con_token_punc_stop  \\\n",
            "0  [overall, effect, completely, inane, one, woul...   \n",
            "1                       [ballistic, oddly, lifeless]   \n",
            "2            [darkly, funny, frequently, insightful]   \n",
            "3  [damn, fine, truly, distinctive, deeply, perti...   \n",
            "4  [rich, bittersweet, israeli, documentary, life...   \n",
            "\n",
            "                      Text_con_token_punc_stop_lemma  \n",
            "0  [overall, effect, completely, inane, one, woul...  \n",
            "1                       [ballistic, oddly, lifeless]  \n",
            "2            [darkly, funny, frequently, insightful]  \n",
            "3  [damn, fine, truly, distinctive, deeply, perti...  \n",
            "4  [rich, bittersweet, israeli, documentary, life...  \n",
            "                                                Text  \\\n",
            "0               more a gunfest than a rock concert .   \n",
            "1  its engaging simplicity is driven by appealing...   \n",
            "2  the appeal of the vulgar , sexist , racist hum...   \n",
            "3  a serious movie with serious ideas . but serio...   \n",
            "4  an overly familiar scenario is made fresh by a...   \n",
            "\n",
            "                                            Text_con  \\\n",
            "0               more a gunfest than a rock concert .   \n",
            "1  its engaging simplicity is driven by appealing...   \n",
            "2  the appeal of the vulgar , sexist , racist hum...   \n",
            "3  a serious movie with serious ideas . but serio...   \n",
            "4  an overly familiar scenario is made fresh by a...   \n",
            "\n",
            "                                      Text_con_token  \\\n",
            "0      [more, a, gunfest, than, a, rock, concert, .]   \n",
            "1  [its, engaging, simplicity, is, driven, by, ap...   \n",
            "2  [the, appeal, of, the, vulgar, ,, sexist, ,, r...   \n",
            "3  [a, serious, movie, with, serious, ideas, ., b...   \n",
            "4  [an, overly, familiar, scenario, is, made, fre...   \n",
            "\n",
            "                                 Text_con_token_punc  \\\n",
            "0         [more, a, gunfest, than, a, rock, concert]   \n",
            "1  [its, engaging, simplicity, is, driven, by, ap...   \n",
            "2  [the, appeal, of, the, vulgar, sexist, racist,...   \n",
            "3  [a, serious, movie, with, serious, ideas, but,...   \n",
            "4  [an, overly, familiar, scenario, is, made, fre...   \n",
            "\n",
            "                            Text_con_token_punc_stop  \\\n",
            "0                           [gunfest, rock, concert]   \n",
            "1   [engaging, simplicity, driven, appealing, leads]   \n",
            "2  [appeal, vulgar, sexist, racist, humour, went,...   \n",
            "3  [serious, movie, serious, ideas, seriously, fo...   \n",
            "4  [overly, familiar, scenario, made, fresh, inte...   \n",
            "\n",
            "                      Text_con_token_punc_stop_lemma  \n",
            "0                           [gunfest, rock, concert]  \n",
            "1    [engaging, simplicity, driven, appealing, lead]  \n",
            "2  [appeal, vulgar, sexist, racist, humour, went,...  \n",
            "3  [serious, movie, serious, idea, seriously, fol...  \n",
            "4  [overly, familiar, scenario, made, fresh, inte...  \n",
            "(8529, 1) (2133, 1)\n"
          ]
        }
      ]
    },
    {
      "cell_type": "markdown",
      "source": [],
      "metadata": {
        "id": "Xt9ks3OrgGL-"
      }
    },
    {
      "cell_type": "code",
      "source": [
        "from nltk.sentiment import SentimentIntensityAnalyzer\n",
        "\n",
        "sia = SentimentIntensityAnalyzer()\n",
        "\n"
      ],
      "metadata": {
        "id": "6vNY2SYAgGWA"
      },
      "execution_count": null,
      "outputs": []
    },
    {
      "cell_type": "markdown",
      "source": [
        "## Modelling\n",
        "We will use a simple neural network to predict the sentiment of the text."
      ],
      "metadata": {
        "id": "H76KhFVZ4RwW"
      }
    },
    {
      "cell_type": "code",
      "source": [
        "from sklearn.feature_extraction.text import TfidfVectorizer\n",
        "\n",
        "vectorizer = TfidfVectorizer(ngram_range=(1, 1))\n",
        "\n",
        "X_train_vectorized = vectorizer.fit_transform(X_train[\"Text_con\"]).todense()\n",
        "X_test_vectorized = vectorizer.transform(X_test[\"Text_con\"]).todense()\n",
        "\n",
        "print(X_train_vectorized.shape)\n",
        "print(X_test_vectorized.shape)"
      ],
      "metadata": {
        "colab": {
          "base_uri": "https://localhost:8080/"
        },
        "id": "qlbYUAyu4Pkl",
        "outputId": "4028bcc9-fd18-49c8-a84e-959acf810f21"
      },
      "execution_count": 52,
      "outputs": [
        {
          "output_type": "stream",
          "name": "stdout",
          "text": [
            "(8529, 16580)\n",
            "(2133, 16580)\n"
          ]
        }
      ]
    },
    {
      "cell_type": "code",
      "source": [
        "import tensorflow\n",
        "from tensorflow.keras.models import Sequential\n",
        "from tensorflow.keras.layers import Dense\n",
        "\n",
        "model = Sequential()\n",
        "model.add(Dense(1028, input_shape=(X_train_vectorized.shape[1],), activation='leaky_relu'))\n",
        "model.add(Dense(512, activation='leaky_relu'))\n",
        "model.add(Dense(1, activation='sigmoid'))\n",
        "\n",
        "model.compile(optimizer='adam', loss='binary_crossentropy', metrics=['accuracy'])\n",
        "model.fit(X_train_vectorized, y_train, epochs=5, batch_size=1028,\n",
        "                    validation_data=(X_test_vectorized, y_test), verbose=1)\n",
        "\n",
        "y_pred = model.predict(X_test_vectorized)"
      ],
      "metadata": {
        "colab": {
          "base_uri": "https://localhost:8080/"
        },
        "id": "f3xyhSaK5Uej",
        "outputId": "8b2204a3-013c-4bc4-b930-0d9ee3f30ada"
      },
      "execution_count": 53,
      "outputs": [
        {
          "output_type": "stream",
          "name": "stderr",
          "text": [
            "/usr/local/lib/python3.10/dist-packages/keras/src/layers/core/dense.py:87: UserWarning: Do not pass an `input_shape`/`input_dim` argument to a layer. When using Sequential models, prefer using an `Input(shape)` object as the first layer in the model instead.\n",
            "  super().__init__(activity_regularizer=activity_regularizer, **kwargs)\n"
          ]
        },
        {
          "output_type": "stream",
          "name": "stdout",
          "text": [
            "Epoch 1/5\n",
            "\u001b[1m9/9\u001b[0m \u001b[32m━━━━━━━━━━━━━━━━━━━━\u001b[0m\u001b[37m\u001b[0m \u001b[1m35s\u001b[0m 3s/step - accuracy: 0.6413 - loss: 0.6826 - val_accuracy: 0.7571 - val_loss: 0.5901\n",
            "Epoch 2/5\n",
            "\u001b[1m9/9\u001b[0m \u001b[32m━━━━━━━━━━━━━━━━━━━━\u001b[0m\u001b[37m\u001b[0m \u001b[1m30s\u001b[0m 2s/step - accuracy: 0.8919 - loss: 0.4409 - val_accuracy: 0.7679 - val_loss: 0.4890\n",
            "Epoch 3/5\n",
            "\u001b[1m9/9\u001b[0m \u001b[32m━━━━━━━━━━━━━━━━━━━━\u001b[0m\u001b[37m\u001b[0m \u001b[1m16s\u001b[0m 2s/step - accuracy: 0.9515 - loss: 0.1472 - val_accuracy: 0.7647 - val_loss: 0.6499\n",
            "Epoch 4/5\n",
            "\u001b[1m9/9\u001b[0m \u001b[32m━━━━━━━━━━━━━━━━━━━━\u001b[0m\u001b[37m\u001b[0m \u001b[1m21s\u001b[0m 2s/step - accuracy: 0.9848 - loss: 0.0535 - val_accuracy: 0.7586 - val_loss: 0.8332\n",
            "Epoch 5/5\n",
            "\u001b[1m9/9\u001b[0m \u001b[32m━━━━━━━━━━━━━━━━━━━━\u001b[0m\u001b[37m\u001b[0m \u001b[1m21s\u001b[0m 2s/step - accuracy: 0.9966 - loss: 0.0196 - val_accuracy: 0.7501 - val_loss: 0.9966\n",
            "\u001b[1m67/67\u001b[0m \u001b[32m━━━━━━━━━━━━━━━━━━━━\u001b[0m\u001b[37m\u001b[0m \u001b[1m2s\u001b[0m 35ms/step\n"
          ]
        }
      ]
    },
    {
      "cell_type": "code",
      "source": [
        "threshold = 0.5\n",
        "y_pred = pd.DataFrame([1 if result > threshold else 0 for result in y_pred])\n",
        "\n",
        "print(\"Accuracy Score: \" + str(accuracy_score(y_test, y_pred)))"
      ],
      "metadata": {
        "colab": {
          "base_uri": "https://localhost:8080/"
        },
        "id": "Y6iY6N6J6f11",
        "outputId": "62380e85-e95e-45ce-efe8-240c2dcc74f3"
      },
      "execution_count": 54,
      "outputs": [
        {
          "output_type": "stream",
          "name": "stdout",
          "text": [
            "Accuracy Score: 0.7501172058134083\n"
          ]
        }
      ]
    },
    {
      "cell_type": "code",
      "source": [
        "print(type(y_pred))\n",
        "print(type(y_test))\n",
        "confusionMatrix = confusion_matrix(y_test, y_pred)\n",
        "cm_display = ConfusionMatrixDisplay(confusion_matrix = confusionMatrix, display_labels = [False, True])\n",
        "cm_display.plot()\n",
        "plt.show()\n",
        "\n",
        "print(classification_report(y_test, y_pred))"
      ],
      "metadata": {
        "colab": {
          "base_uri": "https://localhost:8080/",
          "height": 640
        },
        "id": "8cp9B6VsQOSa",
        "outputId": "92fa7c61-e792-4f5a-8dde-91176b77ba05"
      },
      "execution_count": 55,
      "outputs": [
        {
          "output_type": "stream",
          "name": "stdout",
          "text": [
            "<class 'pandas.core.frame.DataFrame'>\n",
            "<class 'pandas.core.frame.DataFrame'>\n"
          ]
        },
        {
          "output_type": "display_data",
          "data": {
            "text/plain": [
              "<Figure size 640x480 with 2 Axes>"
            ],
            "image/png": "[encoded data removed]"
          },
          "metadata": {}
        },
        {
          "output_type": "stream",
          "name": "stdout",
          "text": [
            "              precision    recall  f1-score   support\n",
            "\n",
            "           0       0.76      0.73      0.75      1067\n",
            "           1       0.74      0.77      0.75      1066\n",
            "\n",
            "    accuracy                           0.75      2133\n",
            "   macro avg       0.75      0.75      0.75      2133\n",
            "weighted avg       0.75      0.75      0.75      2133\n",
            "\n"
          ]
        }
      ]
    }
  ]
}