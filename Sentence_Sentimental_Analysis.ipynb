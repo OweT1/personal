{
  "nbformat": 4,
  "nbformat_minor": 0,
  "metadata": {
    "colab": {
      "provenance": [],
      "gpuType": "T4",
      "authorship_tag": "ABX9TyN0tSOPz6LezQUIGMS9dSyl",
      "include_colab_link": true
    },
    "kernelspec": {
      "name": "python3",
      "display_name": "Python 3"
    },
    "language_info": {
      "name": "python"
    },
    "accelerator": "GPU"
  },
  "cells": [
    {
      "cell_type": "markdown",
      "metadata": {
        "id": "view-in-github",
        "colab_type": "text"
      },
      "source": [
        "<a href=\"https://colab.research.google.com/github/OweT1/personal/blob/main/Sentence_Sentimental_Analysis.ipynb\" target=\"_parent\"><img src=\"https://colab.research.google.com/assets/colab-badge.svg\" alt=\"Open In Colab\"/></a>"
      ]
    },
    {
      "cell_type": "markdown",
      "source": [
        "# Reading in of packages"
      ],
      "metadata": {
        "id": "vf9VXqDHikw7"
      }
    },
    {
      "cell_type": "code",
      "source": [
        "import pandas as pd\n",
        "import numpy as np\n",
        "import matplotlib.pyplot as plt\n",
        "import seaborn as sns\n",
        "from transformers import pipeline\n",
        "from sklearn.model_selection import train_test_split\n",
        "from sklearn.metrics import accuracy_score, confusion_matrix, classification_report, ConfusionMatrixDisplay"
      ],
      "metadata": {
        "id": "g0Cg9F1Mic5-"
      },
      "execution_count": 30,
      "outputs": []
    },
    {
      "cell_type": "code",
      "execution_count": 31,
      "metadata": {
        "id": "H5QvzdnbN4TR",
        "colab": {
          "base_uri": "https://localhost:8080/"
        },
        "outputId": "ba51cf3c-c902-4763-89c9-a2b9a28880ee"
      },
      "outputs": [
        {
          "output_type": "stream",
          "name": "stdout",
          "text": [
            "Drive already mounted at /content/drive; to attempt to forcibly remount, call drive.mount(\"/content/drive\", force_remount=True).\n",
            "dataset.csv\n"
          ]
        }
      ],
      "source": [
        "from google.colab import drive\n",
        "drive.mount(\"/content/drive\")\n",
        "\n",
        "!ls /content/drive/MyDrive/'Colab Datasets'/'Sentence Sentimental Analysis'"
      ]
    },
    {
      "cell_type": "markdown",
      "source": [
        "# Reading in of Data"
      ],
      "metadata": {
        "id": "QdVPKlrFir2m"
      }
    },
    {
      "cell_type": "code",
      "source": [
        "data = pd.read_csv(\"/content/drive/MyDrive/Colab Datasets/Sentence Sentimental Analysis/dataset.csv\", header = None, names = [\"Label\", \"Text\"])\n",
        "\n",
        "print(data.head()) # First column: 1 - positive, 0 - negative\n",
        "print(data.shape)"
      ],
      "metadata": {
        "colab": {
          "base_uri": "https://localhost:8080/"
        },
        "id": "Qggu5ylEikPr",
        "outputId": "4dafb1c5-8c1e-45e5-9d40-575ad174b194"
      },
      "execution_count": 32,
      "outputs": [
        {
          "output_type": "stream",
          "name": "stdout",
          "text": [
            "   Label                                               Text\n",
            "0      1  the rock is destined to be the 21st century's ...\n",
            "1      1  the gorgeously elaborate continuation of \" the...\n",
            "2      1                     effective but too-tepid biopic\n",
            "3      1  if you sometimes like to go to the movies to h...\n",
            "4      1  emerges as something rare , an issue movie tha...\n",
            "(10662, 2)\n"
          ]
        }
      ]
    },
    {
      "cell_type": "code",
      "source": [
        "print(data.columns)\n",
        "print(type(list(data[\"Text\"])))"
      ],
      "metadata": {
        "colab": {
          "base_uri": "https://localhost:8080/"
        },
        "id": "SOcGuvr6jFz_",
        "outputId": "d1c81150-7599-4457-dfbf-1f78b28e808f"
      },
      "execution_count": 33,
      "outputs": [
        {
          "output_type": "stream",
          "name": "stdout",
          "text": [
            "Index(['Label', 'Text'], dtype='object')\n",
            "<class 'list'>\n"
          ]
        }
      ]
    },
    {
      "cell_type": "markdown",
      "source": [
        "# Model (Pre-built on Hugging Face)\n",
        "For a start, we will try a pre-built model on Hugging Face that will analyse the text and give us a rating on whether it is `POSITIVE` or `NEGATIVE`."
      ],
      "metadata": {
        "id": "ITkSaF8IzwHf"
      }
    },
    {
      "cell_type": "code",
      "source": [
        "sentiment_pipeline = pipeline(\"sentiment-analysis\", model = \"distilbert/distilbert-base-uncased-finetuned-sst-2-english\") # device = 0\n",
        "output = sentiment_pipeline(list(data[\"Text\"]))"
      ],
      "metadata": {
        "id": "9t0tD8vZjIx2"
      },
      "execution_count": 34,
      "outputs": []
    },
    {
      "cell_type": "code",
      "source": [
        "new_data = data\n",
        "new_data[\"Prediction\"] = pd.Series(map(lambda x: x['label'], output))\n",
        "\n",
        "label_mapping = {\"POSITIVE\": 1, \"NEGATIVE\": 0}\n",
        "new_data[\"Prediction\"] = new_data[\"Prediction\"].map(label_mapping)"
      ],
      "metadata": {
        "id": "IdTr2sULjJGb"
      },
      "execution_count": 35,
      "outputs": []
    },
    {
      "cell_type": "code",
      "source": [
        "print(new_data.head())\n",
        "\n",
        "print(\"Accuracy Score: \" + str(accuracy_score(new_data[\"Label\"], new_data[\"Prediction\"])))"
      ],
      "metadata": {
        "colab": {
          "base_uri": "https://localhost:8080/"
        },
        "id": "LjsNDI4Cr00B",
        "outputId": "232da214-411b-4fa0-83d1-8ab3747931b8"
      },
      "execution_count": 36,
      "outputs": [
        {
          "output_type": "stream",
          "name": "stdout",
          "text": [
            "   Label                                               Text  Prediction\n",
            "0      1  the rock is destined to be the 21st century's ...           1\n",
            "1      1  the gorgeously elaborate continuation of \" the...           1\n",
            "2      1                     effective but too-tepid biopic           0\n",
            "3      1  if you sometimes like to go to the movies to h...           1\n",
            "4      1  emerges as something rare , an issue movie tha...           1\n",
            "Accuracy Score: 0.8911086100168824\n"
          ]
        }
      ]
    },
    {
      "cell_type": "markdown",
      "source": [
        "## Model Evaluation\n",
        "We will evaluate the model and look at the accuracy of the model. As we can see, the model has an accuracy of around 89%."
      ],
      "metadata": {
        "id": "7a9G7oMz0D2z"
      }
    },
    {
      "cell_type": "code",
      "source": [
        "confusionMatrix = confusion_matrix(new_data[\"Label\"], new_data[\"Prediction\"])\n",
        "cm_display = ConfusionMatrixDisplay(confusion_matrix = confusionMatrix, display_labels = [False, True])\n",
        "cm_display.plot()\n",
        "plt.show()\n",
        "\n",
        "print(classification_report(new_data[\"Label\"], new_data[\"Prediction\"]))"
      ],
      "metadata": {
        "colab": {
          "base_uri": "https://localhost:8080/",
          "height": 605
        },
        "id": "OilY3Ik4tMMg",
        "outputId": "9f380a0b-12a4-44ba-bb90-3281fa31a937"
      },
      "execution_count": 37,
      "outputs": [
        {
          "output_type": "display_data",
          "data": {
            "text/plain": [
              "<Figure size 640x480 with 2 Axes>"
            ],
            "image/png": "[encoded data removed]"
          },
          "metadata": {}
        },
        {
          "output_type": "stream",
          "name": "stdout",
          "text": [
            "              precision    recall  f1-score   support\n",
            "\n",
            "           0       0.90      0.88      0.89      5331\n",
            "           1       0.88      0.90      0.89      5331\n",
            "\n",
            "    accuracy                           0.89     10662\n",
            "   macro avg       0.89      0.89      0.89     10662\n",
            "weighted avg       0.89      0.89      0.89     10662\n",
            "\n"
          ]
        }
      ]
    },
    {
      "cell_type": "markdown",
      "source": [
        "# Manual Text Processing & Modelling\n",
        "Now, we will manually perform the processing of the texts and create a model to predict the sentiment of the text."
      ],
      "metadata": {
        "id": "_QUXLS6x0YPw"
      }
    },
    {
      "cell_type": "code",
      "source": [
        "#!pip install nltk==3.8.1\n",
        "\n",
        "import nltk"
      ],
      "metadata": {
        "id": "AujUl2eBLANw"
      },
      "execution_count": 38,
      "outputs": []
    },
    {
      "cell_type": "code",
      "source": [
        "X = pd.DataFrame(data[\"Text\"], columns = [\"Text\"])\n",
        "y = data[\"Label\"]"
      ],
      "metadata": {
        "id": "ToqouwMc0lkN"
      },
      "execution_count": 39,
      "outputs": []
    },
    {
      "cell_type": "markdown",
      "source": [
        "## Expanding of Contractions in Text"
      ],
      "metadata": {
        "id": "lOeMz1eSs63J"
      }
    },
    {
      "cell_type": "code",
      "source": [
        "# Tried using pycontractions but had issues installing it\n",
        "\n",
        "# !sudo apt install openjdk-8-jdk\n",
        "# !sudo update-alternatives --set java /usr/lib/jvm/java-8-openjdk-amd64/jre/bin/java\n",
        "# !pip install language-check\n",
        "# !pip install pycontractions\n",
        "# from pycontractions import Contractions\n",
        "!pip install contractions\n",
        "\n",
        "import contractions"
      ],
      "metadata": {
        "colab": {
          "base_uri": "https://localhost:8080/"
        },
        "id": "l5tsjKqQs6vT",
        "outputId": "a8c892f1-bbe1-4199-eb26-97b00ec305c8"
      },
      "execution_count": 40,
      "outputs": [
        {
          "output_type": "stream",
          "name": "stdout",
          "text": [
            "Requirement already satisfied: contractions in /usr/local/lib/python3.10/dist-packages (0.1.73)\n",
            "Requirement already satisfied: textsearch>=0.0.21 in /usr/local/lib/python3.10/dist-packages (from contractions) (0.0.24)\n",
            "Requirement already satisfied: anyascii in /usr/local/lib/python3.10/dist-packages (from textsearch>=0.0.21->contractions) (0.3.2)\n",
            "Requirement already satisfied: pyahocorasick in /usr/local/lib/python3.10/dist-packages (from textsearch>=0.0.21->contractions) (2.1.0)\n"
          ]
        }
      ]
    },
    {
      "cell_type": "code",
      "source": [
        "# def expand_contractions(text):\n",
        "#   expanded_text = []\n",
        "#   for word in text.split():\n",
        "#     expanded_text.append(contractions.fix(word))\n",
        "#   return \" \".join(expanded_text)\n",
        "\n",
        "X[\"Text_con\"] = [contractions.fix(text) for text in X[\"Text\"]]\n",
        "\n",
        "print(X.head())"
      ],
      "metadata": {
        "colab": {
          "base_uri": "https://localhost:8080/"
        },
        "id": "Fr-WKEGdtKbX",
        "outputId": "7629ec02-5cf6-44c9-c3a8-34de3e1c314e"
      },
      "execution_count": 41,
      "outputs": [
        {
          "output_type": "stream",
          "name": "stdout",
          "text": [
            "                                                Text  \\\n",
            "0  the rock is destined to be the 21st century's ...   \n",
            "1  the gorgeously elaborate continuation of \" the...   \n",
            "2                     effective but too-tepid biopic   \n",
            "3  if you sometimes like to go to the movies to h...   \n",
            "4  emerges as something rare , an issue movie tha...   \n",
            "\n",
            "                                            Text_con  \n",
            "0  the rock is destined to be the 21st century's ...  \n",
            "1  the gorgeously elaborate continuation of \" the...  \n",
            "2                     effective but too-tepid biopic  \n",
            "3  if you sometimes like to go to the movies to h...  \n",
            "4  emerges as something rare , an issue movie tha...  \n"
          ]
        }
      ]
    },
    {
      "cell_type": "markdown",
      "source": [
        "## Tokenization of text"
      ],
      "metadata": {
        "id": "faFg8-sUlug3"
      }
    },
    {
      "cell_type": "code",
      "source": [
        "nltk.download([\"punkt\"])\n",
        "\n",
        "X[\"Text_con_token\"] = [nltk.word_tokenize(text) for text in X[\"Text_con\"]]\n",
        "\n",
        "print(X.head())"
      ],
      "metadata": {
        "colab": {
          "base_uri": "https://localhost:8080/"
        },
        "id": "62-mPExwkDPv",
        "outputId": "a7b2b0c3-c9db-4189-9867-4cf6fb9e5ea3"
      },
      "execution_count": 42,
      "outputs": [
        {
          "output_type": "stream",
          "name": "stderr",
          "text": [
            "[nltk_data] Downloading package punkt to /root/nltk_data...\n",
            "[nltk_data]   Package punkt is already up-to-date!\n"
          ]
        },
        {
          "output_type": "stream",
          "name": "stdout",
          "text": [
            "                                                Text  \\\n",
            "0  the rock is destined to be the 21st century's ...   \n",
            "1  the gorgeously elaborate continuation of \" the...   \n",
            "2                     effective but too-tepid biopic   \n",
            "3  if you sometimes like to go to the movies to h...   \n",
            "4  emerges as something rare , an issue movie tha...   \n",
            "\n",
            "                                            Text_con  \\\n",
            "0  the rock is destined to be the 21st century's ...   \n",
            "1  the gorgeously elaborate continuation of \" the...   \n",
            "2                     effective but too-tepid biopic   \n",
            "3  if you sometimes like to go to the movies to h...   \n",
            "4  emerges as something rare , an issue movie tha...   \n",
            "\n",
            "                                      Text_con_token  \n",
            "0  [the, rock, is, destined, to, be, the, 21st, c...  \n",
            "1  [the, gorgeously, elaborate, continuation, of,...  \n",
            "2                [effective, but, too-tepid, biopic]  \n",
            "3  [if, you, sometimes, like, to, go, to, the, mo...  \n",
            "4  [emerges, as, something, rare, ,, an, issue, m...  \n"
          ]
        }
      ]
    },
    {
      "cell_type": "markdown",
      "source": [
        "## Removing of stopwords and punctuations"
      ],
      "metadata": {
        "id": "9MhS03NBl1bO"
      }
    },
    {
      "cell_type": "code",
      "source": [
        "nltk.download([\"stopwords\"])\n",
        "\n",
        "stopwords = nltk.corpus.stopwords.words(\"english\")\n",
        "\n",
        "def remove_punc(words):\n",
        "  return [w for w in words if w.isalpha()]\n",
        "\n",
        "def remove_stopwords(words, stopwords):\n",
        "  return [w.lower() for w in words if w.lower() not in stopwords]\n",
        "\n",
        "X[\"Text_con_token_punc\"] = [remove_punc(text) for text in X[\"Text_con_token\"]]\n",
        "X[\"Text_con_token_punc_stop\"] = [remove_stopwords(text, stopwords) for text in X[\"Text_con_token_punc\"]]\n",
        "\n",
        "print(X.head())"
      ],
      "metadata": {
        "colab": {
          "base_uri": "https://localhost:8080/"
        },
        "id": "ClDynd1Clrq9",
        "outputId": "1480ae99-28d0-4f27-8de4-9f62efc00397"
      },
      "execution_count": 43,
      "outputs": [
        {
          "output_type": "stream",
          "name": "stderr",
          "text": [
            "[nltk_data] Downloading package stopwords to /root/nltk_data...\n",
            "[nltk_data]   Package stopwords is already up-to-date!\n"
          ]
        },
        {
          "output_type": "stream",
          "name": "stdout",
          "text": [
            "                                                Text  \\\n",
            "0  the rock is destined to be the 21st century's ...   \n",
            "1  the gorgeously elaborate continuation of \" the...   \n",
            "2                     effective but too-tepid biopic   \n",
            "3  if you sometimes like to go to the movies to h...   \n",
            "4  emerges as something rare , an issue movie tha...   \n",
            "\n",
            "                                            Text_con  \\\n",
            "0  the rock is destined to be the 21st century's ...   \n",
            "1  the gorgeously elaborate continuation of \" the...   \n",
            "2                     effective but too-tepid biopic   \n",
            "3  if you sometimes like to go to the movies to h...   \n",
            "4  emerges as something rare , an issue movie tha...   \n",
            "\n",
            "                                      Text_con_token  \\\n",
            "0  [the, rock, is, destined, to, be, the, 21st, c...   \n",
            "1  [the, gorgeously, elaborate, continuation, of,...   \n",
            "2                [effective, but, too-tepid, biopic]   \n",
            "3  [if, you, sometimes, like, to, go, to, the, mo...   \n",
            "4  [emerges, as, something, rare, ,, an, issue, m...   \n",
            "\n",
            "                                 Text_con_token_punc  \\\n",
            "0  [the, rock, is, destined, to, be, the, century...   \n",
            "1  [the, gorgeously, elaborate, continuation, of,...   \n",
            "2                           [effective, but, biopic]   \n",
            "3  [if, you, sometimes, like, to, go, to, the, mo...   \n",
            "4  [emerges, as, something, rare, an, issue, movi...   \n",
            "\n",
            "                            Text_con_token_punc_stop  \n",
            "0  [rock, destined, century, new, conan, going, m...  \n",
            "1  [gorgeously, elaborate, continuation, lord, ri...  \n",
            "2                                [effective, biopic]  \n",
            "3  [sometimes, like, go, movies, fun, wasabi, goo...  \n",
            "4  [emerges, something, rare, issue, movie, hones...  \n"
          ]
        }
      ]
    },
    {
      "cell_type": "markdown",
      "source": [
        "## Lemmatization of words"
      ],
      "metadata": {
        "id": "w1kKQJ5PpPOQ"
      }
    },
    {
      "cell_type": "code",
      "source": [
        "nltk.download([\"wordnet\"])\n",
        "\n",
        "from nltk.stem import WordNetLemmatizer\n",
        "lemmatizer = WordNetLemmatizer()\n",
        "\n",
        "def lemmatize_text(lemmatizer, words):\n",
        "  return [lemmatizer.lemmatize(word) for word in words]\n",
        "\n",
        "X[\"Text_con_token_punc_stop_lemma\"] = [lemmatize_text(lemmatizer, text) for text in X[\"Text_con_token_punc_stop\"]]\n",
        "\n",
        "print(X.head())"
      ],
      "metadata": {
        "colab": {
          "base_uri": "https://localhost:8080/"
        },
        "id": "lY0GFNs1pPAb",
        "outputId": "6777f62c-b1c6-4bd6-8185-a57319de17bc"
      },
      "execution_count": 44,
      "outputs": [
        {
          "output_type": "stream",
          "name": "stderr",
          "text": [
            "[nltk_data] Downloading package wordnet to /root/nltk_data...\n",
            "[nltk_data]   Package wordnet is already up-to-date!\n"
          ]
        },
        {
          "output_type": "stream",
          "name": "stdout",
          "text": [
            "                                                Text  \\\n",
            "0  the rock is destined to be the 21st century's ...   \n",
            "1  the gorgeously elaborate continuation of \" the...   \n",
            "2                     effective but too-tepid biopic   \n",
            "3  if you sometimes like to go to the movies to h...   \n",
            "4  emerges as something rare , an issue movie tha...   \n",
            "\n",
            "                                            Text_con  \\\n",
            "0  the rock is destined to be the 21st century's ...   \n",
            "1  the gorgeously elaborate continuation of \" the...   \n",
            "2                     effective but too-tepid biopic   \n",
            "3  if you sometimes like to go to the movies to h...   \n",
            "4  emerges as something rare , an issue movie tha...   \n",
            "\n",
            "                                      Text_con_token  \\\n",
            "0  [the, rock, is, destined, to, be, the, 21st, c...   \n",
            "1  [the, gorgeously, elaborate, continuation, of,...   \n",
            "2                [effective, but, too-tepid, biopic]   \n",
            "3  [if, you, sometimes, like, to, go, to, the, mo...   \n",
            "4  [emerges, as, something, rare, ,, an, issue, m...   \n",
            "\n",
            "                                 Text_con_token_punc  \\\n",
            "0  [the, rock, is, destined, to, be, the, century...   \n",
            "1  [the, gorgeously, elaborate, continuation, of,...   \n",
            "2                           [effective, but, biopic]   \n",
            "3  [if, you, sometimes, like, to, go, to, the, mo...   \n",
            "4  [emerges, as, something, rare, an, issue, movi...   \n",
            "\n",
            "                            Text_con_token_punc_stop  \\\n",
            "0  [rock, destined, century, new, conan, going, m...   \n",
            "1  [gorgeously, elaborate, continuation, lord, ri...   \n",
            "2                                [effective, biopic]   \n",
            "3  [sometimes, like, go, movies, fun, wasabi, goo...   \n",
            "4  [emerges, something, rare, issue, movie, hones...   \n",
            "\n",
            "                      Text_con_token_punc_stop_lemma  \n",
            "0  [rock, destined, century, new, conan, going, m...  \n",
            "1  [gorgeously, elaborate, continuation, lord, ri...  \n",
            "2                                [effective, biopic]  \n",
            "3  [sometimes, like, go, movie, fun, wasabi, good...  \n",
            "4  [emerges, something, rare, issue, movie, hones...  \n"
          ]
        }
      ]
    },
    {
      "cell_type": "markdown",
      "source": [
        "## Splitting of Data Values"
      ],
      "metadata": {
        "id": "kwI1MBiP0SAC"
      }
    },
    {
      "cell_type": "code",
      "source": [
        "X_train, X_test, y_train, y_test = train_test_split(X, y, stratify = y, test_size = 0.2)\n",
        "\n",
        "X_train = pd.DataFrame(X_train).reset_index().drop(\"index\", axis = 1)\n",
        "X_test = pd.DataFrame(X_test).reset_index().drop(\"index\", axis = 1)\n",
        "y_train = y_train.reset_index().drop(\"index\", axis = 1)\n",
        "y_test = y_test.reset_index().drop(\"index\", axis = 1)\n",
        "\n",
        "print(X_train.shape, X_test.shape)\n",
        "print(X_train.head())\n",
        "print(X_test.head())\n",
        "print(y_train.shape, y_test.shape)"
      ],
      "metadata": {
        "colab": {
          "base_uri": "https://localhost:8080/"
        },
        "id": "Yq3GE99mq75x",
        "outputId": "49d7f239-ca0c-45a2-8df0-21afb15a7170"
      },
      "execution_count": 45,
      "outputs": [
        {
          "output_type": "stream",
          "name": "stdout",
          "text": [
            "(8529, 6) (2133, 6)\n",
            "                                                Text  \\\n",
            "0  if it's another regurgitated action movie you'...   \n",
            "1  deliberately and devotedly constructed , far f...   \n",
            "2                 slight but enjoyable documentary .   \n",
            "3  a dreary rip-off of goodfellas that serves as ...   \n",
            "4  you can sip your vintage wines and watch your ...   \n",
            "\n",
            "                                            Text_con  \\\n",
            "0  if it is another regurgitated action movie you...   \n",
            "1  deliberately and devotedly constructed , far f...   \n",
            "2                 slight but enjoyable documentary .   \n",
            "3  a dreary rip-off of goodfellas that serves as ...   \n",
            "4  you can sip your vintage wines and watch your ...   \n",
            "\n",
            "                                      Text_con_token  \\\n",
            "0  [if, it, is, another, regurgitated, action, mo...   \n",
            "1  [deliberately, and, devotedly, constructed, ,,...   \n",
            "2           [slight, but, enjoyable, documentary, .]   \n",
            "3  [a, dreary, rip-off, of, goodfellas, that, ser...   \n",
            "4  [you, can, sip, your, vintage, wines, and, wat...   \n",
            "\n",
            "                                 Text_con_token_punc  \\\n",
            "0  [if, it, is, another, regurgitated, action, mo...   \n",
            "1  [deliberately, and, devotedly, constructed, fa...   \n",
            "2              [slight, but, enjoyable, documentary]   \n",
            "3  [a, dreary, of, goodfellas, that, serves, as, ...   \n",
            "4  [you, can, sip, your, vintage, wines, and, wat...   \n",
            "\n",
            "                            Text_con_token_punc_stop  \\\n",
            "0  [another, regurgitated, action, movie, better,...   \n",
            "1  [deliberately, devotedly, constructed, far, he...   \n",
            "2                   [slight, enjoyable, documentary]   \n",
            "3  [dreary, goodfellas, serves, muddled, offensiv...   \n",
            "4  [sip, vintage, wines, watch, merchant, ivory, ...   \n",
            "\n",
            "                      Text_con_token_punc_stop_lemma  \n",
            "0  [another, regurgitated, action, movie, better,...  \n",
            "1  [deliberately, devotedly, constructed, far, he...  \n",
            "2                   [slight, enjoyable, documentary]  \n",
            "3  [dreary, goodfellas, serf, muddled, offensive,...  \n",
            "4  [sip, vintage, wine, watch, merchant, ivory, p...  \n",
            "                                                Text  \\\n",
            "0  a movie that will touch the hearts of both chi...   \n",
            "1                                two hours of junk .   \n",
            "2  i admire the closing scenes of the film , whic...   \n",
            "3  it's one of the most honest films ever made ab...   \n",
            "4     desta vez , columbus capturou o pomo de ouro .   \n",
            "\n",
            "                                            Text_con  \\\n",
            "0  a movie that will touch the hearts of both chi...   \n",
            "1                                two hours of junk .   \n",
            "2  i admire the closing scenes of the film , whic...   \n",
            "3  it is one of the most honest films ever made a...   \n",
            "4     desta vez , columbus capturou o pomo de ouro .   \n",
            "\n",
            "                                      Text_con_token  \\\n",
            "0  [a, movie, that, will, touch, the, hearts, of,...   \n",
            "1                          [two, hours, of, junk, .]   \n",
            "2  [i, admire, the, closing, scenes, of, the, fil...   \n",
            "3  [it, is, one, of, the, most, honest, films, ev...   \n",
            "4  [desta, vez, ,, columbus, capturou, o, pomo, d...   \n",
            "\n",
            "                                 Text_con_token_punc  \\\n",
            "0  [a, movie, that, will, touch, the, hearts, of,...   \n",
            "1                             [two, hours, of, junk]   \n",
            "2  [i, admire, the, closing, scenes, of, the, fil...   \n",
            "3  [it, is, one, of, the, most, honest, films, ev...   \n",
            "4  [desta, vez, columbus, capturou, o, pomo, de, ...   \n",
            "\n",
            "                            Text_con_token_punc_stop  \\\n",
            "0  [movie, touch, hearts, children, adults, well,...   \n",
            "1                                 [two, hours, junk]   \n",
            "2  [admire, closing, scenes, film, seem, ask, whe...   \n",
            "3        [one, honest, films, ever, made, hollywood]   \n",
            "4   [desta, vez, columbus, capturou, pomo, de, ouro]   \n",
            "\n",
            "                      Text_con_token_punc_stop_lemma  \n",
            "0  [movie, touch, heart, child, adult, well, brin...  \n",
            "1                                  [two, hour, junk]  \n",
            "2  [admire, closing, scene, film, seem, ask, whet...  \n",
            "3         [one, honest, film, ever, made, hollywood]  \n",
            "4   [desta, vez, columbus, capturou, pomo, de, ouro]  \n",
            "(8529, 1) (2133, 1)\n"
          ]
        }
      ]
    },
    {
      "cell_type": "markdown",
      "source": [],
      "metadata": {
        "id": "Xt9ks3OrgGL-"
      }
    },
    {
      "cell_type": "markdown",
      "source": [
        "## Model\n",
        "We will use a simple neural network to predict the sentiment of the text."
      ],
      "metadata": {
        "id": "H76KhFVZ4RwW"
      }
    },
    {
      "cell_type": "code",
      "source": [
        "from sklearn.feature_extraction.text import TfidfVectorizer\n",
        "\n",
        "vectorizer = TfidfVectorizer(ngram_range=(1, 2))\n",
        "\n",
        "X_train_vectorized = vectorizer.fit_transform([\" \".join(text) for text in X_train[\"Text_con_token_punc_stop_lemma\"]]).todense()\n",
        "X_test_vectorized = vectorizer.transform([\" \".join(text) for text in X_test[\"Text_con_token_punc_stop_lemma\"]]).todense()\n",
        "\n",
        "print(X_train_vectorized.shape)\n",
        "print(X_test_vectorized.shape)"
      ],
      "metadata": {
        "colab": {
          "base_uri": "https://localhost:8080/"
        },
        "id": "qlbYUAyu4Pkl",
        "outputId": "324ec683-a9f8-4ff9-ded4-73e9da91d1a5"
      },
      "execution_count": 46,
      "outputs": [
        {
          "output_type": "stream",
          "name": "stdout",
          "text": [
            "(8529, 82632)\n",
            "(2133, 82632)\n"
          ]
        }
      ]
    },
    {
      "cell_type": "code",
      "source": [
        "import tensorflow\n",
        "from tensorflow.keras.models import Sequential\n",
        "from tensorflow.keras.layers import Dense, Dropout\n",
        "\n",
        "model = Sequential()\n",
        "model.add(Dense(1024, input_shape=(X_train_vectorized.shape[1],), activation='leaky_relu'))\n",
        "model.add(Dropout(0.25))\n",
        "model.add(Dense(512, activation='leaky_relu'))\n",
        "model.add(Dropout(0.25))\n",
        "model.add(Dense(1, activation='sigmoid'))\n",
        "\n",
        "model.compile(optimizer='adam', loss='binary_crossentropy', metrics=['accuracy'])\n",
        "model.fit(X_train_vectorized, y_train, epochs=5, batch_size=1024, verbose=1)\n",
        "\n",
        "y_pred = model.predict(X_test_vectorized)"
      ],
      "metadata": {
        "colab": {
          "base_uri": "https://localhost:8080/"
        },
        "id": "f3xyhSaK5Uej",
        "outputId": "7b907d15-fc02-4fd0-8f0d-acf204337265"
      },
      "execution_count": 47,
      "outputs": [
        {
          "output_type": "stream",
          "name": "stderr",
          "text": [
            "/usr/local/lib/python3.10/dist-packages/keras/src/layers/core/dense.py:87: UserWarning: Do not pass an `input_shape`/`input_dim` argument to a layer. When using Sequential models, prefer using an `Input(shape)` object as the first layer in the model instead.\n",
            "  super().__init__(activity_regularizer=activity_regularizer, **kwargs)\n"
          ]
        },
        {
          "output_type": "stream",
          "name": "stdout",
          "text": [
            "Epoch 1/5\n",
            "\u001b[1m9/9\u001b[0m \u001b[32m━━━━━━━━━━━━━━━━━━━━\u001b[0m\u001b[37m\u001b[0m \u001b[1m66s\u001b[0m 7s/step - accuracy: 0.5510 - loss: 0.6897\n",
            "Epoch 2/5\n",
            "\u001b[1m9/9\u001b[0m \u001b[32m━━━━━━━━━━━━━━━━━━━━\u001b[0m\u001b[37m\u001b[0m \u001b[1m83s\u001b[0m 7s/step - accuracy: 0.9817 - loss: 0.4841\n",
            "Epoch 3/5\n",
            "\u001b[1m9/9\u001b[0m \u001b[32m━━━━━━━━━━━━━━━━━━━━\u001b[0m\u001b[37m\u001b[0m \u001b[1m80s\u001b[0m 7s/step - accuracy: 0.9956 - loss: 0.0721\n",
            "Epoch 4/5\n",
            "\u001b[1m9/9\u001b[0m \u001b[32m━━━━━━━━━━━━━━━━━━━━\u001b[0m\u001b[37m\u001b[0m \u001b[1m83s\u001b[0m 7s/step - accuracy: 0.9983 - loss: 0.0069\n",
            "Epoch 5/5\n",
            "\u001b[1m9/9\u001b[0m \u001b[32m━━━━━━━━━━━━━━━━━━━━\u001b[0m\u001b[37m\u001b[0m \u001b[1m82s\u001b[0m 7s/step - accuracy: 0.9991 - loss: 0.0027\n",
            "\u001b[1m67/67\u001b[0m \u001b[32m━━━━━━━━━━━━━━━━━━━━\u001b[0m\u001b[37m\u001b[0m \u001b[1m14s\u001b[0m 210ms/step\n"
          ]
        }
      ]
    },
    {
      "cell_type": "code",
      "source": [
        "threshold = 0.5\n",
        "y_pred = pd.DataFrame([1 if result > threshold else 0 for result in y_pred])\n",
        "\n",
        "print(\"Accuracy Score: \" + str(accuracy_score(y_test, y_pred)))"
      ],
      "metadata": {
        "colab": {
          "base_uri": "https://localhost:8080/"
        },
        "id": "Y6iY6N6J6f11",
        "outputId": "61ffe938-fbc6-4b57-d372-ca6880c00669"
      },
      "execution_count": 48,
      "outputs": [
        {
          "output_type": "stream",
          "name": "stdout",
          "text": [
            "Accuracy Score: 0.7609001406469761\n"
          ]
        }
      ]
    },
    {
      "cell_type": "code",
      "source": [
        "print(type(y_pred))\n",
        "print(type(y_test))\n",
        "confusionMatrix = confusion_matrix(y_test, y_pred)\n",
        "cm_display = ConfusionMatrixDisplay(confusion_matrix = confusionMatrix, display_labels = [False, True])\n",
        "cm_display.plot()\n",
        "plt.show()\n",
        "\n",
        "print(classification_report(y_test, y_pred))"
      ],
      "metadata": {
        "colab": {
          "base_uri": "https://localhost:8080/",
          "height": 640
        },
        "id": "8cp9B6VsQOSa",
        "outputId": "b8acf49b-bf3c-4da2-cd9d-5acba6408bfa"
      },
      "execution_count": 49,
      "outputs": [
        {
          "output_type": "stream",
          "name": "stdout",
          "text": [
            "<class 'pandas.core.frame.DataFrame'>\n",
            "<class 'pandas.core.frame.DataFrame'>\n"
          ]
        },
        {
          "output_type": "display_data",
          "data": {
            "text/plain": [
              "<Figure size 640x480 with 2 Axes>"
            ],
            "image/png": "[encoded data removed]"
          },
          "metadata": {}
        },
        {
          "output_type": "stream",
          "name": "stdout",
          "text": [
            "              precision    recall  f1-score   support\n",
            "\n",
            "           0       0.75      0.79      0.77      1067\n",
            "           1       0.77      0.74      0.75      1066\n",
            "\n",
            "    accuracy                           0.76      2133\n",
            "   macro avg       0.76      0.76      0.76      2133\n",
            "weighted avg       0.76      0.76      0.76      2133\n",
            "\n"
          ]
        }
      ]
    },
    {
      "cell_type": "markdown",
      "source": [
        "# VADER (NLTK)\n",
        "We will try using VADER (Valence Aware Dictionary and sEntiment Reasoner), which is a pretrained sentiment analyzer in NLTK."
      ],
      "metadata": {
        "id": "b1fnNa51Qa-7"
      }
    },
    {
      "cell_type": "code",
      "source": [
        "nltk.download([\"vader_lexicon\"])\n",
        "\n",
        "from nltk.sentiment import SentimentIntensityAnalyzer\n",
        "\n",
        "sia = SentimentIntensityAnalyzer()"
      ],
      "metadata": {
        "id": "6vNY2SYAgGWA",
        "colab": {
          "base_uri": "https://localhost:8080/"
        },
        "outputId": "fbe87943-5504-4f33-8b49-2826d03422a5"
      },
      "execution_count": 50,
      "outputs": [
        {
          "output_type": "stream",
          "name": "stderr",
          "text": [
            "[nltk_data] Downloading package vader_lexicon to /root/nltk_data...\n",
            "[nltk_data]   Package vader_lexicon is already up-to-date!\n"
          ]
        }
      ]
    },
    {
      "cell_type": "code",
      "source": [
        "new_X = X\n",
        "new_X[\"compound_score\"] = [sia.polarity_scores(\" \".join(text))[\"compound\"] for text in X[\"Text_con_token_punc_stop_lemma\"]]\n",
        "new_X[\"compound_score_2\"] = [sia.polarity_scores(text)[\"compound\"] for text in X[\"Text_con\"]]\n",
        "\n",
        "print(new_X.head())"
      ],
      "metadata": {
        "colab": {
          "base_uri": "https://localhost:8080/"
        },
        "id": "wh5zjeWMQtpp",
        "outputId": "3b55dbeb-f4db-46b1-b149-5a9f2f255235"
      },
      "execution_count": 51,
      "outputs": [
        {
          "output_type": "stream",
          "name": "stdout",
          "text": [
            "                                                Text  \\\n",
            "0  the rock is destined to be the 21st century's ...   \n",
            "1  the gorgeously elaborate continuation of \" the...   \n",
            "2                     effective but too-tepid biopic   \n",
            "3  if you sometimes like to go to the movies to h...   \n",
            "4  emerges as something rare , an issue movie tha...   \n",
            "\n",
            "                                            Text_con  \\\n",
            "0  the rock is destined to be the 21st century's ...   \n",
            "1  the gorgeously elaborate continuation of \" the...   \n",
            "2                     effective but too-tepid biopic   \n",
            "3  if you sometimes like to go to the movies to h...   \n",
            "4  emerges as something rare , an issue movie tha...   \n",
            "\n",
            "                                      Text_con_token  \\\n",
            "0  [the, rock, is, destined, to, be, the, 21st, c...   \n",
            "1  [the, gorgeously, elaborate, continuation, of,...   \n",
            "2                [effective, but, too-tepid, biopic]   \n",
            "3  [if, you, sometimes, like, to, go, to, the, mo...   \n",
            "4  [emerges, as, something, rare, ,, an, issue, m...   \n",
            "\n",
            "                                 Text_con_token_punc  \\\n",
            "0  [the, rock, is, destined, to, be, the, century...   \n",
            "1  [the, gorgeously, elaborate, continuation, of,...   \n",
            "2                           [effective, but, biopic]   \n",
            "3  [if, you, sometimes, like, to, go, to, the, mo...   \n",
            "4  [emerges, as, something, rare, an, issue, movi...   \n",
            "\n",
            "                            Text_con_token_punc_stop  \\\n",
            "0  [rock, destined, century, new, conan, going, m...   \n",
            "1  [gorgeously, elaborate, continuation, lord, ri...   \n",
            "2                                [effective, biopic]   \n",
            "3  [sometimes, like, go, movies, fun, wasabi, goo...   \n",
            "4  [emerges, something, rare, issue, movie, hones...   \n",
            "\n",
            "                      Text_con_token_punc_stop_lemma  compound_score  \\\n",
            "0  [rock, destined, century, new, conan, going, m...          0.3612   \n",
            "1  [gorgeously, elaborate, continuation, lord, ri...          0.7650   \n",
            "2                                [effective, biopic]          0.4767   \n",
            "3  [sometimes, like, go, movie, fun, wasabi, good...          0.8271   \n",
            "4  [emerges, something, rare, issue, movie, hones...          0.7783   \n",
            "\n",
            "   compound_score_2  \n",
            "0            0.3612  \n",
            "1            0.8069  \n",
            "2            0.2617  \n",
            "3            0.8271  \n",
            "4            0.6592  \n"
          ]
        }
      ]
    },
    {
      "cell_type": "code",
      "source": [
        "new_X[\"Prediction_1\"] = [1 if score > 0 else 0 for score in X[\"compound_score\"]]\n",
        "new_X[\"Prediction_2\"] = [1 if score > 0 else 0 for score in X[\"compound_score_2\"]]\n",
        "\n",
        "print(new_X.head())"
      ],
      "metadata": {
        "colab": {
          "base_uri": "https://localhost:8080/"
        },
        "id": "_L75lSu5Rr7E",
        "outputId": "424eeb74-cf7e-486d-c7a2-9dc554bbb7b7"
      },
      "execution_count": 52,
      "outputs": [
        {
          "output_type": "stream",
          "name": "stdout",
          "text": [
            "                                                Text  \\\n",
            "0  the rock is destined to be the 21st century's ...   \n",
            "1  the gorgeously elaborate continuation of \" the...   \n",
            "2                     effective but too-tepid biopic   \n",
            "3  if you sometimes like to go to the movies to h...   \n",
            "4  emerges as something rare , an issue movie tha...   \n",
            "\n",
            "                                            Text_con  \\\n",
            "0  the rock is destined to be the 21st century's ...   \n",
            "1  the gorgeously elaborate continuation of \" the...   \n",
            "2                     effective but too-tepid biopic   \n",
            "3  if you sometimes like to go to the movies to h...   \n",
            "4  emerges as something rare , an issue movie tha...   \n",
            "\n",
            "                                      Text_con_token  \\\n",
            "0  [the, rock, is, destined, to, be, the, 21st, c...   \n",
            "1  [the, gorgeously, elaborate, continuation, of,...   \n",
            "2                [effective, but, too-tepid, biopic]   \n",
            "3  [if, you, sometimes, like, to, go, to, the, mo...   \n",
            "4  [emerges, as, something, rare, ,, an, issue, m...   \n",
            "\n",
            "                                 Text_con_token_punc  \\\n",
            "0  [the, rock, is, destined, to, be, the, century...   \n",
            "1  [the, gorgeously, elaborate, continuation, of,...   \n",
            "2                           [effective, but, biopic]   \n",
            "3  [if, you, sometimes, like, to, go, to, the, mo...   \n",
            "4  [emerges, as, something, rare, an, issue, movi...   \n",
            "\n",
            "                            Text_con_token_punc_stop  \\\n",
            "0  [rock, destined, century, new, conan, going, m...   \n",
            "1  [gorgeously, elaborate, continuation, lord, ri...   \n",
            "2                                [effective, biopic]   \n",
            "3  [sometimes, like, go, movies, fun, wasabi, goo...   \n",
            "4  [emerges, something, rare, issue, movie, hones...   \n",
            "\n",
            "                      Text_con_token_punc_stop_lemma  compound_score  \\\n",
            "0  [rock, destined, century, new, conan, going, m...          0.3612   \n",
            "1  [gorgeously, elaborate, continuation, lord, ri...          0.7650   \n",
            "2                                [effective, biopic]          0.4767   \n",
            "3  [sometimes, like, go, movie, fun, wasabi, good...          0.8271   \n",
            "4  [emerges, something, rare, issue, movie, hones...          0.7783   \n",
            "\n",
            "   compound_score_2  Prediction_1  Prediction_2  \n",
            "0            0.3612             1             1  \n",
            "1            0.8069             1             1  \n",
            "2            0.2617             1             1  \n",
            "3            0.8271             1             1  \n",
            "4            0.6592             1             1  \n"
          ]
        }
      ]
    },
    {
      "cell_type": "code",
      "source": [
        "print(\"Accuracy Score: \" + str(accuracy_score(y, new_X[\"Prediction_1\"])))\n",
        "print(\"Accuracy Score: \" + str(accuracy_score(y, new_X[\"Prediction_2\"])))"
      ],
      "metadata": {
        "colab": {
          "base_uri": "https://localhost:8080/"
        },
        "id": "XhmSHUWUSMUN",
        "outputId": "d3d85705-6f8f-4e51-e1ed-ed4f245c1662"
      },
      "execution_count": 53,
      "outputs": [
        {
          "output_type": "stream",
          "name": "stdout",
          "text": [
            "Accuracy Score: 0.6265241042956293\n",
            "Accuracy Score: 0.635715625586194\n"
          ]
        }
      ]
    },
    {
      "cell_type": "markdown",
      "source": [
        "# SpaCy"
      ],
      "metadata": {
        "id": "-dHcpzOBbnT2"
      }
    },
    {
      "cell_type": "markdown",
      "source": [
        "## Using spacysentiment"
      ],
      "metadata": {
        "id": "vLTWP8FcfLvO"
      }
    },
    {
      "cell_type": "code",
      "source": [
        "!pip install eng-spacysentiment\n",
        "\n",
        "import eng_spacysentiment"
      ],
      "metadata": {
        "colab": {
          "base_uri": "https://localhost:8080/",
          "height": 877
        },
        "id": "2H7piCWSbnZD",
        "outputId": "49dfd786-d9d8-4faf-890f-6081b3b7774a"
      },
      "execution_count": 54,
      "outputs": [
        {
          "output_type": "stream",
          "name": "stdout",
          "text": [
            "Requirement already satisfied: eng-spacysentiment in /usr/local/lib/python3.10/dist-packages (2.3.0)\n",
            "Collecting spacy<3.6.0,>=3.5.3 (from eng-spacysentiment)\n",
            "  Using cached spacy-3.5.4-cp310-cp310-manylinux_2_17_x86_64.manylinux2014_x86_64.whl.metadata (25 kB)\n",
            "Requirement already satisfied: spacy-legacy<3.1.0,>=3.0.11 in /usr/local/lib/python3.10/dist-packages (from spacy<3.6.0,>=3.5.3->eng-spacysentiment) (3.0.12)\n",
            "Requirement already satisfied: spacy-loggers<2.0.0,>=1.0.0 in /usr/local/lib/python3.10/dist-packages (from spacy<3.6.0,>=3.5.3->eng-spacysentiment) (1.0.5)\n",
            "Requirement already satisfied: murmurhash<1.1.0,>=0.28.0 in /usr/local/lib/python3.10/dist-packages (from spacy<3.6.0,>=3.5.3->eng-spacysentiment) (1.0.10)\n",
            "Requirement already satisfied: cymem<2.1.0,>=2.0.2 in /usr/local/lib/python3.10/dist-packages (from spacy<3.6.0,>=3.5.3->eng-spacysentiment) (2.0.8)\n",
            "Requirement already satisfied: preshed<3.1.0,>=3.0.2 in /usr/local/lib/python3.10/dist-packages (from spacy<3.6.0,>=3.5.3->eng-spacysentiment) (3.0.9)\n",
            "Requirement already satisfied: thinc<8.2.0,>=8.1.8 in /usr/local/lib/python3.10/dist-packages (from spacy<3.6.0,>=3.5.3->eng-spacysentiment) (8.1.12)\n",
            "Requirement already satisfied: wasabi<1.2.0,>=0.9.1 in /usr/local/lib/python3.10/dist-packages (from spacy<3.6.0,>=3.5.3->eng-spacysentiment) (1.1.3)\n",
            "Requirement already satisfied: srsly<3.0.0,>=2.4.3 in /usr/local/lib/python3.10/dist-packages (from spacy<3.6.0,>=3.5.3->eng-spacysentiment) (2.4.8)\n",
            "Requirement already satisfied: catalogue<2.1.0,>=2.0.6 in /usr/local/lib/python3.10/dist-packages (from spacy<3.6.0,>=3.5.3->eng-spacysentiment) (2.0.10)\n",
            "Requirement already satisfied: typer<0.10.0,>=0.3.0 in /usr/local/lib/python3.10/dist-packages (from spacy<3.6.0,>=3.5.3->eng-spacysentiment) (0.9.4)\n",
            "Requirement already satisfied: pathy>=0.10.0 in /usr/local/lib/python3.10/dist-packages (from spacy<3.6.0,>=3.5.3->eng-spacysentiment) (0.11.0)\n",
            "Requirement already satisfied: smart-open<7.0.0,>=5.2.1 in /usr/local/lib/python3.10/dist-packages (from spacy<3.6.0,>=3.5.3->eng-spacysentiment) (6.4.0)\n",
            "Requirement already satisfied: tqdm<5.0.0,>=4.38.0 in /usr/local/lib/python3.10/dist-packages (from spacy<3.6.0,>=3.5.3->eng-spacysentiment) (4.66.5)\n",
            "Requirement already satisfied: numpy>=1.15.0 in /usr/local/lib/python3.10/dist-packages (from spacy<3.6.0,>=3.5.3->eng-spacysentiment) (1.26.4)\n",
            "Requirement already satisfied: requests<3.0.0,>=2.13.0 in /usr/local/lib/python3.10/dist-packages (from spacy<3.6.0,>=3.5.3->eng-spacysentiment) (2.32.3)\n",
            "Requirement already satisfied: pydantic!=1.8,!=1.8.1,<1.11.0,>=1.7.4 in /usr/local/lib/python3.10/dist-packages (from spacy<3.6.0,>=3.5.3->eng-spacysentiment) (1.10.17)\n",
            "Requirement already satisfied: jinja2 in /usr/local/lib/python3.10/dist-packages (from spacy<3.6.0,>=3.5.3->eng-spacysentiment) (3.1.4)\n",
            "Requirement already satisfied: setuptools in /usr/local/lib/python3.10/dist-packages (from spacy<3.6.0,>=3.5.3->eng-spacysentiment) (71.0.4)\n",
            "Requirement already satisfied: packaging>=20.0 in /usr/local/lib/python3.10/dist-packages (from spacy<3.6.0,>=3.5.3->eng-spacysentiment) (24.1)\n",
            "Requirement already satisfied: langcodes<4.0.0,>=3.2.0 in /usr/local/lib/python3.10/dist-packages (from spacy<3.6.0,>=3.5.3->eng-spacysentiment) (3.4.0)\n",
            "Requirement already satisfied: language-data>=1.2 in /usr/local/lib/python3.10/dist-packages (from langcodes<4.0.0,>=3.2.0->spacy<3.6.0,>=3.5.3->eng-spacysentiment) (1.2.0)\n",
            "Requirement already satisfied: pathlib-abc==0.1.1 in /usr/local/lib/python3.10/dist-packages (from pathy>=0.10.0->spacy<3.6.0,>=3.5.3->eng-spacysentiment) (0.1.1)\n",
            "Requirement already satisfied: typing-extensions>=4.2.0 in /usr/local/lib/python3.10/dist-packages (from pydantic!=1.8,!=1.8.1,<1.11.0,>=1.7.4->spacy<3.6.0,>=3.5.3->eng-spacysentiment) (4.12.2)\n",
            "Requirement already satisfied: charset-normalizer<4,>=2 in /usr/local/lib/python3.10/dist-packages (from requests<3.0.0,>=2.13.0->spacy<3.6.0,>=3.5.3->eng-spacysentiment) (3.3.2)\n",
            "Requirement already satisfied: idna<4,>=2.5 in /usr/local/lib/python3.10/dist-packages (from requests<3.0.0,>=2.13.0->spacy<3.6.0,>=3.5.3->eng-spacysentiment) (3.7)\n",
            "Requirement already satisfied: urllib3<3,>=1.21.1 in /usr/local/lib/python3.10/dist-packages (from requests<3.0.0,>=2.13.0->spacy<3.6.0,>=3.5.3->eng-spacysentiment) (2.0.7)\n",
            "Requirement already satisfied: certifi>=2017.4.17 in /usr/local/lib/python3.10/dist-packages (from requests<3.0.0,>=2.13.0->spacy<3.6.0,>=3.5.3->eng-spacysentiment) (2024.7.4)\n",
            "Requirement already satisfied: blis<0.8.0,>=0.7.8 in /usr/local/lib/python3.10/dist-packages (from thinc<8.2.0,>=8.1.8->spacy<3.6.0,>=3.5.3->eng-spacysentiment) (0.7.11)\n",
            "Requirement already satisfied: confection<1.0.0,>=0.0.1 in /usr/local/lib/python3.10/dist-packages (from thinc<8.2.0,>=8.1.8->spacy<3.6.0,>=3.5.3->eng-spacysentiment) (0.1.5)\n",
            "Requirement already satisfied: click<9.0.0,>=7.1.1 in /usr/local/lib/python3.10/dist-packages (from typer<0.10.0,>=0.3.0->spacy<3.6.0,>=3.5.3->eng-spacysentiment) (8.1.7)\n",
            "Requirement already satisfied: MarkupSafe>=2.0 in /usr/local/lib/python3.10/dist-packages (from jinja2->spacy<3.6.0,>=3.5.3->eng-spacysentiment) (2.1.5)\n",
            "Requirement already satisfied: marisa-trie>=0.7.7 in /usr/local/lib/python3.10/dist-packages (from language-data>=1.2->langcodes<4.0.0,>=3.2.0->spacy<3.6.0,>=3.5.3->eng-spacysentiment) (1.2.0)\n",
            "Using cached spacy-3.5.4-cp310-cp310-manylinux_2_17_x86_64.manylinux2014_x86_64.whl (6.6 MB)\n",
            "Installing collected packages: spacy\n",
            "  Attempting uninstall: spacy\n",
            "    Found existing installation: spacy 3.7.1\n",
            "    Uninstalling spacy-3.7.1:\n",
            "      Successfully uninstalled spacy-3.7.1\n",
            "\u001b[31mERROR: pip's dependency resolver does not currently take into account all the packages that are installed. This behaviour is the source of the following dependency conflicts.\n",
            "en-core-web-sm 3.7.1 requires spacy<3.8.0,>=3.7.2, but you have spacy 3.5.4 which is incompatible.\u001b[0m\u001b[31m\n",
            "\u001b[0mSuccessfully installed spacy-3.5.4\n"
          ]
        },
        {
          "output_type": "display_data",
          "data": {
            "application/vnd.colab-display-data+json": {
              "pip_warning": {
                "packages": [
                  "spacy"
                ]
              },
              "id": "449620e749e14a38b4d6cb0235996d50"
            }
          },
          "metadata": {}
        }
      ]
    },
    {
      "cell_type": "code",
      "source": [
        "nlp = eng_spacysentiment.load()\n",
        "new_X = X\n",
        "\n",
        "new_X[\"sentiment\"] = [nlp(text).cats for text in new_X[\"Text_con\"]]\n",
        "print(new_X.head())"
      ],
      "metadata": {
        "colab": {
          "base_uri": "https://localhost:8080/"
        },
        "id": "nW_XN1b2cSAu",
        "outputId": "14480762-e6e2-434b-c9f6-e008d8c7bebb"
      },
      "execution_count": 55,
      "outputs": [
        {
          "output_type": "stream",
          "name": "stdout",
          "text": [
            "                                                Text  \\\n",
            "0  the rock is destined to be the 21st century's ...   \n",
            "1  the gorgeously elaborate continuation of \" the...   \n",
            "2                     effective but too-tepid biopic   \n",
            "3  if you sometimes like to go to the movies to h...   \n",
            "4  emerges as something rare , an issue movie tha...   \n",
            "\n",
            "                                            Text_con  \\\n",
            "0  the rock is destined to be the 21st century's ...   \n",
            "1  the gorgeously elaborate continuation of \" the...   \n",
            "2                     effective but too-tepid biopic   \n",
            "3  if you sometimes like to go to the movies to h...   \n",
            "4  emerges as something rare , an issue movie tha...   \n",
            "\n",
            "                                      Text_con_token  \\\n",
            "0  [the, rock, is, destined, to, be, the, 21st, c...   \n",
            "1  [the, gorgeously, elaborate, continuation, of,...   \n",
            "2                [effective, but, too-tepid, biopic]   \n",
            "3  [if, you, sometimes, like, to, go, to, the, mo...   \n",
            "4  [emerges, as, something, rare, ,, an, issue, m...   \n",
            "\n",
            "                                 Text_con_token_punc  \\\n",
            "0  [the, rock, is, destined, to, be, the, century...   \n",
            "1  [the, gorgeously, elaborate, continuation, of,...   \n",
            "2                           [effective, but, biopic]   \n",
            "3  [if, you, sometimes, like, to, go, to, the, mo...   \n",
            "4  [emerges, as, something, rare, an, issue, movi...   \n",
            "\n",
            "                            Text_con_token_punc_stop  \\\n",
            "0  [rock, destined, century, new, conan, going, m...   \n",
            "1  [gorgeously, elaborate, continuation, lord, ri...   \n",
            "2                                [effective, biopic]   \n",
            "3  [sometimes, like, go, movies, fun, wasabi, goo...   \n",
            "4  [emerges, something, rare, issue, movie, hones...   \n",
            "\n",
            "                      Text_con_token_punc_stop_lemma  compound_score  \\\n",
            "0  [rock, destined, century, new, conan, going, m...          0.3612   \n",
            "1  [gorgeously, elaborate, continuation, lord, ri...          0.7650   \n",
            "2                                [effective, biopic]          0.4767   \n",
            "3  [sometimes, like, go, movie, fun, wasabi, good...          0.8271   \n",
            "4  [emerges, something, rare, issue, movie, hones...          0.7783   \n",
            "\n",
            "   compound_score_2  Prediction_1  Prediction_2  \\\n",
            "0            0.3612             1             1   \n",
            "1            0.8069             1             1   \n",
            "2            0.2617             1             1   \n",
            "3            0.8271             1             1   \n",
            "4            0.6592             1             1   \n",
            "\n",
            "                                           sentiment  \n",
            "0  {'positive': 0.9554371237754822, 'negative': 0...  \n",
            "1  {'positive': 0.9720152020454407, 'negative': 0...  \n",
            "2  {'positive': 0.7490477561950684, 'negative': 0...  \n",
            "3  {'positive': 0.9914764761924744, 'negative': 0...  \n",
            "4  {'positive': 0.9787620306015015, 'negative': 0...  \n"
          ]
        }
      ]
    },
    {
      "cell_type": "code",
      "source": [
        "new_X[\"Prediction\"] = [1 if sentiment[\"positive\"] >= 0.5 else 0 for sentiment in new_X[\"sentiment\"]]\n",
        "\n",
        "print(new_X.head())\n",
        "print(\"Accuracy Score: \" + str(accuracy_score(y, new_X[\"Prediction\"])))"
      ],
      "metadata": {
        "colab": {
          "base_uri": "https://localhost:8080/"
        },
        "id": "l9qIBIHMefHP",
        "outputId": "af2717f5-7dfa-4797-fb09-e310f36919bc"
      },
      "execution_count": 56,
      "outputs": [
        {
          "output_type": "stream",
          "name": "stdout",
          "text": [
            "                                                Text  \\\n",
            "0  the rock is destined to be the 21st century's ...   \n",
            "1  the gorgeously elaborate continuation of \" the...   \n",
            "2                     effective but too-tepid biopic   \n",
            "3  if you sometimes like to go to the movies to h...   \n",
            "4  emerges as something rare , an issue movie tha...   \n",
            "\n",
            "                                            Text_con  \\\n",
            "0  the rock is destined to be the 21st century's ...   \n",
            "1  the gorgeously elaborate continuation of \" the...   \n",
            "2                     effective but too-tepid biopic   \n",
            "3  if you sometimes like to go to the movies to h...   \n",
            "4  emerges as something rare , an issue movie tha...   \n",
            "\n",
            "                                      Text_con_token  \\\n",
            "0  [the, rock, is, destined, to, be, the, 21st, c...   \n",
            "1  [the, gorgeously, elaborate, continuation, of,...   \n",
            "2                [effective, but, too-tepid, biopic]   \n",
            "3  [if, you, sometimes, like, to, go, to, the, mo...   \n",
            "4  [emerges, as, something, rare, ,, an, issue, m...   \n",
            "\n",
            "                                 Text_con_token_punc  \\\n",
            "0  [the, rock, is, destined, to, be, the, century...   \n",
            "1  [the, gorgeously, elaborate, continuation, of,...   \n",
            "2                           [effective, but, biopic]   \n",
            "3  [if, you, sometimes, like, to, go, to, the, mo...   \n",
            "4  [emerges, as, something, rare, an, issue, movi...   \n",
            "\n",
            "                            Text_con_token_punc_stop  \\\n",
            "0  [rock, destined, century, new, conan, going, m...   \n",
            "1  [gorgeously, elaborate, continuation, lord, ri...   \n",
            "2                                [effective, biopic]   \n",
            "3  [sometimes, like, go, movies, fun, wasabi, goo...   \n",
            "4  [emerges, something, rare, issue, movie, hones...   \n",
            "\n",
            "                      Text_con_token_punc_stop_lemma  compound_score  \\\n",
            "0  [rock, destined, century, new, conan, going, m...          0.3612   \n",
            "1  [gorgeously, elaborate, continuation, lord, ri...          0.7650   \n",
            "2                                [effective, biopic]          0.4767   \n",
            "3  [sometimes, like, go, movie, fun, wasabi, good...          0.8271   \n",
            "4  [emerges, something, rare, issue, movie, hones...          0.7783   \n",
            "\n",
            "   compound_score_2  Prediction_1  Prediction_2  \\\n",
            "0            0.3612             1             1   \n",
            "1            0.8069             1             1   \n",
            "2            0.2617             1             1   \n",
            "3            0.8271             1             1   \n",
            "4            0.6592             1             1   \n",
            "\n",
            "                                           sentiment  Prediction  \n",
            "0  {'positive': 0.9554371237754822, 'negative': 0...           1  \n",
            "1  {'positive': 0.9720152020454407, 'negative': 0...           1  \n",
            "2  {'positive': 0.7490477561950684, 'negative': 0...           1  \n",
            "3  {'positive': 0.9914764761924744, 'negative': 0...           1  \n",
            "4  {'positive': 0.9787620306015015, 'negative': 0...           1  \n",
            "Accuracy Score: 0.5634965297317577\n"
          ]
        }
      ]
    },
    {
      "cell_type": "markdown",
      "source": [
        "## Using SpacyTextBlob"
      ],
      "metadata": {
        "id": "kU_dzMTHfPTi"
      }
    },
    {
      "cell_type": "code",
      "source": [
        "#!pip install spacytextblob\n",
        "#!pip install spacy==3.7.1\n",
        "\n",
        "import spacy\n",
        "from spacytextblob.spacytextblob import SpacyTextBlob"
      ],
      "metadata": {
        "id": "B_OM9VhdfV9D"
      },
      "execution_count": 57,
      "outputs": []
    },
    {
      "cell_type": "code",
      "source": [
        "nlp = spacy.load(\"en_core_web_sm\")\n",
        "nlp.add_pipe(\"spacytextblob\")\n",
        "\n",
        "new_X = X\n",
        "new_X[\"polarity\"] = [nlp(text)._.blob.polarity for text in new_X[\"Text_con\"]]\n",
        "new_X[\"Prediction\"] = [1 if polarity > 0 else 0 for polarity in new_X[\"polarity\"]]\n",
        "\n",
        "print(new_X.head())\n",
        "print(\"Accuracy Score: \" + str(accuracy_score(y, new_X[\"Prediction\"])))"
      ],
      "metadata": {
        "colab": {
          "base_uri": "https://localhost:8080/",
          "height": 463
        },
        "id": "6_CNcnCLfnLx",
        "outputId": "c7fec24c-0b03-417d-a57f-5b9e3d0abdb3"
      },
      "execution_count": 58,
      "outputs": [
        {
          "output_type": "stream",
          "name": "stderr",
          "text": [
            "/usr/local/lib/python3.10/dist-packages/spacy/util.py:887: UserWarning: [W095] Model 'en_core_web_sm' (3.7.1) was trained with spaCy v3.7 and may not be 100% compatible with the current version (3.5.4). If you see errors or degraded performance, download a newer compatible model or retrain your custom model with the current spaCy version. For more details and available updates, run: python -m spacy validate\n",
            "  raise IOError(Errors.E052.format(path=path.parent))\n"
          ]
        },
        {
          "output_type": "error",
          "ename": "RegistryError",
          "evalue": "[E892] Unknown function registry: 'vectors'.\n\nAvailable names: architectures, augmenters, batchers, callbacks, cli, datasets, displacy_colors, factories, initializers, languages, layers, lemmatizers, loggers, lookups, losses, misc, models, ops, optimizers, readers, schedules, scorers, tokenizers",
          "traceback": [
            "\u001b[0;31m---------------------------------------------------------------------------\u001b[0m",
            "\u001b[0;31mRegistryError\u001b[0m                             Traceback (most recent call last)",
            "\u001b[0;32m<ipython-input-58-8c0489b401d6>\u001b[0m in \u001b[0;36m<cell line: 1>\u001b[0;34m()\u001b[0m\n\u001b[0;32m----> 1\u001b[0;31m \u001b[0mnlp\u001b[0m \u001b[0;34m=\u001b[0m \u001b[0mspacy\u001b[0m\u001b[0;34m.\u001b[0m\u001b[0mload\u001b[0m\u001b[0;34m(\u001b[0m\u001b[0;34m\"en_core_web_sm\"\u001b[0m\u001b[0;34m)\u001b[0m\u001b[0;34m\u001b[0m\u001b[0;34m\u001b[0m\u001b[0m\n\u001b[0m\u001b[1;32m      2\u001b[0m \u001b[0mnlp\u001b[0m\u001b[0;34m.\u001b[0m\u001b[0madd_pipe\u001b[0m\u001b[0;34m(\u001b[0m\u001b[0;34m\"spacytextblob\"\u001b[0m\u001b[0;34m)\u001b[0m\u001b[0;34m\u001b[0m\u001b[0;34m\u001b[0m\u001b[0m\n\u001b[1;32m      3\u001b[0m \u001b[0;34m\u001b[0m\u001b[0m\n\u001b[1;32m      4\u001b[0m \u001b[0mnew_X\u001b[0m \u001b[0;34m=\u001b[0m \u001b[0mX\u001b[0m\u001b[0;34m\u001b[0m\u001b[0;34m\u001b[0m\u001b[0m\n\u001b[1;32m      5\u001b[0m \u001b[0mnew_X\u001b[0m\u001b[0;34m[\u001b[0m\u001b[0;34m\"polarity\"\u001b[0m\u001b[0;34m]\u001b[0m \u001b[0;34m=\u001b[0m \u001b[0;34m[\u001b[0m\u001b[0mnlp\u001b[0m\u001b[0;34m(\u001b[0m\u001b[0mtext\u001b[0m\u001b[0;34m)\u001b[0m\u001b[0;34m.\u001b[0m\u001b[0m_\u001b[0m\u001b[0;34m.\u001b[0m\u001b[0mblob\u001b[0m\u001b[0;34m.\u001b[0m\u001b[0mpolarity\u001b[0m \u001b[0;32mfor\u001b[0m \u001b[0mtext\u001b[0m \u001b[0;32min\u001b[0m \u001b[0mnew_X\u001b[0m\u001b[0;34m[\u001b[0m\u001b[0;34m\"Text_con\"\u001b[0m\u001b[0;34m]\u001b[0m\u001b[0;34m]\u001b[0m\u001b[0;34m\u001b[0m\u001b[0;34m\u001b[0m\u001b[0m\n",
            "\u001b[0;32m/usr/local/lib/python3.10/dist-packages/spacy/__init__.py\u001b[0m in \u001b[0;36mload\u001b[0;34m(name, vocab, disable, enable, exclude, config)\u001b[0m\n\u001b[1;32m     52\u001b[0m     \u001b[0mRETURNS\u001b[0m \u001b[0;34m(\u001b[0m\u001b[0mLanguage\u001b[0m\u001b[0;34m)\u001b[0m\u001b[0;34m:\u001b[0m \u001b[0mThe\u001b[0m \u001b[0mloaded\u001b[0m \u001b[0mnlp\u001b[0m \u001b[0mobject\u001b[0m\u001b[0;34m.\u001b[0m\u001b[0;34m\u001b[0m\u001b[0;34m\u001b[0m\u001b[0m\n\u001b[1;32m     53\u001b[0m     \"\"\"\n\u001b[0;32m---> 54\u001b[0;31m     return util.load_model(\n\u001b[0m\u001b[1;32m     55\u001b[0m         \u001b[0mname\u001b[0m\u001b[0;34m,\u001b[0m\u001b[0;34m\u001b[0m\u001b[0;34m\u001b[0m\u001b[0m\n\u001b[1;32m     56\u001b[0m         \u001b[0mvocab\u001b[0m\u001b[0;34m=\u001b[0m\u001b[0mvocab\u001b[0m\u001b[0;34m,\u001b[0m\u001b[0;34m\u001b[0m\u001b[0;34m\u001b[0m\u001b[0m\n",
            "\u001b[0;32m/usr/local/lib/python3.10/dist-packages/spacy/util.py\u001b[0m in \u001b[0;36mload_model\u001b[0;34m(name, vocab, disable, enable, exclude, config)\u001b[0m\n\u001b[1;32m    440\u001b[0m             \u001b[0;32mreturn\u001b[0m \u001b[0mget_lang_class\u001b[0m\u001b[0;34m(\u001b[0m\u001b[0mname\u001b[0m\u001b[0;34m.\u001b[0m\u001b[0mreplace\u001b[0m\u001b[0;34m(\u001b[0m\u001b[0;34m\"blank:\"\u001b[0m\u001b[0;34m,\u001b[0m \u001b[0;34m\"\"\u001b[0m\u001b[0;34m)\u001b[0m\u001b[0;34m)\u001b[0m\u001b[0;34m(\u001b[0m\u001b[0;34m)\u001b[0m\u001b[0;34m\u001b[0m\u001b[0;34m\u001b[0m\u001b[0m\n\u001b[1;32m    441\u001b[0m         \u001b[0;32mif\u001b[0m \u001b[0mis_package\u001b[0m\u001b[0;34m(\u001b[0m\u001b[0mname\u001b[0m\u001b[0;34m)\u001b[0m\u001b[0;34m:\u001b[0m  \u001b[0;31m# installed as package\u001b[0m\u001b[0;34m\u001b[0m\u001b[0;34m\u001b[0m\u001b[0m\n\u001b[0;32m--> 442\u001b[0;31m             \u001b[0;32mreturn\u001b[0m \u001b[0mload_model_from_package\u001b[0m\u001b[0;34m(\u001b[0m\u001b[0mname\u001b[0m\u001b[0;34m,\u001b[0m \u001b[0;34m**\u001b[0m\u001b[0mkwargs\u001b[0m\u001b[0;34m)\u001b[0m  \u001b[0;31m# type: ignore[arg-type]\u001b[0m\u001b[0;34m\u001b[0m\u001b[0;34m\u001b[0m\u001b[0m\n\u001b[0m\u001b[1;32m    443\u001b[0m         \u001b[0;32mif\u001b[0m \u001b[0mPath\u001b[0m\u001b[0;34m(\u001b[0m\u001b[0mname\u001b[0m\u001b[0;34m)\u001b[0m\u001b[0;34m.\u001b[0m\u001b[0mexists\u001b[0m\u001b[0;34m(\u001b[0m\u001b[0;34m)\u001b[0m\u001b[0;34m:\u001b[0m  \u001b[0;31m# path to model data directory\u001b[0m\u001b[0;34m\u001b[0m\u001b[0;34m\u001b[0m\u001b[0m\n\u001b[1;32m    444\u001b[0m             \u001b[0;32mreturn\u001b[0m \u001b[0mload_model_from_path\u001b[0m\u001b[0;34m(\u001b[0m\u001b[0mPath\u001b[0m\u001b[0;34m(\u001b[0m\u001b[0mname\u001b[0m\u001b[0;34m)\u001b[0m\u001b[0;34m,\u001b[0m \u001b[0;34m**\u001b[0m\u001b[0mkwargs\u001b[0m\u001b[0;34m)\u001b[0m  \u001b[0;31m# type: ignore[arg-type]\u001b[0m\u001b[0;34m\u001b[0m\u001b[0;34m\u001b[0m\u001b[0m\n",
            "\u001b[0;32m/usr/local/lib/python3.10/dist-packages/spacy/util.py\u001b[0m in \u001b[0;36mload_model_from_package\u001b[0;34m(name, vocab, disable, enable, exclude, config)\u001b[0m\n\u001b[1;32m    476\u001b[0m     \"\"\"\n\u001b[1;32m    477\u001b[0m     \u001b[0mcls\u001b[0m \u001b[0;34m=\u001b[0m \u001b[0mimportlib\u001b[0m\u001b[0;34m.\u001b[0m\u001b[0mimport_module\u001b[0m\u001b[0;34m(\u001b[0m\u001b[0mname\u001b[0m\u001b[0;34m)\u001b[0m\u001b[0;34m\u001b[0m\u001b[0;34m\u001b[0m\u001b[0m\n\u001b[0;32m--> 478\u001b[0;31m     \u001b[0;32mreturn\u001b[0m \u001b[0mcls\u001b[0m\u001b[0;34m.\u001b[0m\u001b[0mload\u001b[0m\u001b[0;34m(\u001b[0m\u001b[0mvocab\u001b[0m\u001b[0;34m=\u001b[0m\u001b[0mvocab\u001b[0m\u001b[0;34m,\u001b[0m \u001b[0mdisable\u001b[0m\u001b[0;34m=\u001b[0m\u001b[0mdisable\u001b[0m\u001b[0;34m,\u001b[0m \u001b[0menable\u001b[0m\u001b[0;34m=\u001b[0m\u001b[0menable\u001b[0m\u001b[0;34m,\u001b[0m \u001b[0mexclude\u001b[0m\u001b[0;34m=\u001b[0m\u001b[0mexclude\u001b[0m\u001b[0;34m,\u001b[0m \u001b[0mconfig\u001b[0m\u001b[0;34m=\u001b[0m\u001b[0mconfig\u001b[0m\u001b[0;34m)\u001b[0m  \u001b[0;31m# type: ignore[attr-defined]\u001b[0m\u001b[0;34m\u001b[0m\u001b[0;34m\u001b[0m\u001b[0m\n\u001b[0m\u001b[1;32m    479\u001b[0m \u001b[0;34m\u001b[0m\u001b[0m\n\u001b[1;32m    480\u001b[0m \u001b[0;34m\u001b[0m\u001b[0m\n",
            "\u001b[0;32m/usr/local/lib/python3.10/dist-packages/en_core_web_sm/__init__.py\u001b[0m in \u001b[0;36mload\u001b[0;34m(**overrides)\u001b[0m\n\u001b[1;32m      8\u001b[0m \u001b[0;34m\u001b[0m\u001b[0m\n\u001b[1;32m      9\u001b[0m \u001b[0;32mdef\u001b[0m \u001b[0mload\u001b[0m\u001b[0;34m(\u001b[0m\u001b[0;34m**\u001b[0m\u001b[0moverrides\u001b[0m\u001b[0;34m)\u001b[0m\u001b[0;34m:\u001b[0m\u001b[0;34m\u001b[0m\u001b[0;34m\u001b[0m\u001b[0m\n\u001b[0;32m---> 10\u001b[0;31m     \u001b[0;32mreturn\u001b[0m \u001b[0mload_model_from_init_py\u001b[0m\u001b[0;34m(\u001b[0m\u001b[0m__file__\u001b[0m\u001b[0;34m,\u001b[0m \u001b[0;34m**\u001b[0m\u001b[0moverrides\u001b[0m\u001b[0;34m)\u001b[0m\u001b[0;34m\u001b[0m\u001b[0;34m\u001b[0m\u001b[0m\n\u001b[0m",
            "\u001b[0;32m/usr/local/lib/python3.10/dist-packages/spacy/util.py\u001b[0m in \u001b[0;36mload_model_from_init_py\u001b[0;34m(init_file, vocab, disable, enable, exclude, config)\u001b[0m\n\u001b[1;32m    657\u001b[0m     \u001b[0;32mif\u001b[0m \u001b[0;32mnot\u001b[0m \u001b[0mmodel_path\u001b[0m\u001b[0;34m.\u001b[0m\u001b[0mexists\u001b[0m\u001b[0;34m(\u001b[0m\u001b[0;34m)\u001b[0m\u001b[0;34m:\u001b[0m\u001b[0;34m\u001b[0m\u001b[0;34m\u001b[0m\u001b[0m\n\u001b[1;32m    658\u001b[0m         \u001b[0;32mraise\u001b[0m \u001b[0mIOError\u001b[0m\u001b[0;34m(\u001b[0m\u001b[0mErrors\u001b[0m\u001b[0;34m.\u001b[0m\u001b[0mE052\u001b[0m\u001b[0;34m.\u001b[0m\u001b[0mformat\u001b[0m\u001b[0;34m(\u001b[0m\u001b[0mpath\u001b[0m\u001b[0;34m=\u001b[0m\u001b[0mdata_path\u001b[0m\u001b[0;34m)\u001b[0m\u001b[0;34m)\u001b[0m\u001b[0;34m\u001b[0m\u001b[0;34m\u001b[0m\u001b[0m\n\u001b[0;32m--> 659\u001b[0;31m     return load_model_from_path(\n\u001b[0m\u001b[1;32m    660\u001b[0m         \u001b[0mdata_path\u001b[0m\u001b[0;34m,\u001b[0m\u001b[0;34m\u001b[0m\u001b[0;34m\u001b[0m\u001b[0m\n\u001b[1;32m    661\u001b[0m         \u001b[0mvocab\u001b[0m\u001b[0;34m=\u001b[0m\u001b[0mvocab\u001b[0m\u001b[0;34m,\u001b[0m\u001b[0;34m\u001b[0m\u001b[0;34m\u001b[0m\u001b[0m\n",
            "\u001b[0;32m/usr/local/lib/python3.10/dist-packages/spacy/util.py\u001b[0m in \u001b[0;36mload_model_from_path\u001b[0;34m(model_path, meta, vocab, disable, enable, exclude, config)\u001b[0m\n\u001b[1;32m    514\u001b[0m     \u001b[0moverrides\u001b[0m \u001b[0;34m=\u001b[0m \u001b[0mdict_to_dot\u001b[0m\u001b[0;34m(\u001b[0m\u001b[0mconfig\u001b[0m\u001b[0;34m,\u001b[0m \u001b[0mfor_overrides\u001b[0m\u001b[0;34m=\u001b[0m\u001b[0;32mTrue\u001b[0m\u001b[0;34m)\u001b[0m\u001b[0;34m\u001b[0m\u001b[0;34m\u001b[0m\u001b[0m\n\u001b[1;32m    515\u001b[0m     \u001b[0mconfig\u001b[0m \u001b[0;34m=\u001b[0m \u001b[0mload_config\u001b[0m\u001b[0;34m(\u001b[0m\u001b[0mconfig_path\u001b[0m\u001b[0;34m,\u001b[0m \u001b[0moverrides\u001b[0m\u001b[0;34m=\u001b[0m\u001b[0moverrides\u001b[0m\u001b[0;34m)\u001b[0m\u001b[0;34m\u001b[0m\u001b[0;34m\u001b[0m\u001b[0m\n\u001b[0;32m--> 516\u001b[0;31m     nlp = load_model_from_config(\n\u001b[0m\u001b[1;32m    517\u001b[0m         \u001b[0mconfig\u001b[0m\u001b[0;34m,\u001b[0m\u001b[0;34m\u001b[0m\u001b[0;34m\u001b[0m\u001b[0m\n\u001b[1;32m    518\u001b[0m         \u001b[0mvocab\u001b[0m\u001b[0;34m=\u001b[0m\u001b[0mvocab\u001b[0m\u001b[0;34m,\u001b[0m\u001b[0;34m\u001b[0m\u001b[0;34m\u001b[0m\u001b[0m\n",
            "\u001b[0;32m/usr/local/lib/python3.10/dist-packages/spacy/util.py\u001b[0m in \u001b[0;36mload_model_from_config\u001b[0;34m(config, meta, vocab, disable, enable, exclude, auto_fill, validate)\u001b[0m\n\u001b[1;32m    562\u001b[0m     \u001b[0;31m# registry, including custom subclasses provided via entry points\u001b[0m\u001b[0;34m\u001b[0m\u001b[0;34m\u001b[0m\u001b[0m\n\u001b[1;32m    563\u001b[0m     \u001b[0mlang_cls\u001b[0m \u001b[0;34m=\u001b[0m \u001b[0mget_lang_class\u001b[0m\u001b[0;34m(\u001b[0m\u001b[0mnlp_config\u001b[0m\u001b[0;34m[\u001b[0m\u001b[0;34m\"lang\"\u001b[0m\u001b[0;34m]\u001b[0m\u001b[0;34m)\u001b[0m\u001b[0;34m\u001b[0m\u001b[0;34m\u001b[0m\u001b[0m\n\u001b[0;32m--> 564\u001b[0;31m     nlp = lang_cls.from_config(\n\u001b[0m\u001b[1;32m    565\u001b[0m         \u001b[0mconfig\u001b[0m\u001b[0;34m,\u001b[0m\u001b[0;34m\u001b[0m\u001b[0;34m\u001b[0m\u001b[0m\n\u001b[1;32m    566\u001b[0m         \u001b[0mvocab\u001b[0m\u001b[0;34m=\u001b[0m\u001b[0mvocab\u001b[0m\u001b[0;34m,\u001b[0m\u001b[0;34m\u001b[0m\u001b[0;34m\u001b[0m\u001b[0m\n",
            "\u001b[0;32m/usr/local/lib/python3.10/dist-packages/spacy/language.py\u001b[0m in \u001b[0;36mfrom_config\u001b[0;34m(cls, config, vocab, disable, enable, exclude, meta, auto_fill, validate)\u001b[0m\n\u001b[1;32m   1763\u001b[0m             \u001b[0mfilled\u001b[0m\u001b[0;34m[\u001b[0m\u001b[0;34m\"pretraining\"\u001b[0m\u001b[0;34m]\u001b[0m \u001b[0;34m=\u001b[0m \u001b[0morig_pretraining\u001b[0m\u001b[0;34m\u001b[0m\u001b[0;34m\u001b[0m\u001b[0m\n\u001b[1;32m   1764\u001b[0m             \u001b[0mconfig\u001b[0m\u001b[0;34m[\u001b[0m\u001b[0;34m\"pretraining\"\u001b[0m\u001b[0;34m]\u001b[0m \u001b[0;34m=\u001b[0m \u001b[0morig_pretraining\u001b[0m\u001b[0;34m\u001b[0m\u001b[0;34m\u001b[0m\u001b[0m\n\u001b[0;32m-> 1765\u001b[0;31m         resolved_nlp = registry.resolve(\n\u001b[0m\u001b[1;32m   1766\u001b[0m             \u001b[0mfilled\u001b[0m\u001b[0;34m[\u001b[0m\u001b[0;34m\"nlp\"\u001b[0m\u001b[0;34m]\u001b[0m\u001b[0;34m,\u001b[0m \u001b[0mvalidate\u001b[0m\u001b[0;34m=\u001b[0m\u001b[0mvalidate\u001b[0m\u001b[0;34m,\u001b[0m \u001b[0mschema\u001b[0m\u001b[0;34m=\u001b[0m\u001b[0mConfigSchemaNlp\u001b[0m\u001b[0;34m\u001b[0m\u001b[0;34m\u001b[0m\u001b[0m\n\u001b[1;32m   1767\u001b[0m         )\n",
            "\u001b[0;32m/usr/local/lib/python3.10/dist-packages/confection/__init__.py\u001b[0m in \u001b[0;36mresolve\u001b[0;34m(cls, config, schema, overrides, validate)\u001b[0m\n\u001b[1;32m    758\u001b[0m         \u001b[0mvalidate\u001b[0m\u001b[0;34m:\u001b[0m \u001b[0mbool\u001b[0m \u001b[0;34m=\u001b[0m \u001b[0;32mTrue\u001b[0m\u001b[0;34m,\u001b[0m\u001b[0;34m\u001b[0m\u001b[0;34m\u001b[0m\u001b[0m\n\u001b[1;32m    759\u001b[0m     ) -> Dict[str, Any]:\n\u001b[0;32m--> 760\u001b[0;31m         resolved, _ = cls._make(\n\u001b[0m\u001b[1;32m    761\u001b[0m             \u001b[0mconfig\u001b[0m\u001b[0;34m,\u001b[0m \u001b[0mschema\u001b[0m\u001b[0;34m=\u001b[0m\u001b[0mschema\u001b[0m\u001b[0;34m,\u001b[0m \u001b[0moverrides\u001b[0m\u001b[0;34m=\u001b[0m\u001b[0moverrides\u001b[0m\u001b[0;34m,\u001b[0m \u001b[0mvalidate\u001b[0m\u001b[0;34m=\u001b[0m\u001b[0mvalidate\u001b[0m\u001b[0;34m,\u001b[0m \u001b[0mresolve\u001b[0m\u001b[0;34m=\u001b[0m\u001b[0;32mTrue\u001b[0m\u001b[0;34m\u001b[0m\u001b[0;34m\u001b[0m\u001b[0m\n\u001b[1;32m    762\u001b[0m         )\n",
            "\u001b[0;32m/usr/local/lib/python3.10/dist-packages/confection/__init__.py\u001b[0m in \u001b[0;36m_make\u001b[0;34m(cls, config, schema, overrides, resolve, validate)\u001b[0m\n\u001b[1;32m    807\u001b[0m         \u001b[0;32mif\u001b[0m \u001b[0;32mnot\u001b[0m \u001b[0mis_interpolated\u001b[0m\u001b[0;34m:\u001b[0m\u001b[0;34m\u001b[0m\u001b[0;34m\u001b[0m\u001b[0m\n\u001b[1;32m    808\u001b[0m             \u001b[0mconfig\u001b[0m \u001b[0;34m=\u001b[0m \u001b[0mConfig\u001b[0m\u001b[0;34m(\u001b[0m\u001b[0morig_config\u001b[0m\u001b[0;34m)\u001b[0m\u001b[0;34m.\u001b[0m\u001b[0minterpolate\u001b[0m\u001b[0;34m(\u001b[0m\u001b[0;34m)\u001b[0m\u001b[0;34m\u001b[0m\u001b[0;34m\u001b[0m\u001b[0m\n\u001b[0;32m--> 809\u001b[0;31m         filled, _, resolved = cls._fill(\n\u001b[0m\u001b[1;32m    810\u001b[0m             \u001b[0mconfig\u001b[0m\u001b[0;34m,\u001b[0m \u001b[0mschema\u001b[0m\u001b[0;34m,\u001b[0m \u001b[0mvalidate\u001b[0m\u001b[0;34m=\u001b[0m\u001b[0mvalidate\u001b[0m\u001b[0;34m,\u001b[0m \u001b[0moverrides\u001b[0m\u001b[0;34m=\u001b[0m\u001b[0moverrides\u001b[0m\u001b[0;34m,\u001b[0m \u001b[0mresolve\u001b[0m\u001b[0;34m=\u001b[0m\u001b[0mresolve\u001b[0m\u001b[0;34m\u001b[0m\u001b[0;34m\u001b[0m\u001b[0m\n\u001b[1;32m    811\u001b[0m         )\n",
            "\u001b[0;32m/usr/local/lib/python3.10/dist-packages/confection/__init__.py\u001b[0m in \u001b[0;36m_fill\u001b[0;34m(cls, config, schema, validate, resolve, parent, overrides)\u001b[0m\n\u001b[1;32m    861\u001b[0m                     \u001b[0mfield\u001b[0m \u001b[0;34m=\u001b[0m \u001b[0mschema\u001b[0m\u001b[0;34m.\u001b[0m\u001b[0m__fields__\u001b[0m\u001b[0;34m[\u001b[0m\u001b[0mkey\u001b[0m\u001b[0;34m]\u001b[0m\u001b[0;34m\u001b[0m\u001b[0;34m\u001b[0m\u001b[0m\n\u001b[1;32m    862\u001b[0m                     \u001b[0mschema\u001b[0m\u001b[0;34m.\u001b[0m\u001b[0m__fields__\u001b[0m\u001b[0;34m[\u001b[0m\u001b[0mkey\u001b[0m\u001b[0;34m]\u001b[0m \u001b[0;34m=\u001b[0m \u001b[0mcopy_model_field\u001b[0m\u001b[0;34m(\u001b[0m\u001b[0mfield\u001b[0m\u001b[0;34m,\u001b[0m \u001b[0mAny\u001b[0m\u001b[0;34m)\u001b[0m\u001b[0;34m\u001b[0m\u001b[0;34m\u001b[0m\u001b[0m\n\u001b[0;32m--> 863\u001b[0;31m                 \u001b[0mpromise_schema\u001b[0m \u001b[0;34m=\u001b[0m \u001b[0mcls\u001b[0m\u001b[0;34m.\u001b[0m\u001b[0mmake_promise_schema\u001b[0m\u001b[0;34m(\u001b[0m\u001b[0mvalue\u001b[0m\u001b[0;34m,\u001b[0m \u001b[0mresolve\u001b[0m\u001b[0;34m=\u001b[0m\u001b[0mresolve\u001b[0m\u001b[0;34m)\u001b[0m\u001b[0;34m\u001b[0m\u001b[0;34m\u001b[0m\u001b[0m\n\u001b[0m\u001b[1;32m    864\u001b[0m                 filled[key], validation[v_key], final[key] = cls._fill(\n\u001b[1;32m    865\u001b[0m                     \u001b[0mvalue\u001b[0m\u001b[0;34m,\u001b[0m\u001b[0;34m\u001b[0m\u001b[0;34m\u001b[0m\u001b[0m\n",
            "\u001b[0;32m/usr/local/lib/python3.10/dist-packages/confection/__init__.py\u001b[0m in \u001b[0;36mmake_promise_schema\u001b[0;34m(cls, obj, resolve)\u001b[0m\n\u001b[1;32m   1067\u001b[0m         \u001b[0;32mif\u001b[0m \u001b[0;32mnot\u001b[0m \u001b[0mresolve\u001b[0m \u001b[0;32mand\u001b[0m \u001b[0;32mnot\u001b[0m \u001b[0mcls\u001b[0m\u001b[0;34m.\u001b[0m\u001b[0mhas\u001b[0m\u001b[0;34m(\u001b[0m\u001b[0mreg_name\u001b[0m\u001b[0;34m,\u001b[0m \u001b[0mfunc_name\u001b[0m\u001b[0;34m)\u001b[0m\u001b[0;34m:\u001b[0m\u001b[0;34m\u001b[0m\u001b[0;34m\u001b[0m\u001b[0m\n\u001b[1;32m   1068\u001b[0m             \u001b[0;32mreturn\u001b[0m \u001b[0mEmptySchema\u001b[0m\u001b[0;34m\u001b[0m\u001b[0;34m\u001b[0m\u001b[0m\n\u001b[0;32m-> 1069\u001b[0;31m         \u001b[0mfunc\u001b[0m \u001b[0;34m=\u001b[0m \u001b[0mcls\u001b[0m\u001b[0;34m.\u001b[0m\u001b[0mget\u001b[0m\u001b[0;34m(\u001b[0m\u001b[0mreg_name\u001b[0m\u001b[0;34m,\u001b[0m \u001b[0mfunc_name\u001b[0m\u001b[0;34m)\u001b[0m\u001b[0;34m\u001b[0m\u001b[0;34m\u001b[0m\u001b[0m\n\u001b[0m\u001b[1;32m   1070\u001b[0m         \u001b[0;31m# Read the argument annotations and defaults from the function signature\u001b[0m\u001b[0;34m\u001b[0m\u001b[0;34m\u001b[0m\u001b[0m\n\u001b[1;32m   1071\u001b[0m         \u001b[0mid_keys\u001b[0m \u001b[0;34m=\u001b[0m \u001b[0;34m[\u001b[0m\u001b[0mk\u001b[0m \u001b[0;32mfor\u001b[0m \u001b[0mk\u001b[0m \u001b[0;32min\u001b[0m \u001b[0mobj\u001b[0m\u001b[0;34m.\u001b[0m\u001b[0mkeys\u001b[0m\u001b[0;34m(\u001b[0m\u001b[0;34m)\u001b[0m \u001b[0;32mif\u001b[0m \u001b[0mk\u001b[0m\u001b[0;34m.\u001b[0m\u001b[0mstartswith\u001b[0m\u001b[0;34m(\u001b[0m\u001b[0;34m\"@\"\u001b[0m\u001b[0;34m)\u001b[0m\u001b[0;34m]\u001b[0m\u001b[0;34m\u001b[0m\u001b[0;34m\u001b[0m\u001b[0m\n",
            "\u001b[0;32m/usr/local/lib/python3.10/dist-packages/spacy/util.py\u001b[0m in \u001b[0;36mget\u001b[0;34m(cls, registry_name, func_name)\u001b[0m\n\u001b[1;32m    126\u001b[0m         \u001b[0;32mif\u001b[0m \u001b[0;32mnot\u001b[0m \u001b[0mhasattr\u001b[0m\u001b[0;34m(\u001b[0m\u001b[0mcls\u001b[0m\u001b[0;34m,\u001b[0m \u001b[0mregistry_name\u001b[0m\u001b[0;34m)\u001b[0m\u001b[0;34m:\u001b[0m\u001b[0;34m\u001b[0m\u001b[0;34m\u001b[0m\u001b[0m\n\u001b[1;32m    127\u001b[0m             \u001b[0mnames\u001b[0m \u001b[0;34m=\u001b[0m \u001b[0;34m\", \"\u001b[0m\u001b[0;34m.\u001b[0m\u001b[0mjoin\u001b[0m\u001b[0;34m(\u001b[0m\u001b[0mcls\u001b[0m\u001b[0;34m.\u001b[0m\u001b[0mget_registry_names\u001b[0m\u001b[0;34m(\u001b[0m\u001b[0;34m)\u001b[0m\u001b[0;34m)\u001b[0m \u001b[0;32mor\u001b[0m \u001b[0;34m\"none\"\u001b[0m\u001b[0;34m\u001b[0m\u001b[0;34m\u001b[0m\u001b[0m\n\u001b[0;32m--> 128\u001b[0;31m             \u001b[0;32mraise\u001b[0m \u001b[0mRegistryError\u001b[0m\u001b[0;34m(\u001b[0m\u001b[0mErrors\u001b[0m\u001b[0;34m.\u001b[0m\u001b[0mE892\u001b[0m\u001b[0;34m.\u001b[0m\u001b[0mformat\u001b[0m\u001b[0;34m(\u001b[0m\u001b[0mname\u001b[0m\u001b[0;34m=\u001b[0m\u001b[0mregistry_name\u001b[0m\u001b[0;34m,\u001b[0m \u001b[0mavailable\u001b[0m\u001b[0;34m=\u001b[0m\u001b[0mnames\u001b[0m\u001b[0;34m)\u001b[0m\u001b[0;34m)\u001b[0m\u001b[0;34m\u001b[0m\u001b[0;34m\u001b[0m\u001b[0m\n\u001b[0m\u001b[1;32m    129\u001b[0m         \u001b[0mreg\u001b[0m \u001b[0;34m=\u001b[0m \u001b[0mgetattr\u001b[0m\u001b[0;34m(\u001b[0m\u001b[0mcls\u001b[0m\u001b[0;34m,\u001b[0m \u001b[0mregistry_name\u001b[0m\u001b[0;34m)\u001b[0m\u001b[0;34m\u001b[0m\u001b[0;34m\u001b[0m\u001b[0m\n\u001b[1;32m    130\u001b[0m         \u001b[0;32mtry\u001b[0m\u001b[0;34m:\u001b[0m\u001b[0;34m\u001b[0m\u001b[0;34m\u001b[0m\u001b[0m\n",
            "\u001b[0;31mRegistryError\u001b[0m: [E892] Unknown function registry: 'vectors'.\n\nAvailable names: architectures, augmenters, batchers, callbacks, cli, datasets, displacy_colors, factories, initializers, languages, layers, lemmatizers, loggers, lookups, losses, misc, models, ops, optimizers, readers, schedules, scorers, tokenizers"
          ]
        }
      ]
    }
  ]
}