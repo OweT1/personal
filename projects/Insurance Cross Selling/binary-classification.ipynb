{
 "cells": [
  {
   "cell_type": "markdown",
   "metadata": {},
   "source": [
    "# Importing of Packages"
   ]
  },
  {
   "cell_type": "code",
   "execution_count": 44,
   "metadata": {
    "execution": {
     "iopub.execute_input": "2024-07-26T13:10:22.094054Z",
     "iopub.status.busy": "2024-07-26T13:10:22.093583Z",
     "iopub.status.idle": "2024-07-26T13:10:23.616362Z",
     "shell.execute_reply": "2024-07-26T13:10:23.615264Z",
     "shell.execute_reply.started": "2024-07-26T13:10:22.094022Z"
    }
   },
   "outputs": [],
   "source": [
    "import numpy as np\n",
    "import pandas as pd\n",
    "import matplotlib.pyplot as plt\n",
    "import seaborn as sns\n",
    "from sklearn.preprocessing import OneHotEncoder, MinMaxScaler, StandardScaler\n",
    "from sklearn.model_selection import train_test_split\n",
    "from sklearn.linear_model import LogisticRegression, RidgeClassifier, SGDClassifier\n",
    "from sklearn.neighbors import KNeighborsClassifier\n",
    "from sklearn.naive_bayes import GaussianNB\n",
    "# from sklearn.svm import SVC, LinearSVC - too slow\n",
    "from sklearn.tree import DecisionTreeClassifier\n",
    "# from sklearn.ensemble import RandomForestClassifier, AdaBoostClassifier, BaggingClassifier, ExtraTreesClassifier -  too slow\n",
    "from sklearn.metrics import roc_auc_score, accuracy_score"
   ]
  },
  {
   "cell_type": "markdown",
   "metadata": {},
   "source": [
    "# Reading in of Data"
   ]
  },
  {
   "cell_type": "code",
   "execution_count": 2,
   "metadata": {
    "execution": {
     "iopub.execute_input": "2024-07-26T13:10:23.618113Z",
     "iopub.status.busy": "2024-07-26T13:10:23.617755Z",
     "iopub.status.idle": "2024-07-26T13:10:44.960878Z",
     "shell.execute_reply": "2024-07-26T13:10:44.959697Z",
     "shell.execute_reply.started": "2024-07-26T13:10:23.618085Z"
    }
   },
   "outputs": [],
   "source": [
    "df = pd.read_csv(\"train.csv\")"
   ]
  },
  {
   "cell_type": "markdown",
   "metadata": {},
   "source": [
    "# Exploring our Dataset"
   ]
  },
  {
   "cell_type": "code",
   "execution_count": 4,
   "metadata": {
    "execution": {
     "iopub.execute_input": "2024-07-26T13:10:44.963814Z",
     "iopub.status.busy": "2024-07-26T13:10:44.963421Z",
     "iopub.status.idle": "2024-07-26T13:10:44.984968Z",
     "shell.execute_reply": "2024-07-26T13:10:44.983809Z",
     "shell.execute_reply.started": "2024-07-26T13:10:44.963784Z"
    }
   },
   "outputs": [
    {
     "name": "stdout",
     "output_type": "stream",
     "text": [
      "   id  Gender  Age  Driving_License  Region_Code  Previously_Insured  \\\n",
      "0   0    Male   21                1         35.0                   0   \n",
      "1   1    Male   43                1         28.0                   0   \n",
      "2   2  Female   25                1         14.0                   1   \n",
      "3   3  Female   35                1          1.0                   0   \n",
      "4   4  Female   36                1         15.0                   1   \n",
      "\n",
      "  Vehicle_Age Vehicle_Damage  Annual_Premium  Policy_Sales_Channel  Vintage  \\\n",
      "0    1-2 Year            Yes         65101.0                 124.0      187   \n",
      "1   > 2 Years            Yes         58911.0                  26.0      288   \n",
      "2    < 1 Year             No         38043.0                 152.0      254   \n",
      "3    1-2 Year            Yes          2630.0                 156.0       76   \n",
      "4    1-2 Year             No         31951.0                 152.0      294   \n",
      "\n",
      "   Response  \n",
      "0         0  \n",
      "1         1  \n",
      "2         0  \n",
      "3         0  \n",
      "4         0  \n",
      "(11504798, 12)\n"
     ]
    }
   ],
   "source": [
    "print(df.head())\n",
    "print(df.shape)"
   ]
  },
  {
   "cell_type": "code",
   "execution_count": 5,
   "metadata": {
    "execution": {
     "iopub.execute_input": "2024-07-26T13:10:44.986583Z",
     "iopub.status.busy": "2024-07-26T13:10:44.986220Z",
     "iopub.status.idle": "2024-07-26T13:10:44.993635Z",
     "shell.execute_reply": "2024-07-26T13:10:44.992308Z",
     "shell.execute_reply.started": "2024-07-26T13:10:44.986550Z"
    }
   },
   "outputs": [
    {
     "name": "stdout",
     "output_type": "stream",
     "text": [
      "id                        int64\n",
      "Gender                   object\n",
      "Age                       int64\n",
      "Driving_License           int64\n",
      "Region_Code             float64\n",
      "Previously_Insured        int64\n",
      "Vehicle_Age              object\n",
      "Vehicle_Damage           object\n",
      "Annual_Premium          float64\n",
      "Policy_Sales_Channel    float64\n",
      "Vintage                   int64\n",
      "Response                  int64\n",
      "dtype: object\n"
     ]
    }
   ],
   "source": [
    "print(df.dtypes)"
   ]
  },
  {
   "cell_type": "code",
   "execution_count": 6,
   "metadata": {
    "execution": {
     "iopub.execute_input": "2024-07-26T13:10:44.995144Z",
     "iopub.status.busy": "2024-07-26T13:10:44.994819Z",
     "iopub.status.idle": "2024-07-26T13:10:46.743049Z",
     "shell.execute_reply": "2024-07-26T13:10:46.741963Z",
     "shell.execute_reply.started": "2024-07-26T13:10:44.995116Z"
    }
   },
   "outputs": [
    {
     "name": "stdout",
     "output_type": "stream",
     "text": [
      "id                      0\n",
      "Gender                  0\n",
      "Age                     0\n",
      "Driving_License         0\n",
      "Region_Code             0\n",
      "Previously_Insured      0\n",
      "Vehicle_Age             0\n",
      "Vehicle_Damage          0\n",
      "Annual_Premium          0\n",
      "Policy_Sales_Channel    0\n",
      "Vintage                 0\n",
      "Response                0\n",
      "dtype: int64\n"
     ]
    }
   ],
   "source": [
    "print(df.isna().sum())"
   ]
  },
  {
   "cell_type": "code",
   "execution_count": 7,
   "metadata": {
    "execution": {
     "iopub.execute_input": "2024-07-26T13:10:46.744673Z",
     "iopub.status.busy": "2024-07-26T13:10:46.744318Z",
     "iopub.status.idle": "2024-07-26T13:10:46.864159Z",
     "shell.execute_reply": "2024-07-26T13:10:46.863068Z",
     "shell.execute_reply.started": "2024-07-26T13:10:46.744645Z"
    }
   },
   "outputs": [
    {
     "name": "stdout",
     "output_type": "stream",
     "text": [
      "Response\n",
      "0    10089739\n",
      "1     1415059\n",
      "Name: count, dtype: int64\n"
     ]
    }
   ],
   "source": [
    "print(df[\"Response\"].value_counts())"
   ]
  },
  {
   "cell_type": "code",
   "execution_count": 8,
   "metadata": {
    "execution": {
     "iopub.execute_input": "2024-07-26T13:10:46.865584Z",
     "iopub.status.busy": "2024-07-26T13:10:46.865231Z",
     "iopub.status.idle": "2024-07-26T13:10:50.740600Z",
     "shell.execute_reply": "2024-07-26T13:10:50.739385Z",
     "shell.execute_reply.started": "2024-07-26T13:10:46.865556Z"
    }
   },
   "outputs": [
    {
     "name": "stdout",
     "output_type": "stream",
     "text": [
      "                 id           Age  Driving_License   Region_Code  \\\n",
      "count  1.150480e+07  1.150480e+07     1.150480e+07  1.150480e+07   \n",
      "mean   5.752398e+06  3.838356e+01     9.980220e-01  2.641869e+01   \n",
      "std    3.321149e+06  1.499346e+01     4.443120e-02  1.299159e+01   \n",
      "min    0.000000e+00  2.000000e+01     0.000000e+00  0.000000e+00   \n",
      "25%    2.876199e+06  2.400000e+01     1.000000e+00  1.500000e+01   \n",
      "50%    5.752398e+06  3.600000e+01     1.000000e+00  2.800000e+01   \n",
      "75%    8.628598e+06  4.900000e+01     1.000000e+00  3.500000e+01   \n",
      "max    1.150480e+07  8.500000e+01     1.000000e+00  5.200000e+01   \n",
      "\n",
      "       Previously_Insured  Annual_Premium  Policy_Sales_Channel       Vintage  \\\n",
      "count        1.150480e+07    1.150480e+07          1.150480e+07  1.150480e+07   \n",
      "mean         4.629966e-01    3.046137e+04          1.124254e+02  1.638977e+02   \n",
      "std          4.986289e-01    1.645475e+04          5.403571e+01  7.997953e+01   \n",
      "min          0.000000e+00    2.630000e+03          1.000000e+00  1.000000e+01   \n",
      "25%          0.000000e+00    2.527700e+04          2.900000e+01  9.900000e+01   \n",
      "50%          0.000000e+00    3.182400e+04          1.510000e+02  1.660000e+02   \n",
      "75%          1.000000e+00    3.945100e+04          1.520000e+02  2.320000e+02   \n",
      "max          1.000000e+00    5.401650e+05          1.630000e+02  2.990000e+02   \n",
      "\n",
      "           Response  \n",
      "count  1.150480e+07  \n",
      "mean   1.229973e-01  \n",
      "std    3.284341e-01  \n",
      "min    0.000000e+00  \n",
      "25%    0.000000e+00  \n",
      "50%    0.000000e+00  \n",
      "75%    0.000000e+00  \n",
      "max    1.000000e+00  \n"
     ]
    }
   ],
   "source": [
    "print(df.describe())"
   ]
  },
  {
   "cell_type": "code",
   "execution_count": 9,
   "metadata": {
    "execution": {
     "iopub.execute_input": "2024-07-26T13:10:50.742771Z",
     "iopub.status.busy": "2024-07-26T13:10:50.742319Z",
     "iopub.status.idle": "2024-07-26T13:10:52.963137Z",
     "shell.execute_reply": "2024-07-26T13:10:52.961890Z",
     "shell.execute_reply.started": "2024-07-26T13:10:50.742729Z"
    }
   },
   "outputs": [
    {
     "name": "stdout",
     "output_type": "stream",
     "text": [
      "['Male' 'Female']\n",
      "['1-2 Year' '> 2 Years' '< 1 Year']\n",
      "['Yes' 'No']\n"
     ]
    }
   ],
   "source": [
    "print(pd.unique(df['Gender']))\n",
    "print(pd.unique(df['Vehicle_Age']))\n",
    "print(pd.unique(df['Vehicle_Damage']))"
   ]
  },
  {
   "cell_type": "markdown",
   "metadata": {},
   "source": [
    "# Encoding of Categorical Variables\n",
    "We have a few categorical variables that we will need to encode in order for them to be useful for our machine learning techniques. These are `Gender`, `Vehicle_Age`, `Vehicle_Damage`. We will one hot encode them using `sklearn.preprocessing`'s `OneHotEncoder()`."
   ]
  },
  {
   "cell_type": "code",
   "execution_count": 10,
   "metadata": {
    "execution": {
     "iopub.execute_input": "2024-07-26T13:10:52.967543Z",
     "iopub.status.busy": "2024-07-26T13:10:52.967175Z",
     "iopub.status.idle": "2024-07-26T13:11:08.273680Z",
     "shell.execute_reply": "2024-07-26T13:11:08.272382Z",
     "shell.execute_reply.started": "2024-07-26T13:10:52.967514Z"
    }
   },
   "outputs": [
    {
     "name": "stdout",
     "output_type": "stream",
     "text": [
      "   id  Age  Driving_License  Region_Code  Previously_Insured  Annual_Premium  \\\n",
      "0   0   21                1         35.0                   0         65101.0   \n",
      "1   1   43                1         28.0                   0         58911.0   \n",
      "2   2   25                1         14.0                   1         38043.0   \n",
      "3   3   35                1          1.0                   0          2630.0   \n",
      "4   4   36                1         15.0                   1         31951.0   \n",
      "\n",
      "   Policy_Sales_Channel  Vintage  Response  Gender_Male  Vehicle_Age_< 1 Year  \\\n",
      "0                 124.0      187         0          1.0                   0.0   \n",
      "1                  26.0      288         1          1.0                   0.0   \n",
      "2                 152.0      254         0          0.0                   1.0   \n",
      "3                 156.0       76         0          0.0                   0.0   \n",
      "4                 152.0      294         0          0.0                   0.0   \n",
      "\n",
      "   Vehicle_Age_> 2 Years  Vehicle_Damage_Yes  \n",
      "0                    0.0                 1.0  \n",
      "1                    1.0                 1.0  \n",
      "2                    0.0                 0.0  \n",
      "3                    0.0                 1.0  \n",
      "4                    0.0                 0.0  \n"
     ]
    }
   ],
   "source": [
    "categorical_var = ['Gender', 'Vehicle_Age', 'Vehicle_Damage']\n",
    "\n",
    "encoder = OneHotEncoder(drop = 'first', sparse_output = False)\n",
    "\n",
    "one_hot_encoded = encoder.fit_transform(df[categorical_var])\n",
    "one_hot_df = pd.DataFrame(one_hot_encoded, columns = encoder.get_feature_names_out(categorical_var))\n",
    "\n",
    "new_df = pd.concat([df, one_hot_df], axis = 1)\n",
    "new_df = new_df.drop(categorical_var, axis = 1)\n",
    "\n",
    "print(new_df.head())"
   ]
  },
  {
   "cell_type": "markdown",
   "metadata": {},
   "source": [
    "# Dropping of irrelevant features\n",
    "We will drop the `id` column, since it does not provide us any useful information."
   ]
  },
  {
   "cell_type": "code",
   "execution_count": 11,
   "metadata": {
    "execution": {
     "iopub.execute_input": "2024-07-26T13:11:08.275414Z",
     "iopub.status.busy": "2024-07-26T13:11:08.275038Z",
     "iopub.status.idle": "2024-07-26T13:11:08.700629Z",
     "shell.execute_reply": "2024-07-26T13:11:08.699301Z",
     "shell.execute_reply.started": "2024-07-26T13:11:08.275368Z"
    }
   },
   "outputs": [
    {
     "name": "stdout",
     "output_type": "stream",
     "text": [
      "   Age  Driving_License  Region_Code  Previously_Insured  Annual_Premium  \\\n",
      "0   21                1         35.0                   0         65101.0   \n",
      "1   43                1         28.0                   0         58911.0   \n",
      "2   25                1         14.0                   1         38043.0   \n",
      "3   35                1          1.0                   0          2630.0   \n",
      "4   36                1         15.0                   1         31951.0   \n",
      "\n",
      "   Policy_Sales_Channel  Vintage  Response  Gender_Male  Vehicle_Age_< 1 Year  \\\n",
      "0                 124.0      187         0          1.0                   0.0   \n",
      "1                  26.0      288         1          1.0                   0.0   \n",
      "2                 152.0      254         0          0.0                   1.0   \n",
      "3                 156.0       76         0          0.0                   0.0   \n",
      "4                 152.0      294         0          0.0                   0.0   \n",
      "\n",
      "   Vehicle_Age_> 2 Years  Vehicle_Damage_Yes  \n",
      "0                    0.0                 1.0  \n",
      "1                    1.0                 1.0  \n",
      "2                    0.0                 0.0  \n",
      "3                    0.0                 1.0  \n",
      "4                    0.0                 0.0  \n"
     ]
    }
   ],
   "source": [
    "new_df = new_df.drop(['id'], axis = 1)\n",
    "print(new_df.head())"
   ]
  },
  {
   "cell_type": "markdown",
   "metadata": {},
   "source": [
    "# Splitting of Train & Test Data"
   ]
  },
  {
   "cell_type": "code",
   "execution_count": 12,
   "metadata": {
    "execution": {
     "iopub.execute_input": "2024-07-26T13:11:08.702289Z",
     "iopub.status.busy": "2024-07-26T13:11:08.701947Z",
     "iopub.status.idle": "2024-07-26T13:11:15.856380Z",
     "shell.execute_reply": "2024-07-26T13:11:15.855322Z",
     "shell.execute_reply.started": "2024-07-26T13:11:08.702260Z"
    }
   },
   "outputs": [],
   "source": [
    "X = new_df.drop('Response', axis = 1)\n",
    "y = new_df[['Response']]\n",
    "\n",
    "X_train, X_test, y_train, y_test = train_test_split(X, y, test_size = 0.2, stratify = y)\n",
    "\n",
    "X_train.reset_index(inplace = True, drop = True)\n",
    "X_test.reset_index(inplace = True, drop = True)\n",
    "y_train.reset_index(inplace = True, drop = True)\n",
    "y_test.reset_index(inplace = True, drop = True)"
   ]
  },
  {
   "cell_type": "code",
   "execution_count": 13,
   "metadata": {
    "execution": {
     "iopub.execute_input": "2024-07-26T13:11:15.857718Z",
     "iopub.status.busy": "2024-07-26T13:11:15.857383Z",
     "iopub.status.idle": "2024-07-26T13:11:15.869068Z",
     "shell.execute_reply": "2024-07-26T13:11:15.867981Z",
     "shell.execute_reply.started": "2024-07-26T13:11:15.857690Z"
    }
   },
   "outputs": [
    {
     "name": "stdout",
     "output_type": "stream",
     "text": [
      "   Age  Driving_License  Region_Code  Previously_Insured  Annual_Premium  \\\n",
      "0   57                1         28.0                   1         50503.0   \n",
      "1   21                1         35.0                   0          2630.0   \n",
      "2   40                1         28.0                   0         36699.0   \n",
      "3   40                1         28.0                   1         42603.0   \n",
      "4   21                1         34.0                   0         37170.0   \n",
      "\n",
      "   Policy_Sales_Channel  Vintage  Gender_Male  Vehicle_Age_< 1 Year  \\\n",
      "0                  52.0       47          1.0                   0.0   \n",
      "1                 154.0      164          1.0                   1.0   \n",
      "2                 156.0      288          1.0                   0.0   \n",
      "3                 124.0       67          0.0                   0.0   \n",
      "4                 152.0      110          0.0                   1.0   \n",
      "\n",
      "   Vehicle_Age_> 2 Years  Vehicle_Damage_Yes  \n",
      "0                    0.0                 0.0  \n",
      "1                    0.0                 1.0  \n",
      "2                    1.0                 1.0  \n",
      "3                    0.0                 0.0  \n",
      "4                    0.0                 1.0  \n",
      "   Response\n",
      "0         0\n",
      "1         0\n",
      "2         0\n",
      "3         0\n",
      "4         0\n"
     ]
    }
   ],
   "source": [
    "print(X_train.head())\n",
    "print(y_train.head())"
   ]
  },
  {
   "cell_type": "code",
   "execution_count": 14,
   "metadata": {},
   "outputs": [
    {
     "data": {
      "image/png": "[encoded data removed]",
      "text/plain": [
       "<Figure size 640x480 with 2 Axes>"
      ]
     },
     "metadata": {},
     "output_type": "display_data"
    },
    {
     "data": {
      "text/html": [
       "<div>\n",
       "<style scoped>\n",
       "    .dataframe tbody tr th:only-of-type {\n",
       "        vertical-align: middle;\n",
       "    }\n",
       "\n",
       "    .dataframe tbody tr th {\n",
       "        vertical-align: top;\n",
       "    }\n",
       "\n",
       "    .dataframe thead th {\n",
       "        text-align: right;\n",
       "    }\n",
       "</style>\n",
       "<table border=\"1\" class=\"dataframe\">\n",
       "  <thead>\n",
       "    <tr style=\"text-align: right;\">\n",
       "      <th></th>\n",
       "      <th>Age</th>\n",
       "      <th>Driving_License</th>\n",
       "      <th>Region_Code</th>\n",
       "      <th>Previously_Insured</th>\n",
       "      <th>Annual_Premium</th>\n",
       "      <th>Policy_Sales_Channel</th>\n",
       "      <th>Vintage</th>\n",
       "      <th>Gender_Male</th>\n",
       "      <th>Vehicle_Age_&lt; 1 Year</th>\n",
       "      <th>Vehicle_Age_&gt; 2 Years</th>\n",
       "      <th>Vehicle_Damage_Yes</th>\n",
       "      <th>Response</th>\n",
       "    </tr>\n",
       "  </thead>\n",
       "  <tbody>\n",
       "    <tr>\n",
       "      <th>Age</th>\n",
       "      <td>1.000000</td>\n",
       "      <td>-0.078521</td>\n",
       "      <td>0.037117</td>\n",
       "      <td>-0.276367</td>\n",
       "      <td>0.056267</td>\n",
       "      <td>-0.591530</td>\n",
       "      <td>-0.013410</td>\n",
       "      <td>0.157556</td>\n",
       "      <td>-0.802761</td>\n",
       "      <td>0.221113</td>\n",
       "      <td>0.288186</td>\n",
       "      <td>0.122280</td>\n",
       "    </tr>\n",
       "    <tr>\n",
       "      <th>Driving_License</th>\n",
       "      <td>-0.078521</td>\n",
       "      <td>1.000000</td>\n",
       "      <td>-0.001308</td>\n",
       "      <td>0.013687</td>\n",
       "      <td>-0.007299</td>\n",
       "      <td>0.043072</td>\n",
       "      <td>-0.000413</td>\n",
       "      <td>-0.018678</td>\n",
       "      <td>0.039194</td>\n",
       "      <td>-0.006272</td>\n",
       "      <td>-0.015420</td>\n",
       "      <td>0.009251</td>\n",
       "    </tr>\n",
       "    <tr>\n",
       "      <th>Region_Code</th>\n",
       "      <td>0.037117</td>\n",
       "      <td>-0.001308</td>\n",
       "      <td>1.000000</td>\n",
       "      <td>-0.022293</td>\n",
       "      <td>-0.001910</td>\n",
       "      <td>-0.037707</td>\n",
       "      <td>-0.005619</td>\n",
       "      <td>-0.000072</td>\n",
       "      <td>-0.039081</td>\n",
       "      <td>0.014450</td>\n",
       "      <td>0.026291</td>\n",
       "      <td>0.012643</td>\n",
       "    </tr>\n",
       "    <tr>\n",
       "      <th>Previously_Insured</th>\n",
       "      <td>-0.276367</td>\n",
       "      <td>0.013687</td>\n",
       "      <td>-0.022293</td>\n",
       "      <td>1.000000</td>\n",
       "      <td>0.007704</td>\n",
       "      <td>0.237051</td>\n",
       "      <td>0.019295</td>\n",
       "      <td>-0.087495</td>\n",
       "      <td>0.376968</td>\n",
       "      <td>-0.192364</td>\n",
       "      <td>-0.836447</td>\n",
       "      <td>-0.345955</td>\n",
       "    </tr>\n",
       "    <tr>\n",
       "      <th>Annual_Premium</th>\n",
       "      <td>0.056267</td>\n",
       "      <td>-0.007299</td>\n",
       "      <td>-0.001910</td>\n",
       "      <td>0.007704</td>\n",
       "      <td>1.000000</td>\n",
       "      <td>-0.128671</td>\n",
       "      <td>0.003192</td>\n",
       "      <td>0.010676</td>\n",
       "      <td>-0.009903</td>\n",
       "      <td>0.055222</td>\n",
       "      <td>0.012557</td>\n",
       "      <td>0.032064</td>\n",
       "    </tr>\n",
       "    <tr>\n",
       "      <th>Policy_Sales_Channel</th>\n",
       "      <td>-0.591530</td>\n",
       "      <td>0.043072</td>\n",
       "      <td>-0.037707</td>\n",
       "      <td>0.237051</td>\n",
       "      <td>-0.128671</td>\n",
       "      <td>1.000000</td>\n",
       "      <td>0.009051</td>\n",
       "      <td>-0.115855</td>\n",
       "      <td>0.579777</td>\n",
       "      <td>-0.149434</td>\n",
       "      <td>-0.241367</td>\n",
       "      <td>-0.152790</td>\n",
       "    </tr>\n",
       "    <tr>\n",
       "      <th>Vintage</th>\n",
       "      <td>-0.013410</td>\n",
       "      <td>-0.000413</td>\n",
       "      <td>-0.005619</td>\n",
       "      <td>0.019295</td>\n",
       "      <td>0.003192</td>\n",
       "      <td>0.009051</td>\n",
       "      <td>1.000000</td>\n",
       "      <td>-0.009693</td>\n",
       "      <td>0.019118</td>\n",
       "      <td>-0.003619</td>\n",
       "      <td>-0.019306</td>\n",
       "      <td>-0.014891</td>\n",
       "    </tr>\n",
       "    <tr>\n",
       "      <th>Gender_Male</th>\n",
       "      <td>0.157556</td>\n",
       "      <td>-0.018678</td>\n",
       "      <td>-0.000072</td>\n",
       "      <td>-0.087495</td>\n",
       "      <td>0.010676</td>\n",
       "      <td>-0.115855</td>\n",
       "      <td>-0.009693</td>\n",
       "      <td>1.000000</td>\n",
       "      <td>-0.173095</td>\n",
       "      <td>0.045269</td>\n",
       "      <td>0.096976</td>\n",
       "      <td>0.055159</td>\n",
       "    </tr>\n",
       "    <tr>\n",
       "      <th>Vehicle_Age_&lt; 1 Year</th>\n",
       "      <td>-0.802761</td>\n",
       "      <td>0.039194</td>\n",
       "      <td>-0.039081</td>\n",
       "      <td>0.376968</td>\n",
       "      <td>-0.009903</td>\n",
       "      <td>0.579777</td>\n",
       "      <td>0.019118</td>\n",
       "      <td>-0.173095</td>\n",
       "      <td>1.000000</td>\n",
       "      <td>-0.184082</td>\n",
       "      <td>-0.387035</td>\n",
       "      <td>-0.219723</td>\n",
       "    </tr>\n",
       "    <tr>\n",
       "      <th>Vehicle_Age_&gt; 2 Years</th>\n",
       "      <td>0.221113</td>\n",
       "      <td>-0.006272</td>\n",
       "      <td>0.014450</td>\n",
       "      <td>-0.192364</td>\n",
       "      <td>0.055222</td>\n",
       "      <td>-0.149434</td>\n",
       "      <td>-0.003619</td>\n",
       "      <td>0.045269</td>\n",
       "      <td>-0.184082</td>\n",
       "      <td>1.000000</td>\n",
       "      <td>0.206755</td>\n",
       "      <td>0.111677</td>\n",
       "    </tr>\n",
       "    <tr>\n",
       "      <th>Vehicle_Damage_Yes</th>\n",
       "      <td>0.288186</td>\n",
       "      <td>-0.015420</td>\n",
       "      <td>0.026291</td>\n",
       "      <td>-0.836447</td>\n",
       "      <td>0.012557</td>\n",
       "      <td>-0.241367</td>\n",
       "      <td>-0.019306</td>\n",
       "      <td>0.096976</td>\n",
       "      <td>-0.387035</td>\n",
       "      <td>0.206755</td>\n",
       "      <td>1.000000</td>\n",
       "      <td>0.359743</td>\n",
       "    </tr>\n",
       "    <tr>\n",
       "      <th>Response</th>\n",
       "      <td>0.122280</td>\n",
       "      <td>0.009251</td>\n",
       "      <td>0.012643</td>\n",
       "      <td>-0.345955</td>\n",
       "      <td>0.032064</td>\n",
       "      <td>-0.152790</td>\n",
       "      <td>-0.014891</td>\n",
       "      <td>0.055159</td>\n",
       "      <td>-0.219723</td>\n",
       "      <td>0.111677</td>\n",
       "      <td>0.359743</td>\n",
       "      <td>1.000000</td>\n",
       "    </tr>\n",
       "  </tbody>\n",
       "</table>\n",
       "</div>"
      ],
      "text/plain": [
       "                            Age  Driving_License  Region_Code  \\\n",
       "Age                    1.000000        -0.078521     0.037117   \n",
       "Driving_License       -0.078521         1.000000    -0.001308   \n",
       "Region_Code            0.037117        -0.001308     1.000000   \n",
       "Previously_Insured    -0.276367         0.013687    -0.022293   \n",
       "Annual_Premium         0.056267        -0.007299    -0.001910   \n",
       "Policy_Sales_Channel  -0.591530         0.043072    -0.037707   \n",
       "Vintage               -0.013410        -0.000413    -0.005619   \n",
       "Gender_Male            0.157556        -0.018678    -0.000072   \n",
       "Vehicle_Age_< 1 Year  -0.802761         0.039194    -0.039081   \n",
       "Vehicle_Age_> 2 Years  0.221113        -0.006272     0.014450   \n",
       "Vehicle_Damage_Yes     0.288186        -0.015420     0.026291   \n",
       "Response               0.122280         0.009251     0.012643   \n",
       "\n",
       "                       Previously_Insured  Annual_Premium  \\\n",
       "Age                             -0.276367        0.056267   \n",
       "Driving_License                  0.013687       -0.007299   \n",
       "Region_Code                     -0.022293       -0.001910   \n",
       "Previously_Insured               1.000000        0.007704   \n",
       "Annual_Premium                   0.007704        1.000000   \n",
       "Policy_Sales_Channel             0.237051       -0.128671   \n",
       "Vintage                          0.019295        0.003192   \n",
       "Gender_Male                     -0.087495        0.010676   \n",
       "Vehicle_Age_< 1 Year             0.376968       -0.009903   \n",
       "Vehicle_Age_> 2 Years           -0.192364        0.055222   \n",
       "Vehicle_Damage_Yes              -0.836447        0.012557   \n",
       "Response                        -0.345955        0.032064   \n",
       "\n",
       "                       Policy_Sales_Channel   Vintage  Gender_Male  \\\n",
       "Age                               -0.591530 -0.013410     0.157556   \n",
       "Driving_License                    0.043072 -0.000413    -0.018678   \n",
       "Region_Code                       -0.037707 -0.005619    -0.000072   \n",
       "Previously_Insured                 0.237051  0.019295    -0.087495   \n",
       "Annual_Premium                    -0.128671  0.003192     0.010676   \n",
       "Policy_Sales_Channel               1.000000  0.009051    -0.115855   \n",
       "Vintage                            0.009051  1.000000    -0.009693   \n",
       "Gender_Male                       -0.115855 -0.009693     1.000000   \n",
       "Vehicle_Age_< 1 Year               0.579777  0.019118    -0.173095   \n",
       "Vehicle_Age_> 2 Years             -0.149434 -0.003619     0.045269   \n",
       "Vehicle_Damage_Yes                -0.241367 -0.019306     0.096976   \n",
       "Response                          -0.152790 -0.014891     0.055159   \n",
       "\n",
       "                       Vehicle_Age_< 1 Year  Vehicle_Age_> 2 Years  \\\n",
       "Age                               -0.802761               0.221113   \n",
       "Driving_License                    0.039194              -0.006272   \n",
       "Region_Code                       -0.039081               0.014450   \n",
       "Previously_Insured                 0.376968              -0.192364   \n",
       "Annual_Premium                    -0.009903               0.055222   \n",
       "Policy_Sales_Channel               0.579777              -0.149434   \n",
       "Vintage                            0.019118              -0.003619   \n",
       "Gender_Male                       -0.173095               0.045269   \n",
       "Vehicle_Age_< 1 Year               1.000000              -0.184082   \n",
       "Vehicle_Age_> 2 Years             -0.184082               1.000000   \n",
       "Vehicle_Damage_Yes                -0.387035               0.206755   \n",
       "Response                          -0.219723               0.111677   \n",
       "\n",
       "                       Vehicle_Damage_Yes  Response  \n",
       "Age                              0.288186  0.122280  \n",
       "Driving_License                 -0.015420  0.009251  \n",
       "Region_Code                      0.026291  0.012643  \n",
       "Previously_Insured              -0.836447 -0.345955  \n",
       "Annual_Premium                   0.012557  0.032064  \n",
       "Policy_Sales_Channel            -0.241367 -0.152790  \n",
       "Vintage                         -0.019306 -0.014891  \n",
       "Gender_Male                      0.096976  0.055159  \n",
       "Vehicle_Age_< 1 Year            -0.387035 -0.219723  \n",
       "Vehicle_Age_> 2 Years            0.206755  0.111677  \n",
       "Vehicle_Damage_Yes               1.000000  0.359743  \n",
       "Response                         0.359743  1.000000  "
      ]
     },
     "execution_count": 14,
     "metadata": {},
     "output_type": "execute_result"
    }
   ],
   "source": [
    "sns.heatmap(pd.concat([X_train, y_train], axis = 1).corr(), cmap='coolwarm')\n",
    "plt.show()\n",
    "\n",
    "pd.concat([X_train, y_train], axis = 1).corr()"
   ]
  },
  {
   "cell_type": "code",
   "execution_count": 15,
   "metadata": {},
   "outputs": [
    {
     "data": {
      "image/png": "[encoded data removed]",
      "text/plain": [
       "<Figure size 2000x2000 with 12 Axes>"
      ]
     },
     "metadata": {},
     "output_type": "display_data"
    }
   ],
   "source": [
    "fig,ax = plt.subplots(4,3,figsize=(20,20))\n",
    "ax = ax.flatten()\n",
    "plt.suptitle('Box Plot to check for Outliers')\n",
    "for i, column in enumerate(X_train.columns):\n",
    "    sns.boxplot(data = X_train, x = column, ax = ax[i])\n",
    "    plt.title(column)"
   ]
  },
  {
   "cell_type": "markdown",
   "metadata": {},
   "source": [
    "# Scaling of Numerical features\n",
    "We will use `sklearn.preprocessing`'s `StandardScaler()` to scale the numerical features, which are `Age`, `Region_Code`, `Annual_Premium`, `Policy_Sales_Channel`, `Vintage`."
   ]
  },
  {
   "cell_type": "code",
   "execution_count": 16,
   "metadata": {
    "execution": {
     "iopub.execute_input": "2024-07-26T13:11:15.870655Z",
     "iopub.status.busy": "2024-07-26T13:11:15.870278Z",
     "iopub.status.idle": "2024-07-26T13:11:17.004241Z",
     "shell.execute_reply": "2024-07-26T13:11:17.003131Z",
     "shell.execute_reply.started": "2024-07-26T13:11:15.870624Z"
    }
   },
   "outputs": [],
   "source": [
    "num_var = ['Age', 'Region_Code', 'Annual_Premium', 'Policy_Sales_Channel', 'Vintage']\n",
    "\n",
    "scaler = StandardScaler()\n",
    "\n",
    "X_train_num = pd.DataFrame(scaler.fit_transform(X_train[num_var]), columns = num_var)\n",
    "X_test_num = pd.DataFrame(scaler.transform(X_test[num_var]), columns = num_var)\n",
    "\n",
    "X_train[num_var] = X_train_num\n",
    "X_test[num_var] = X_test_num"
   ]
  },
  {
   "cell_type": "markdown",
   "metadata": {},
   "source": [
    "# Model Selection\n",
    "We will use a variety of models to predict the `Response` variable. We will also use the Area Under ROC parameter to measure the robustness of the models."
   ]
  },
  {
   "cell_type": "code",
   "execution_count": 17,
   "metadata": {
    "execution": {
     "iopub.execute_input": "2024-07-26T13:11:17.006109Z",
     "iopub.status.busy": "2024-07-26T13:11:17.005688Z"
    }
   },
   "outputs": [
    {
     "name": "stderr",
     "output_type": "stream",
     "text": [
      "C:\\Users\\Owent\\anaconda3\\Lib\\site-packages\\sklearn\\utils\\validation.py:1310: DataConversionWarning: A column-vector y was passed when a 1d array was expected. Please change the shape of y to (n_samples, ), for example using ravel().\n",
      "  y = column_or_1d(y, warn=True)\n",
      "C:\\Users\\Owent\\anaconda3\\Lib\\site-packages\\sklearn\\linear_model\\_ridge.py:1301: DataConversionWarning: A column-vector y was passed when a 1d array was expected. Please change the shape of y to (n_samples, ), for example using ravel().\n",
      "  y = column_or_1d(y, warn=True)\n",
      "C:\\Users\\Owent\\anaconda3\\Lib\\site-packages\\sklearn\\utils\\validation.py:1310: DataConversionWarning: A column-vector y was passed when a 1d array was expected. Please change the shape of y to (n_samples, ), for example using ravel().\n",
      "  y = column_or_1d(y, warn=True)\n",
      "C:\\Users\\Owent\\anaconda3\\Lib\\site-packages\\sklearn\\neighbors\\_classification.py:238: DataConversionWarning: A column-vector y was passed when a 1d array was expected. Please change the shape of y to (n_samples,), for example using ravel().\n",
      "  return self._fit(X, y)\n",
      "C:\\Users\\Owent\\anaconda3\\Lib\\site-packages\\sklearn\\utils\\validation.py:1310: DataConversionWarning: A column-vector y was passed when a 1d array was expected. Please change the shape of y to (n_samples, ), for example using ravel().\n",
      "  y = column_or_1d(y, warn=True)\n"
     ]
    }
   ],
   "source": [
    "models = {\n",
    "    \"Logistic Regression\": LogisticRegression(),\n",
    "    \"Ridge Classifier\": RidgeClassifier(),\n",
    "    \"SGD Classifier\": SGDClassifier(),\n",
    "    \"K Nearest Neighbors\": KNeighborsClassifier(),\n",
    "    \"Naive Bayes\": GaussianNB(),\n",
    "    \"Decision Tree\": DecisionTreeClassifier(),\n",
    "#     \"Random Forest\": RandomForestClassifier(n_jobs = -1),\n",
    "#     \"AdaBoost\": AdaBoostClassifier(n_jobs = -1),\n",
    "#     \"Bagging\": BaggingClassifier(n_jobs = -1),\n",
    "#     \"ExtraTrees\": ExtraTreesClassifier()\n",
    "}\n",
    "\n",
    "model_results = {\"Model\":[],\n",
    "                \"ROC_AUC\":[]}\n",
    "\n",
    "for model_name, model in models.items():\n",
    "    model.fit(X_train, y_train)\n",
    "    y_pred = model.predict(X_test).reshape(-1, 1)\n",
    "    model_results[\"Model\"].append(model_name)\n",
    "    model_results[\"ROC_AUC\"].append(roc_auc_score(y_test, y_pred))\n",
    "\n",
    "results = pd.DataFrame(model_results)\n"
   ]
  },
  {
   "cell_type": "code",
   "execution_count": 18,
   "metadata": {},
   "outputs": [
    {
     "name": "stdout",
     "output_type": "stream",
     "text": [
      "                 Model   ROC_AUC\n",
      "0  Logistic Regression  0.500054\n",
      "1     Ridge Classifier  0.500016\n",
      "2       SGD Classifier  0.500000\n",
      "3  K Nearest Neighbors  0.578301\n",
      "4          Naive Bayes  0.792266\n",
      "5        Decision Tree  0.622570\n"
     ]
    }
   ],
   "source": [
    "print(results)"
   ]
  },
  {
   "cell_type": "markdown",
   "metadata": {},
   "source": [
    "# Neural Networks\n",
    "We will implement a neural network using Python's `pytorch` package"
   ]
  },
  {
   "cell_type": "code",
   "execution_count": 19,
   "metadata": {},
   "outputs": [],
   "source": [
    "import torch\n",
    "import torch.nn as nn\n",
    "import torch.optim as optim"
   ]
  },
  {
   "cell_type": "code",
   "execution_count": 23,
   "metadata": {},
   "outputs": [],
   "source": [
    "X_train_nn = torch.tensor(X_train.to_numpy(), dtype = torch.float32)\n",
    "y_train_nn = torch.tensor(y_train.to_numpy(), dtype = torch.float32).reshape(-1, 1)"
   ]
  },
  {
   "cell_type": "markdown",
   "metadata": {},
   "source": [
    "## Model Definitions\n",
    "We have 11 features in `X_train`, so we will start with an input layer of 11 neurons."
   ]
  },
  {
   "cell_type": "code",
   "execution_count": 24,
   "metadata": {},
   "outputs": [
    {
     "name": "stdout",
     "output_type": "stream",
     "text": [
      "Sequential(\n",
      "  (0): Linear(in_features=12, out_features=16, bias=True)\n",
      "  (1): LeakyReLU(negative_slope=0.01)\n",
      "  (2): BatchNorm1d(16, eps=1e-05, momentum=0.1, affine=True, track_running_stats=True)\n",
      "  (3): Dropout(p=0.25, inplace=False)\n",
      "  (4): Linear(in_features=16, out_features=8, bias=True)\n",
      "  (5): LeakyReLU(negative_slope=0.01)\n",
      "  (6): BatchNorm1d(8, eps=1e-05, momentum=0.1, affine=True, track_running_stats=True)\n",
      "  (7): Dropout(p=0.25, inplace=False)\n",
      "  (8): Linear(in_features=8, out_features=1, bias=True)\n",
      "  (9): Sigmoid()\n",
      ")\n"
     ]
    }
   ],
   "source": [
    "model = nn.Sequential(\n",
    "    nn.Linear(11, 16),\n",
    "    nn.LeakyReLU(),\n",
    "    nn.BatchNorm1d(num_features = 16),\n",
    "    nn.Dropout(0.25),\n",
    "    nn.Linear(16, 8),\n",
    "    nn.LeakyReLU(),\n",
    "    nn.BatchNorm1d(num_features = 8),\n",
    "    nn.Dropout(0.25),\n",
    "    nn.Linear(8, 1),\n",
    "    nn.Sigmoid()\n",
    ")\n",
    "\n",
    "print(model)"
   ]
  },
  {
   "cell_type": "code",
   "execution_count": 52,
   "metadata": {},
   "outputs": [
    {
     "name": "stdout",
     "output_type": "stream",
     "text": [
      "InsuranceClassifier(\n",
      "  (hidden1): Linear(in_features=11, out_features=16, bias=True)\n",
      "  (bn1): BatchNorm1d(16, eps=1e-05, momentum=0.1, affine=True, track_running_stats=True)\n",
      "  (act1): LeakyReLU(negative_slope=0.01)\n",
      "  (dropout): Dropout(p=0.25, inplace=False)\n",
      "  (hidden2): Linear(in_features=16, out_features=8, bias=True)\n",
      "  (bn2): BatchNorm1d(8, eps=1e-05, momentum=0.1, affine=True, track_running_stats=True)\n",
      "  (act2): LeakyReLU(negative_slope=0.01)\n",
      "  (output): Linear(in_features=8, out_features=1, bias=True)\n",
      "  (act_output): Sigmoid()\n",
      ")\n"
     ]
    }
   ],
   "source": [
    "class InsuranceClassifier(nn.Module):\n",
    "    def __init__(self):\n",
    "        super().__init__()\n",
    "        self.hidden1 = nn.Linear(11, 16)\n",
    "        self.bn1 = nn.BatchNorm1d(num_features = 16)\n",
    "        self.act1 = nn.LeakyReLU()\n",
    "        self.dropout = nn.Dropout(0.25)\n",
    "        self.hidden2 = nn.Linear(16, 8)\n",
    "        self.bn2 = nn.BatchNorm1d(num_features = 8)\n",
    "        self.act2 = nn.LeakyReLU()\n",
    "        self.output = nn.Linear(8, 1)\n",
    "        self.act_output = nn.Sigmoid()\n",
    "    \n",
    "    def forward(self, x):\n",
    "        x = self.act1(self.dropout(self.bn1(self.hidden1(x))))\n",
    "        x = self.act2(self.dropout(self.bn2(self.hidden2(x))))\n",
    "        x = self.act_output(self.output(x))\n",
    "        return x\n",
    "    \n",
    "nn_clf = InsuranceClassifier()\n",
    "print(nn_clf)"
   ]
  },
  {
   "cell_type": "code",
   "execution_count": 53,
   "metadata": {},
   "outputs": [
    {
     "name": "stdout",
     "output_type": "stream",
     "text": [
      "Completed Epoch 0, loss: 0.7547428607940674\n",
      "Completed Epoch 1, loss: 0.7259994745254517\n",
      "Completed Epoch 2, loss: 0.7003945708274841\n",
      "Completed Epoch 3, loss: 0.6750350594520569\n",
      "Completed Epoch 4, loss: 0.6521381139755249\n"
     ]
    }
   ],
   "source": [
    "loss_fn = nn.BCELoss()\n",
    "opt_fn = torch.optim.Adam(nn_clf.parameters(), lr = 0.001)\n",
    "\n",
    "n_epochs = 10\n",
    "batch_size = 1000000\n",
    "\n",
    "for epoch in range(n_epochs):\n",
    "    for i in range(0, len(X_train_nn), batch_size):\n",
    "        X_batch = X_train_nn[i:i+batch_size]\n",
    "        y_pred = nn_clf(X_batch)\n",
    "        y_batch = y_train_nn[i:i+batch_size]\n",
    "        loss = loss_fn(y_pred, y_batch)\n",
    "        opt_fn.zero_grad()\n",
    "        loss.backward()\n",
    "        opt_fn.step()\n",
    "    print(f'Completed Epoch {epoch}, loss: {loss}')"
   ]
  },
  {
   "cell_type": "code",
   "execution_count": 54,
   "metadata": {},
   "outputs": [
    {
     "name": "stdout",
     "output_type": "stream",
     "text": [
      "<class 'numpy.ndarray'>\n",
      "<class 'pandas.core.frame.DataFrame'>\n",
      "0.6576269821641072\n",
      "0.6070583582504694\n"
     ]
    }
   ],
   "source": [
    "X_test_nn = torch.tensor(X_test.to_numpy(), dtype = torch.float32)\n",
    "y_pred = nn_clf(X_test_nn).round().detach().numpy()\n",
    "\n",
    "print(type((y_pred)))\n",
    "print(type(y_test))\n",
    "\n",
    "print(roc_auc_score(y_test, y_pred))\n",
    "print(accuracy_score(y_test, y_pred))\n",
    "#print(roc_auc_score(y_t))"
   ]
  }
 ],
 "metadata": {
  "kaggle": {
   "accelerator": "none",
   "dataSources": [
    {
     "databundleVersionId": 8930475,
     "sourceId": 73291,
     "sourceType": "competition"
    },
    {
     "datasetId": 310,
     "sourceId": 23498,
     "sourceType": "datasetVersion"
    }
   ],
   "dockerImageVersionId": 30746,
   "isGpuEnabled": false,
   "isInternetEnabled": false,
   "language": "python",
   "sourceType": "notebook"
  },
  "kernelspec": {
   "display_name": "Python 3 (ipykernel)",
   "language": "python",
   "name": "python3"
  },
  "language_info": {
   "codemirror_mode": {
    "name": "ipython",
    "version": 3
   },
   "file_extension": ".py",
   "mimetype": "text/x-python",
   "name": "python",
   "nbconvert_exporter": "python",
   "pygments_lexer": "ipython3",
   "version": "3.11.5"
  }
 },
 "nbformat": 4,
 "nbformat_minor": 4
}
