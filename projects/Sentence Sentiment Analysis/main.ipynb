{
  "cells": [
    {
      "cell_type": "markdown",
      "metadata": {
        "id": "vf9VXqDHikw7"
      },
      "source": [
        "# Installing and Reading in of packages"
      ]
    },
    {
      "cell_type": "code",
      "execution_count": 3,
      "metadata": {},
      "outputs": [],
      "source": [
        "# %pip install -r requirements.txt"
      ]
    },
    {
      "cell_type": "code",
      "execution_count": null,
      "metadata": {},
      "outputs": [],
      "source": [
        "# %pip uninstall torch torchvision torchaudio\n",
        "# %pip install --pre torch torchvision torchaudio --index-url https://download.pytorch.org/whl/nightly/cu126"
      ]
    },
    {
      "cell_type": "code",
      "execution_count": 6,
      "metadata": {
        "id": "g0Cg9F1Mic5-"
      },
      "outputs": [],
      "source": [
        "import pandas as pd\n",
        "import numpy as np\n",
        "from transformers import pipeline\n",
        "from sklearn.model_selection import train_test_split\n",
        "import torch\n",
        "\n",
        "from model_evaluation import get_model_evaluation\n",
        "from model_extraction import get_model, get_tokenizer, get_pipeline\n",
        "from model_training import train_model, train_lora_model"
      ]
    },
    {
      "cell_type": "code",
      "execution_count": 7,
      "metadata": {},
      "outputs": [
        {
          "data": {
            "text/plain": [
              "True"
            ]
          },
          "execution_count": 7,
          "metadata": {},
          "output_type": "execute_result"
        }
      ],
      "source": [
        "device = torch.device('cuda' if torch.cuda.is_available() else 'cpu')\n",
        "torch.cuda.is_available()"
      ]
    },
    {
      "cell_type": "markdown",
      "metadata": {
        "id": "QdVPKlrFir2m"
      },
      "source": [
        "# Reading in of Data"
      ]
    },
    {
      "cell_type": "code",
      "execution_count": 8,
      "metadata": {
        "colab": {
          "base_uri": "https://localhost:8080/"
        },
        "id": "Qggu5ylEikPr",
        "outputId": "4dafb1c5-8c1e-45e5-9d40-575ad174b194"
      },
      "outputs": [
        {
          "name": "stdout",
          "output_type": "stream",
          "text": [
            "                                                Text  Label\n",
            "0  the rock is destined to be the 21st century's ...      1\n",
            "1  the gorgeously elaborate continuation of \" the...      1\n",
            "2                     effective but too-tepid biopic      1\n",
            "3  if you sometimes like to go to the movies to h...      1\n",
            "4  emerges as something rare , an issue movie tha...      1\n",
            "(10662, 2)\n"
          ]
        }
      ],
      "source": [
        "data = pd.read_csv(\"data/dataset.csv\", header = None, names = [\"Label\", \"Text\"])\n",
        "data = data[['Text', 'Label']]\n",
        "\n",
        "print(data.head()) # First column: 1 - positive, 0 - negative\n",
        "print(data.shape)"
      ]
    },
    {
      "cell_type": "code",
      "execution_count": 9,
      "metadata": {},
      "outputs": [
        {
          "name": "stdout",
          "output_type": "stream",
          "text": [
            "                                                   Text  Label\n",
            "0     this bracingly truthful antidote to hollywood ...      1\n",
            "1     once the downward spiral comes to pass , auto ...      1\n",
            "2     bray is completely at sea ; with nothing but a...      0\n",
            "3     while the production details are lavish , film...      0\n",
            "4     anyone who suffers through this film deserves ...      0\n",
            "...                                                 ...    ...\n",
            "1595  a dream cast of solid female talent who build ...      1\n",
            "1596  it's an unusual , thoughtful bio-drama with a ...      1\n",
            "1597  a gorgeous , somnolent show that is splendidly...      0\n",
            "1598  it's tough to be startled when you're almost d...      0\n",
            "1599  george lucas returns as a visionary with a tal...      1\n",
            "\n",
            "[1600 rows x 2 columns]\n"
          ]
        }
      ],
      "source": [
        "testing_data = pd.read_csv('data/testing_data.csv')\n",
        "\n",
        "print(testing_data)"
      ]
    },
    {
      "cell_type": "markdown",
      "metadata": {
        "id": "ITkSaF8IzwHf"
      },
      "source": [
        "# Model (Pre-built on Hugging Face)\n",
        "For a start, we will try a pre-built model on Hugging Face that will analyse the text and give us a rating on whether it is `POSITIVE` or `NEGATIVE`."
      ]
    },
    {
      "cell_type": "code",
      "execution_count": 10,
      "metadata": {
        "id": "9t0tD8vZjIx2"
      },
      "outputs": [
        {
          "name": "stderr",
          "output_type": "stream",
          "text": [
            "Device set to use cuda:0\n"
          ]
        }
      ],
      "source": [
        "sentiment_pipeline = pipeline(\"sentiment-analysis\", model = \"distilbert/distilbert-base-uncased-finetuned-sst-2-english\", device = 0) # device = 0\n",
        "output = sentiment_pipeline(list(testing_data[\"Text\"]))"
      ]
    },
    {
      "cell_type": "code",
      "execution_count": 11,
      "metadata": {
        "colab": {
          "background_save": true
        },
        "id": "IdTr2sULjJGb"
      },
      "outputs": [],
      "source": [
        "model_predictions = pd.Series(map(lambda x: x['label'], output))\n",
        "\n",
        "label_mapping = {\"POSITIVE\": 1, \"NEGATIVE\": 0}\n",
        "model_predictions = model_predictions.map(label_mapping)"
      ]
    },
    {
      "cell_type": "markdown",
      "metadata": {
        "id": "7a9G7oMz0D2z"
      },
      "source": [
        "## Model Evaluation\n",
        "We will evaluate the model and look at the accuracy of the model."
      ]
    },
    {
      "cell_type": "code",
      "execution_count": 12,
      "metadata": {
        "colab": {
          "background_save": true
        },
        "id": "OilY3Ik4tMMg",
        "outputId": "f61d2f04-dbbe-4f6c-e939-c12896948d11"
      },
      "outputs": [
        {
          "data": {
            "image/png": "[encoded data removed]",
            "text/plain": [
              "<Figure size 640x480 with 2 Axes>"
            ]
          },
          "metadata": {},
          "output_type": "display_data"
        },
        {
          "name": "stdout",
          "output_type": "stream",
          "text": [
            "              precision    recall  f1-score   support\n",
            "\n",
            "    Negative       0.89      0.87      0.88       800\n",
            "    Positive       0.87      0.90      0.89       800\n",
            "\n",
            "    accuracy                           0.88      1600\n",
            "   macro avg       0.88      0.88      0.88      1600\n",
            "weighted avg       0.88      0.88      0.88      1600\n",
            "\n",
            "Accuracy: 0.884375\n",
            "Recall: 0.8975\n",
            "Precision: 0.8745432399512789\n",
            "F1-score: 0.8858729179518815\n"
          ]
        }
      ],
      "source": [
        "labels = ['Negative', 'Positive']\n",
        "\n",
        "get_model_evaluation(y_true=testing_data['Label'], y_pred=model_predictions, labels=labels)"
      ]
    },
    {
      "cell_type": "markdown",
      "metadata": {},
      "source": [
        "# Custom Model\n",
        "While we see that the pre-built model performs rather well (with an accuracy of around 88%), we will try to train a model on our own and fine-tune it based on the dataset provided. This would hopefully increase the accuracy of the model in determining the sentiment of the input text."
      ]
    },
    {
      "cell_type": "code",
      "execution_count": 13,
      "metadata": {},
      "outputs": [],
      "source": [
        "training_data = pd.read_csv('data/training_data.csv')\n",
        "validation_data = pd.read_csv('data/validation_data.csv')\n",
        "training_model_dir = \"google-bert/bert-large-uncased\"\n",
        "# training_model_dir = \"google-bert/bert-base-uncased\"\n",
        "# training_model_dir = \"distilbert/distilbert-base-uncased\"\n",
        "num_epochs = 20\n",
        "num_labels = 2 # Only 2 labels - Positive or Negative\n",
        "id2label = {0: \"NEGATIVE\", 1: \"POSITIVE\"}\n",
        "label2id = {\"NEGATIVE\": 0, \"POSITIVE\": 1}"
      ]
    },
    {
      "cell_type": "code",
      "execution_count": null,
      "metadata": {},
      "outputs": [],
      "source": [
        "# train_model(training_data=training_data, \n",
        "#             validation_data=validation_data, \n",
        "#             model_dir=training_model_dir,\n",
        "#             num_epochs=num_epochs,\n",
        "#             num_labels=num_labels,\n",
        "#             id2label=id2label,\n",
        "#             label2id=label2id\n",
        "#             )"
      ]
    },
    {
      "cell_type": "code",
      "execution_count": 14,
      "metadata": {},
      "outputs": [
        {
          "name": "stderr",
          "output_type": "stream",
          "text": [
            "`low_cpu_mem_usage` was None, now default to True since model is quantized.\n",
            "Some weights of BertForSequenceClassification were not initialized from the model checkpoint at google-bert/bert-large-uncased and are newly initialized: ['classifier.bias', 'classifier.weight']\n",
            "You should probably TRAIN this model on a down-stream task to be able to use it for predictions and inference.\n",
            "c:\\Projects\\Sentence Sentimental Analysis\\model_training.py:122: FutureWarning: `tokenizer` is deprecated and will be removed in version 5.0.0 for `Trainer.__init__`. Use `processing_class` instead.\n",
            "  trainer = Trainer(\n",
            "c:\\Users\\Owent\\AppData\\Local\\Programs\\Python\\Python312\\Lib\\site-packages\\torch\\_dynamo\\eval_frame.py:745: UserWarning: torch.utils.checkpoint: the use_reentrant parameter should be passed explicitly. In version 2.5 we will raise an exception if use_reentrant is not passed. use_reentrant=False is recommended, but if you need to preserve the current default behavior, you can pass use_reentrant=True. Refer to docs for more details on the differences between the two variants.\n",
            "  return fn(*args, **kwargs)\n"
          ]
        },
        {
          "data": {
            "text/html": [
              "\n",
              "    <div>\n",
              "      \n",
              "      <progress value='20000' max='20000' style='width:300px; height:20px; vertical-align: middle;'></progress>\n",
              "      [20000/20000 1:04:21, Epoch 20/20]\n",
              "    </div>\n",
              "    <table border=\"1\" class=\"dataframe\">\n",
              "  <thead>\n",
              " <tr style=\"text-align: left;\">\n",
              "      <th>Epoch</th>\n",
              "      <th>Training Loss</th>\n",
              "      <th>Validation Loss</th>\n",
              "      <th>Accuracy</th>\n",
              "      <th>F1</th>\n",
              "      <th>Precision</th>\n",
              "      <th>Recall</th>\n",
              "    </tr>\n",
              "  </thead>\n",
              "  <tbody>\n",
              "    <tr>\n",
              "      <td>1</td>\n",
              "      <td>0.353100</td>\n",
              "      <td>0.366686</td>\n",
              "      <td>0.865042</td>\n",
              "      <td>0.864683</td>\n",
              "      <td>0.868843</td>\n",
              "      <td>0.864995</td>\n",
              "    </tr>\n",
              "    <tr>\n",
              "      <td>2</td>\n",
              "      <td>0.340800</td>\n",
              "      <td>0.345318</td>\n",
              "      <td>0.890347</td>\n",
              "      <td>0.890316</td>\n",
              "      <td>0.890752</td>\n",
              "      <td>0.890332</td>\n",
              "    </tr>\n",
              "    <tr>\n",
              "      <td>3</td>\n",
              "      <td>0.298600</td>\n",
              "      <td>0.368656</td>\n",
              "      <td>0.889410</td>\n",
              "      <td>0.889358</td>\n",
              "      <td>0.890084</td>\n",
              "      <td>0.889390</td>\n",
              "    </tr>\n",
              "    <tr>\n",
              "      <td>4</td>\n",
              "      <td>0.261600</td>\n",
              "      <td>0.435385</td>\n",
              "      <td>0.885661</td>\n",
              "      <td>0.885653</td>\n",
              "      <td>0.885791</td>\n",
              "      <td>0.885669</td>\n",
              "    </tr>\n",
              "    <tr>\n",
              "      <td>5</td>\n",
              "      <td>0.231100</td>\n",
              "      <td>0.480441</td>\n",
              "      <td>0.878163</td>\n",
              "      <td>0.878154</td>\n",
              "      <td>0.878252</td>\n",
              "      <td>0.878156</td>\n",
              "    </tr>\n",
              "    <tr>\n",
              "      <td>6</td>\n",
              "      <td>0.180000</td>\n",
              "      <td>0.553746</td>\n",
              "      <td>0.881912</td>\n",
              "      <td>0.881847</td>\n",
              "      <td>0.882809</td>\n",
              "      <td>0.881935</td>\n",
              "    </tr>\n",
              "    <tr>\n",
              "      <td>7</td>\n",
              "      <td>0.179500</td>\n",
              "      <td>0.521639</td>\n",
              "      <td>0.883786</td>\n",
              "      <td>0.883646</td>\n",
              "      <td>0.885725</td>\n",
              "      <td>0.883820</td>\n",
              "    </tr>\n",
              "    <tr>\n",
              "      <td>8</td>\n",
              "      <td>0.144400</td>\n",
              "      <td>0.579285</td>\n",
              "      <td>0.883786</td>\n",
              "      <td>0.883749</td>\n",
              "      <td>0.884232</td>\n",
              "      <td>0.883770</td>\n",
              "    </tr>\n",
              "    <tr>\n",
              "      <td>9</td>\n",
              "      <td>0.121200</td>\n",
              "      <td>0.632491</td>\n",
              "      <td>0.880975</td>\n",
              "      <td>0.880971</td>\n",
              "      <td>0.881037</td>\n",
              "      <td>0.880981</td>\n",
              "    </tr>\n",
              "    <tr>\n",
              "      <td>10</td>\n",
              "      <td>0.120500</td>\n",
              "      <td>0.643304</td>\n",
              "      <td>0.880975</td>\n",
              "      <td>0.880971</td>\n",
              "      <td>0.881037</td>\n",
              "      <td>0.880981</td>\n",
              "    </tr>\n",
              "    <tr>\n",
              "      <td>11</td>\n",
              "      <td>0.100200</td>\n",
              "      <td>0.665962</td>\n",
              "      <td>0.879100</td>\n",
              "      <td>0.879028</td>\n",
              "      <td>0.879946</td>\n",
              "      <td>0.879078</td>\n",
              "    </tr>\n",
              "    <tr>\n",
              "      <td>12</td>\n",
              "      <td>0.080800</td>\n",
              "      <td>0.704005</td>\n",
              "      <td>0.886598</td>\n",
              "      <td>0.886584</td>\n",
              "      <td>0.886821</td>\n",
              "      <td>0.886609</td>\n",
              "    </tr>\n",
              "    <tr>\n",
              "      <td>13</td>\n",
              "      <td>0.076200</td>\n",
              "      <td>0.725455</td>\n",
              "      <td>0.886598</td>\n",
              "      <td>0.886596</td>\n",
              "      <td>0.886612</td>\n",
              "      <td>0.886595</td>\n",
              "    </tr>\n",
              "    <tr>\n",
              "      <td>14</td>\n",
              "      <td>0.059800</td>\n",
              "      <td>0.785593</td>\n",
              "      <td>0.885661</td>\n",
              "      <td>0.885649</td>\n",
              "      <td>0.885850</td>\n",
              "      <td>0.885671</td>\n",
              "    </tr>\n",
              "    <tr>\n",
              "      <td>15</td>\n",
              "      <td>0.054300</td>\n",
              "      <td>0.826490</td>\n",
              "      <td>0.885661</td>\n",
              "      <td>0.885653</td>\n",
              "      <td>0.885791</td>\n",
              "      <td>0.885669</td>\n",
              "    </tr>\n",
              "    <tr>\n",
              "      <td>16</td>\n",
              "      <td>0.050400</td>\n",
              "      <td>0.846448</td>\n",
              "      <td>0.880037</td>\n",
              "      <td>0.880032</td>\n",
              "      <td>0.880088</td>\n",
              "      <td>0.880032</td>\n",
              "    </tr>\n",
              "    <tr>\n",
              "      <td>17</td>\n",
              "      <td>0.035800</td>\n",
              "      <td>0.906178</td>\n",
              "      <td>0.875351</td>\n",
              "      <td>0.875336</td>\n",
              "      <td>0.875516</td>\n",
              "      <td>0.875342</td>\n",
              "    </tr>\n",
              "    <tr>\n",
              "      <td>18</td>\n",
              "      <td>0.035800</td>\n",
              "      <td>0.946063</td>\n",
              "      <td>0.883786</td>\n",
              "      <td>0.883769</td>\n",
              "      <td>0.884044</td>\n",
              "      <td>0.883799</td>\n",
              "    </tr>\n",
              "    <tr>\n",
              "      <td>19</td>\n",
              "      <td>0.036800</td>\n",
              "      <td>0.957620</td>\n",
              "      <td>0.880975</td>\n",
              "      <td>0.880974</td>\n",
              "      <td>0.880985</td>\n",
              "      <td>0.880977</td>\n",
              "    </tr>\n",
              "    <tr>\n",
              "      <td>20</td>\n",
              "      <td>0.028800</td>\n",
              "      <td>0.966410</td>\n",
              "      <td>0.882849</td>\n",
              "      <td>0.882847</td>\n",
              "      <td>0.882880</td>\n",
              "      <td>0.882853</td>\n",
              "    </tr>\n",
              "  </tbody>\n",
              "</table><p>"
            ],
            "text/plain": [
              "<IPython.core.display.HTML object>"
            ]
          },
          "metadata": {},
          "output_type": "display_data"
        },
        {
          "name": "stderr",
          "output_type": "stream",
          "text": [
            "c:\\Users\\Owent\\AppData\\Local\\Programs\\Python\\Python312\\Lib\\site-packages\\torch\\_dynamo\\eval_frame.py:745: UserWarning: torch.utils.checkpoint: the use_reentrant parameter should be passed explicitly. In version 2.5 we will raise an exception if use_reentrant is not passed. use_reentrant=False is recommended, but if you need to preserve the current default behavior, you can pass use_reentrant=True. Refer to docs for more details on the differences between the two variants.\n",
            "  return fn(*args, **kwargs)\n",
            "c:\\Users\\Owent\\AppData\\Local\\Programs\\Python\\Python312\\Lib\\site-packages\\torch\\_dynamo\\eval_frame.py:745: UserWarning: torch.utils.checkpoint: the use_reentrant parameter should be passed explicitly. In version 2.5 we will raise an exception if use_reentrant is not passed. use_reentrant=False is recommended, but if you need to preserve the current default behavior, you can pass use_reentrant=True. Refer to docs for more details on the differences between the two variants.\n",
            "  return fn(*args, **kwargs)\n",
            "c:\\Users\\Owent\\AppData\\Local\\Programs\\Python\\Python312\\Lib\\site-packages\\torch\\_dynamo\\eval_frame.py:745: UserWarning: torch.utils.checkpoint: the use_reentrant parameter should be passed explicitly. In version 2.5 we will raise an exception if use_reentrant is not passed. use_reentrant=False is recommended, but if you need to preserve the current default behavior, you can pass use_reentrant=True. Refer to docs for more details on the differences between the two variants.\n",
            "  return fn(*args, **kwargs)\n",
            "c:\\Users\\Owent\\AppData\\Local\\Programs\\Python\\Python312\\Lib\\site-packages\\torch\\_dynamo\\eval_frame.py:745: UserWarning: torch.utils.checkpoint: the use_reentrant parameter should be passed explicitly. In version 2.5 we will raise an exception if use_reentrant is not passed. use_reentrant=False is recommended, but if you need to preserve the current default behavior, you can pass use_reentrant=True. Refer to docs for more details on the differences between the two variants.\n",
            "  return fn(*args, **kwargs)\n",
            "c:\\Users\\Owent\\AppData\\Local\\Programs\\Python\\Python312\\Lib\\site-packages\\torch\\_dynamo\\eval_frame.py:745: UserWarning: torch.utils.checkpoint: the use_reentrant parameter should be passed explicitly. In version 2.5 we will raise an exception if use_reentrant is not passed. use_reentrant=False is recommended, but if you need to preserve the current default behavior, you can pass use_reentrant=True. Refer to docs for more details on the differences between the two variants.\n",
            "  return fn(*args, **kwargs)\n",
            "c:\\Users\\Owent\\AppData\\Local\\Programs\\Python\\Python312\\Lib\\site-packages\\torch\\_dynamo\\eval_frame.py:745: UserWarning: torch.utils.checkpoint: the use_reentrant parameter should be passed explicitly. In version 2.5 we will raise an exception if use_reentrant is not passed. use_reentrant=False is recommended, but if you need to preserve the current default behavior, you can pass use_reentrant=True. Refer to docs for more details on the differences between the two variants.\n",
            "  return fn(*args, **kwargs)\n",
            "c:\\Users\\Owent\\AppData\\Local\\Programs\\Python\\Python312\\Lib\\site-packages\\torch\\_dynamo\\eval_frame.py:745: UserWarning: torch.utils.checkpoint: the use_reentrant parameter should be passed explicitly. In version 2.5 we will raise an exception if use_reentrant is not passed. use_reentrant=False is recommended, but if you need to preserve the current default behavior, you can pass use_reentrant=True. Refer to docs for more details on the differences between the two variants.\n",
            "  return fn(*args, **kwargs)\n",
            "c:\\Users\\Owent\\AppData\\Local\\Programs\\Python\\Python312\\Lib\\site-packages\\torch\\_dynamo\\eval_frame.py:745: UserWarning: torch.utils.checkpoint: the use_reentrant parameter should be passed explicitly. In version 2.5 we will raise an exception if use_reentrant is not passed. use_reentrant=False is recommended, but if you need to preserve the current default behavior, you can pass use_reentrant=True. Refer to docs for more details on the differences between the two variants.\n",
            "  return fn(*args, **kwargs)\n",
            "c:\\Users\\Owent\\AppData\\Local\\Programs\\Python\\Python312\\Lib\\site-packages\\torch\\_dynamo\\eval_frame.py:745: UserWarning: torch.utils.checkpoint: the use_reentrant parameter should be passed explicitly. In version 2.5 we will raise an exception if use_reentrant is not passed. use_reentrant=False is recommended, but if you need to preserve the current default behavior, you can pass use_reentrant=True. Refer to docs for more details on the differences between the two variants.\n",
            "  return fn(*args, **kwargs)\n",
            "c:\\Users\\Owent\\AppData\\Local\\Programs\\Python\\Python312\\Lib\\site-packages\\torch\\_dynamo\\eval_frame.py:745: UserWarning: torch.utils.checkpoint: the use_reentrant parameter should be passed explicitly. In version 2.5 we will raise an exception if use_reentrant is not passed. use_reentrant=False is recommended, but if you need to preserve the current default behavior, you can pass use_reentrant=True. Refer to docs for more details on the differences between the two variants.\n",
            "  return fn(*args, **kwargs)\n",
            "c:\\Users\\Owent\\AppData\\Local\\Programs\\Python\\Python312\\Lib\\site-packages\\torch\\_dynamo\\eval_frame.py:745: UserWarning: torch.utils.checkpoint: the use_reentrant parameter should be passed explicitly. In version 2.5 we will raise an exception if use_reentrant is not passed. use_reentrant=False is recommended, but if you need to preserve the current default behavior, you can pass use_reentrant=True. Refer to docs for more details on the differences between the two variants.\n",
            "  return fn(*args, **kwargs)\n",
            "c:\\Users\\Owent\\AppData\\Local\\Programs\\Python\\Python312\\Lib\\site-packages\\torch\\_dynamo\\eval_frame.py:745: UserWarning: torch.utils.checkpoint: the use_reentrant parameter should be passed explicitly. In version 2.5 we will raise an exception if use_reentrant is not passed. use_reentrant=False is recommended, but if you need to preserve the current default behavior, you can pass use_reentrant=True. Refer to docs for more details on the differences between the two variants.\n",
            "  return fn(*args, **kwargs)\n",
            "c:\\Users\\Owent\\AppData\\Local\\Programs\\Python\\Python312\\Lib\\site-packages\\torch\\_dynamo\\eval_frame.py:745: UserWarning: torch.utils.checkpoint: the use_reentrant parameter should be passed explicitly. In version 2.5 we will raise an exception if use_reentrant is not passed. use_reentrant=False is recommended, but if you need to preserve the current default behavior, you can pass use_reentrant=True. Refer to docs for more details on the differences between the two variants.\n",
            "  return fn(*args, **kwargs)\n",
            "c:\\Users\\Owent\\AppData\\Local\\Programs\\Python\\Python312\\Lib\\site-packages\\torch\\_dynamo\\eval_frame.py:745: UserWarning: torch.utils.checkpoint: the use_reentrant parameter should be passed explicitly. In version 2.5 we will raise an exception if use_reentrant is not passed. use_reentrant=False is recommended, but if you need to preserve the current default behavior, you can pass use_reentrant=True. Refer to docs for more details on the differences between the two variants.\n",
            "  return fn(*args, **kwargs)\n",
            "c:\\Users\\Owent\\AppData\\Local\\Programs\\Python\\Python312\\Lib\\site-packages\\torch\\_dynamo\\eval_frame.py:745: UserWarning: torch.utils.checkpoint: the use_reentrant parameter should be passed explicitly. In version 2.5 we will raise an exception if use_reentrant is not passed. use_reentrant=False is recommended, but if you need to preserve the current default behavior, you can pass use_reentrant=True. Refer to docs for more details on the differences between the two variants.\n",
            "  return fn(*args, **kwargs)\n",
            "c:\\Users\\Owent\\AppData\\Local\\Programs\\Python\\Python312\\Lib\\site-packages\\torch\\_dynamo\\eval_frame.py:745: UserWarning: torch.utils.checkpoint: the use_reentrant parameter should be passed explicitly. In version 2.5 we will raise an exception if use_reentrant is not passed. use_reentrant=False is recommended, but if you need to preserve the current default behavior, you can pass use_reentrant=True. Refer to docs for more details on the differences between the two variants.\n",
            "  return fn(*args, **kwargs)\n",
            "c:\\Users\\Owent\\AppData\\Local\\Programs\\Python\\Python312\\Lib\\site-packages\\torch\\_dynamo\\eval_frame.py:745: UserWarning: torch.utils.checkpoint: the use_reentrant parameter should be passed explicitly. In version 2.5 we will raise an exception if use_reentrant is not passed. use_reentrant=False is recommended, but if you need to preserve the current default behavior, you can pass use_reentrant=True. Refer to docs for more details on the differences between the two variants.\n",
            "  return fn(*args, **kwargs)\n",
            "c:\\Users\\Owent\\AppData\\Local\\Programs\\Python\\Python312\\Lib\\site-packages\\torch\\_dynamo\\eval_frame.py:745: UserWarning: torch.utils.checkpoint: the use_reentrant parameter should be passed explicitly. In version 2.5 we will raise an exception if use_reentrant is not passed. use_reentrant=False is recommended, but if you need to preserve the current default behavior, you can pass use_reentrant=True. Refer to docs for more details on the differences between the two variants.\n",
            "  return fn(*args, **kwargs)\n",
            "c:\\Users\\Owent\\AppData\\Local\\Programs\\Python\\Python312\\Lib\\site-packages\\torch\\_dynamo\\eval_frame.py:745: UserWarning: torch.utils.checkpoint: the use_reentrant parameter should be passed explicitly. In version 2.5 we will raise an exception if use_reentrant is not passed. use_reentrant=False is recommended, but if you need to preserve the current default behavior, you can pass use_reentrant=True. Refer to docs for more details on the differences between the two variants.\n",
            "  return fn(*args, **kwargs)\n"
          ]
        },
        {
          "data": {
            "text/html": [
              "\n",
              "    <div>\n",
              "      \n",
              "      <progress value='134' max='134' style='width:300px; height:20px; vertical-align: middle;'></progress>\n",
              "      [134/134 00:05]\n",
              "    </div>\n",
              "    "
            ],
            "text/plain": [
              "<IPython.core.display.HTML object>"
            ]
          },
          "metadata": {},
          "output_type": "display_data"
        },
        {
          "name": "stdout",
          "output_type": "stream",
          "text": [
            "{'eval_loss': 0.34531837701797485, 'eval_accuracy': 0.8903467666354264, 'eval_f1': 0.8903155517873067, 'eval_precision': 0.8907518395025253, 'eval_recall': 0.8903317382352735, 'eval_runtime': 5.5819, 'eval_samples_per_second': 191.154, 'eval_steps_per_second': 24.006, 'epoch': 20.0}\n",
            "Best model saved at: models/bert-large-uncased_finetunedlora_20epochs_best\n"
          ]
        }
      ],
      "source": [
        "train_lora_model(training_data=training_data, \n",
        "            validation_data=validation_data, \n",
        "            model_dir=training_model_dir,\n",
        "            num_epochs=num_epochs,\n",
        "            num_labels=num_labels,\n",
        "            id2label=id2label,\n",
        "            label2id=label2id\n",
        "            )"
      ]
    },
    {
      "cell_type": "code",
      "execution_count": 23,
      "metadata": {},
      "outputs": [
        {
          "name": "stderr",
          "output_type": "stream",
          "text": [
            "Some weights of BertForSequenceClassification were not initialized from the model checkpoint at google-bert/bert-large-uncased and are newly initialized: ['classifier.bias', 'classifier.weight']\n",
            "You should probably TRAIN this model on a down-stream task to be able to use it for predictions and inference.\n",
            "Device set to use cuda:0\n"
          ]
        }
      ],
      "source": [
        "model_dir = 'google-bert/bert-large-uncased'\n",
        "model_name = model_dir.split('/')[1]\n",
        "num_epochs = 20\n",
        "num_labels = 2\n",
        "id2label = {0: \"NEGATIVE\", 1: \"POSITIVE\"}\n",
        "label2id = {\"NEGATIVE\": 0, \"POSITIVE\": 1}\n",
        "\n",
        "model = get_model(model_dir=model_dir, model_name=model_name, num_epochs=num_epochs, num_labels=num_labels, id2label=id2label, label2id=label2id, lora=True)\n",
        "tokenizer = get_tokenizer(model_name)\n",
        "pipeline = get_pipeline(model=model, tokenizer=tokenizer)"
      ]
    },
    {
      "cell_type": "code",
      "execution_count": 24,
      "metadata": {},
      "outputs": [],
      "source": [
        "model_predictions = pd.Series(map(lambda x: x['label'], pipeline(list(testing_data['Text']))))\n",
        "\n",
        "label_mapping = {\"POSITIVE\": 1, \"NEGATIVE\": 0}\n",
        "model_predictions = model_predictions.map(label_mapping)"
      ]
    },
    {
      "cell_type": "code",
      "execution_count": 25,
      "metadata": {},
      "outputs": [
        {
          "data": {
            "image/png": "[encoded data removed]",
            "text/plain": [
              "<Figure size 640x480 with 2 Axes>"
            ]
          },
          "metadata": {},
          "output_type": "display_data"
        },
        {
          "name": "stdout",
          "output_type": "stream",
          "text": [
            "              precision    recall  f1-score   support\n",
            "\n",
            "    Negative       0.86      0.91      0.89       800\n",
            "    Positive       0.91      0.85      0.88       800\n",
            "\n",
            "    accuracy                           0.88      1600\n",
            "   macro avg       0.88      0.88      0.88      1600\n",
            "weighted avg       0.88      0.88      0.88      1600\n",
            "\n",
            "Accuracy: 0.881875\n",
            "Recall: 0.85125\n",
            "Precision: 0.9067909454061251\n",
            "F1-score: 0.8781431334622823\n"
          ]
        }
      ],
      "source": [
        "labels = ['Negative', 'Positive']\n",
        "\n",
        "get_model_evaluation(y_true=testing_data['Label'], y_pred=model_predictions, labels=labels)"
      ]
    }
  ],
  "metadata": {
    "accelerator": "GPU",
    "colab": {
      "gpuType": "T4",
      "provenance": []
    },
    "kernelspec": {
      "display_name": "Python 3",
      "language": "python",
      "name": "python3"
    },
    "language_info": {
      "codemirror_mode": {
        "name": "ipython",
        "version": 3
      },
      "file_extension": ".py",
      "mimetype": "text/x-python",
      "name": "python",
      "nbconvert_exporter": "python",
      "pygments_lexer": "ipython3",
      "version": "3.12.6"
    }
  },
  "nbformat": 4,
  "nbformat_minor": 0
}
