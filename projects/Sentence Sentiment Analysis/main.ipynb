{
  "cells": [
    {
      "cell_type": "markdown",
      "metadata": {
        "id": "vf9VXqDHikw7"
      },
      "source": [
        "# Installing and Reading in of packages"
      ]
    },
    {
      "cell_type": "code",
      "execution_count": 1,
      "metadata": {},
      "outputs": [
        {
          "name": "stdout",
          "output_type": "stream",
          "text": [
            "Requirement already satisfied: numpy in c:\\users\\owent\\appdata\\local\\programs\\python\\python310\\lib\\site-packages (from -r requirements.txt (line 1)) (1.26.3)\n",
            "Requirement already satisfied: pandas in c:\\users\\owent\\appdata\\local\\programs\\python\\python310\\lib\\site-packages (from -r requirements.txt (line 2)) (1.5.2)\n",
            "Requirement already satisfied: scikit-learn in c:\\users\\owent\\appdata\\local\\programs\\python\\python310\\lib\\site-packages (from -r requirements.txt (line 3)) (1.5.0)\n",
            "Requirement already satisfied: matplotlib in c:\\users\\owent\\appdata\\local\\programs\\python\\python310\\lib\\site-packages (from -r requirements.txt (line 4)) (3.6.2)\n",
            "Requirement already satisfied: seaborn in c:\\users\\owent\\appdata\\local\\programs\\python\\python310\\lib\\site-packages (from -r requirements.txt (line 5)) (0.12.2)\n",
            "Requirement already satisfied: transformers in c:\\users\\owent\\appdata\\local\\programs\\python\\python310\\lib\\site-packages (from -r requirements.txt (line 6)) (4.44.2)\n",
            "Requirement already satisfied: accelerate in c:\\users\\owent\\appdata\\local\\programs\\python\\python310\\lib\\site-packages (from -r requirements.txt (line 7)) (1.3.0)\n",
            "Requirement already satisfied: peft in c:\\users\\owent\\appdata\\local\\programs\\python\\python310\\lib\\site-packages (from -r requirements.txt (line 8)) (0.14.0)\n",
            "Requirement already satisfied: bitsandbytes in c:\\users\\owent\\appdata\\local\\programs\\python\\python310\\lib\\site-packages (from -r requirements.txt (line 9)) (0.45.1)\n",
            "Requirement already satisfied: tf-keras in c:\\users\\owent\\appdata\\local\\programs\\python\\python310\\lib\\site-packages (from -r requirements.txt (line 10)) (2.18.0)\n",
            "Requirement already satisfied: python-dateutil>=2.8.1 in c:\\users\\owent\\appdata\\local\\programs\\python\\python310\\lib\\site-packages (from pandas->-r requirements.txt (line 2)) (2.8.2)\n",
            "Requirement already satisfied: pytz>=2020.1 in c:\\users\\owent\\appdata\\local\\programs\\python\\python310\\lib\\site-packages (from pandas->-r requirements.txt (line 2)) (2022.7)\n",
            "Requirement already satisfied: scipy>=1.6.0 in c:\\users\\owent\\appdata\\local\\programs\\python\\python310\\lib\\site-packages (from scikit-learn->-r requirements.txt (line 3)) (1.10.0)\n",
            "Requirement already satisfied: joblib>=1.2.0 in c:\\users\\owent\\appdata\\local\\programs\\python\\python310\\lib\\site-packages (from scikit-learn->-r requirements.txt (line 3)) (1.4.2)\n",
            "Requirement already satisfied: threadpoolctl>=3.1.0 in c:\\users\\owent\\appdata\\local\\programs\\python\\python310\\lib\\site-packages (from scikit-learn->-r requirements.txt (line 3)) (3.5.0)\n",
            "Requirement already satisfied: contourpy>=1.0.1 in c:\\users\\owent\\appdata\\local\\programs\\python\\python310\\lib\\site-packages (from matplotlib->-r requirements.txt (line 4)) (1.0.6)\n",
            "Requirement already satisfied: cycler>=0.10 in c:\\users\\owent\\appdata\\local\\programs\\python\\python310\\lib\\site-packages (from matplotlib->-r requirements.txt (line 4)) (0.11.0)\n",
            "Requirement already satisfied: fonttools>=4.22.0 in c:\\users\\owent\\appdata\\local\\programs\\python\\python310\\lib\\site-packages (from matplotlib->-r requirements.txt (line 4)) (4.38.0)\n",
            "Requirement already satisfied: kiwisolver>=1.0.1 in c:\\users\\owent\\appdata\\local\\programs\\python\\python310\\lib\\site-packages (from matplotlib->-r requirements.txt (line 4)) (1.4.4)\n",
            "Requirement already satisfied: packaging>=20.0 in c:\\users\\owent\\appdata\\local\\programs\\python\\python310\\lib\\site-packages (from matplotlib->-r requirements.txt (line 4)) (23.0)\n",
            "Requirement already satisfied: pillow>=6.2.0 in c:\\users\\owent\\appdata\\local\\programs\\python\\python310\\lib\\site-packages (from matplotlib->-r requirements.txt (line 4)) (10.2.0)\n",
            "Requirement already satisfied: pyparsing>=2.2.1 in c:\\users\\owent\\appdata\\local\\programs\\python\\python310\\lib\\site-packages (from matplotlib->-r requirements.txt (line 4)) (3.0.9)\n",
            "Requirement already satisfied: filelock in c:\\users\\owent\\appdata\\local\\programs\\python\\python310\\lib\\site-packages (from transformers->-r requirements.txt (line 6)) (3.13.1)\n",
            "Requirement already satisfied: huggingface-hub<1.0,>=0.23.2 in c:\\users\\owent\\appdata\\local\\programs\\python\\python310\\lib\\site-packages (from transformers->-r requirements.txt (line 6)) (0.27.1)\n",
            "Requirement already satisfied: pyyaml>=5.1 in c:\\users\\owent\\appdata\\local\\programs\\python\\python310\\lib\\site-packages (from transformers->-r requirements.txt (line 6)) (6.0.2)\n",
            "Requirement already satisfied: regex!=2019.12.17 in c:\\users\\owent\\appdata\\local\\programs\\python\\python310\\lib\\site-packages (from transformers->-r requirements.txt (line 6)) (2024.9.11)\n",
            "Requirement already satisfied: requests in c:\\users\\owent\\appdata\\local\\programs\\python\\python310\\lib\\site-packages (from transformers->-r requirements.txt (line 6)) (2.28.1)\n",
            "Requirement already satisfied: safetensors>=0.4.1 in c:\\users\\owent\\appdata\\local\\programs\\python\\python310\\lib\\site-packages (from transformers->-r requirements.txt (line 6)) (0.4.5)\n",
            "Requirement already satisfied: tokenizers<0.20,>=0.19 in c:\\users\\owent\\appdata\\local\\programs\\python\\python310\\lib\\site-packages (from transformers->-r requirements.txt (line 6)) (0.19.1)\n",
            "Requirement already satisfied: tqdm>=4.27 in c:\\users\\owent\\appdata\\local\\programs\\python\\python310\\lib\\site-packages (from transformers->-r requirements.txt (line 6)) (4.66.5)\n",
            "Requirement already satisfied: psutil in c:\\users\\owent\\appdata\\roaming\\python\\python310\\site-packages (from accelerate->-r requirements.txt (line 7)) (5.9.8)\n",
            "Requirement already satisfied: torch>=2.0.0 in c:\\users\\owent\\appdata\\local\\programs\\python\\python310\\lib\\site-packages (from accelerate->-r requirements.txt (line 7)) (2.0.1+cu117)\n",
            "Requirement already satisfied: tensorflow<2.19,>=2.18 in c:\\users\\owent\\appdata\\local\\programs\\python\\python310\\lib\\site-packages (from tf-keras->-r requirements.txt (line 10)) (2.18.0)\n",
            "Requirement already satisfied: fsspec>=2023.5.0 in c:\\users\\owent\\appdata\\local\\programs\\python\\python310\\lib\\site-packages (from huggingface-hub<1.0,>=0.23.2->transformers->-r requirements.txt (line 6)) (2024.9.0)\n",
            "Requirement already satisfied: typing-extensions>=3.7.4.3 in c:\\users\\owent\\appdata\\local\\programs\\python\\python310\\lib\\site-packages (from huggingface-hub<1.0,>=0.23.2->transformers->-r requirements.txt (line 6)) (4.9.0)\n",
            "Requirement already satisfied: six>=1.5 in c:\\users\\owent\\appdata\\local\\programs\\python\\python310\\lib\\site-packages (from python-dateutil>=2.8.1->pandas->-r requirements.txt (line 2)) (1.16.0)\n",
            "Requirement already satisfied: tensorflow-intel==2.18.0 in c:\\users\\owent\\appdata\\local\\programs\\python\\python310\\lib\\site-packages (from tensorflow<2.19,>=2.18->tf-keras->-r requirements.txt (line 10)) (2.18.0)\n",
            "Requirement already satisfied: absl-py>=1.0.0 in c:\\users\\owent\\appdata\\local\\programs\\python\\python310\\lib\\site-packages (from tensorflow-intel==2.18.0->tensorflow<2.19,>=2.18->tf-keras->-r requirements.txt (line 10)) (2.1.0)\n",
            "Requirement already satisfied: astunparse>=1.6.0 in c:\\users\\owent\\appdata\\local\\programs\\python\\python310\\lib\\site-packages (from tensorflow-intel==2.18.0->tensorflow<2.19,>=2.18->tf-keras->-r requirements.txt (line 10)) (1.6.3)\n",
            "Requirement already satisfied: flatbuffers>=24.3.25 in c:\\users\\owent\\appdata\\local\\programs\\python\\python310\\lib\\site-packages (from tensorflow-intel==2.18.0->tensorflow<2.19,>=2.18->tf-keras->-r requirements.txt (line 10)) (24.3.25)\n",
            "Requirement already satisfied: gast!=0.5.0,!=0.5.1,!=0.5.2,>=0.2.1 in c:\\users\\owent\\appdata\\local\\programs\\python\\python310\\lib\\site-packages (from tensorflow-intel==2.18.0->tensorflow<2.19,>=2.18->tf-keras->-r requirements.txt (line 10)) (0.6.0)\n",
            "Requirement already satisfied: google-pasta>=0.1.1 in c:\\users\\owent\\appdata\\local\\programs\\python\\python310\\lib\\site-packages (from tensorflow-intel==2.18.0->tensorflow<2.19,>=2.18->tf-keras->-r requirements.txt (line 10)) (0.2.0)\n",
            "Requirement already satisfied: libclang>=13.0.0 in c:\\users\\owent\\appdata\\local\\programs\\python\\python310\\lib\\site-packages (from tensorflow-intel==2.18.0->tensorflow<2.19,>=2.18->tf-keras->-r requirements.txt (line 10)) (18.1.1)\n",
            "Requirement already satisfied: opt-einsum>=2.3.2 in c:\\users\\owent\\appdata\\local\\programs\\python\\python310\\lib\\site-packages (from tensorflow-intel==2.18.0->tensorflow<2.19,>=2.18->tf-keras->-r requirements.txt (line 10)) (3.3.0)\n",
            "Requirement already satisfied: protobuf!=4.21.0,!=4.21.1,!=4.21.2,!=4.21.3,!=4.21.4,!=4.21.5,<6.0.0dev,>=3.20.3 in c:\\users\\owent\\appdata\\local\\programs\\python\\python310\\lib\\site-packages (from tensorflow-intel==2.18.0->tensorflow<2.19,>=2.18->tf-keras->-r requirements.txt (line 10)) (4.25.4)\n",
            "Requirement already satisfied: setuptools in c:\\users\\owent\\appdata\\local\\programs\\python\\python310\\lib\\site-packages (from tensorflow-intel==2.18.0->tensorflow<2.19,>=2.18->tf-keras->-r requirements.txt (line 10)) (63.2.0)\n",
            "Requirement already satisfied: termcolor>=1.1.0 in c:\\users\\owent\\appdata\\local\\programs\\python\\python310\\lib\\site-packages (from tensorflow-intel==2.18.0->tensorflow<2.19,>=2.18->tf-keras->-r requirements.txt (line 10)) (2.4.0)\n",
            "Requirement already satisfied: wrapt>=1.11.0 in c:\\users\\owent\\appdata\\local\\programs\\python\\python310\\lib\\site-packages (from tensorflow-intel==2.18.0->tensorflow<2.19,>=2.18->tf-keras->-r requirements.txt (line 10)) (1.16.0)\n",
            "Requirement already satisfied: grpcio<2.0,>=1.24.3 in c:\\users\\owent\\appdata\\local\\programs\\python\\python310\\lib\\site-packages (from tensorflow-intel==2.18.0->tensorflow<2.19,>=2.18->tf-keras->-r requirements.txt (line 10)) (1.66.1)\n",
            "Requirement already satisfied: tensorboard<2.19,>=2.18 in c:\\users\\owent\\appdata\\local\\programs\\python\\python310\\lib\\site-packages (from tensorflow-intel==2.18.0->tensorflow<2.19,>=2.18->tf-keras->-r requirements.txt (line 10)) (2.18.0)\n",
            "Requirement already satisfied: keras>=3.5.0 in c:\\users\\owent\\appdata\\local\\programs\\python\\python310\\lib\\site-packages (from tensorflow-intel==2.18.0->tensorflow<2.19,>=2.18->tf-keras->-r requirements.txt (line 10)) (3.8.0)\n",
            "Requirement already satisfied: h5py>=3.11.0 in c:\\users\\owent\\appdata\\local\\programs\\python\\python310\\lib\\site-packages (from tensorflow-intel==2.18.0->tensorflow<2.19,>=2.18->tf-keras->-r requirements.txt (line 10)) (3.11.0)\n",
            "Requirement already satisfied: ml-dtypes<0.5.0,>=0.4.0 in c:\\users\\owent\\appdata\\local\\programs\\python\\python310\\lib\\site-packages (from tensorflow-intel==2.18.0->tensorflow<2.19,>=2.18->tf-keras->-r requirements.txt (line 10)) (0.4.0)\n",
            "Requirement already satisfied: tensorflow-io-gcs-filesystem>=0.23.1 in c:\\users\\owent\\appdata\\local\\programs\\python\\python310\\lib\\site-packages (from tensorflow-intel==2.18.0->tensorflow<2.19,>=2.18->tf-keras->-r requirements.txt (line 10)) (0.31.0)\n",
            "Requirement already satisfied: charset-normalizer<3,>=2 in c:\\users\\owent\\appdata\\local\\programs\\python\\python310\\lib\\site-packages (from requests->transformers->-r requirements.txt (line 6)) (2.1.1)\n",
            "Requirement already satisfied: idna<4,>=2.5 in c:\\users\\owent\\appdata\\local\\programs\\python\\python310\\lib\\site-packages (from requests->transformers->-r requirements.txt (line 6)) (3.4)\n",
            "Requirement already satisfied: urllib3<1.27,>=1.21.1 in c:\\users\\owent\\appdata\\local\\programs\\python\\python310\\lib\\site-packages (from requests->transformers->-r requirements.txt (line 6)) (1.26.13)\n",
            "Requirement already satisfied: certifi>=2017.4.17 in c:\\users\\owent\\appdata\\local\\programs\\python\\python310\\lib\\site-packages (from requests->transformers->-r requirements.txt (line 6)) (2022.12.7)\n",
            "Requirement already satisfied: sympy in c:\\users\\owent\\appdata\\local\\programs\\python\\python310\\lib\\site-packages (from torch>=2.0.0->accelerate->-r requirements.txt (line 7)) (1.13.1)\n",
            "Requirement already satisfied: networkx in c:\\users\\owent\\appdata\\local\\programs\\python\\python310\\lib\\site-packages (from torch>=2.0.0->accelerate->-r requirements.txt (line 7)) (3.2.1)\n",
            "Requirement already satisfied: jinja2 in c:\\users\\owent\\appdata\\local\\programs\\python\\python310\\lib\\site-packages (from torch>=2.0.0->accelerate->-r requirements.txt (line 7)) (3.1.3)\n",
            "Requirement already satisfied: colorama in c:\\users\\owent\\appdata\\local\\programs\\python\\python310\\lib\\site-packages (from tqdm>=4.27->transformers->-r requirements.txt (line 6)) (0.4.6)\n",
            "Requirement already satisfied: MarkupSafe>=2.0 in c:\\users\\owent\\appdata\\local\\programs\\python\\python310\\lib\\site-packages (from jinja2->torch>=2.0.0->accelerate->-r requirements.txt (line 7)) (2.1.5)\n",
            "Requirement already satisfied: mpmath<1.4,>=1.1.0 in c:\\users\\owent\\appdata\\local\\programs\\python\\python310\\lib\\site-packages (from sympy->torch>=2.0.0->accelerate->-r requirements.txt (line 7)) (1.3.0)\n",
            "Requirement already satisfied: wheel<1.0,>=0.23.0 in c:\\users\\owent\\appdata\\local\\programs\\python\\python310\\lib\\site-packages (from astunparse>=1.6.0->tensorflow-intel==2.18.0->tensorflow<2.19,>=2.18->tf-keras->-r requirements.txt (line 10)) (0.44.0)\n",
            "Requirement already satisfied: rich in c:\\users\\owent\\appdata\\local\\programs\\python\\python310\\lib\\site-packages (from keras>=3.5.0->tensorflow-intel==2.18.0->tensorflow<2.19,>=2.18->tf-keras->-r requirements.txt (line 10)) (13.8.1)\n",
            "Requirement already satisfied: namex in c:\\users\\owent\\appdata\\local\\programs\\python\\python310\\lib\\site-packages (from keras>=3.5.0->tensorflow-intel==2.18.0->tensorflow<2.19,>=2.18->tf-keras->-r requirements.txt (line 10)) (0.0.8)\n",
            "Requirement already satisfied: optree in c:\\users\\owent\\appdata\\local\\programs\\python\\python310\\lib\\site-packages (from keras>=3.5.0->tensorflow-intel==2.18.0->tensorflow<2.19,>=2.18->tf-keras->-r requirements.txt (line 10)) (0.12.1)\n",
            "Requirement already satisfied: markdown>=2.6.8 in c:\\users\\owent\\appdata\\local\\programs\\python\\python310\\lib\\site-packages (from tensorboard<2.19,>=2.18->tensorflow-intel==2.18.0->tensorflow<2.19,>=2.18->tf-keras->-r requirements.txt (line 10)) (3.7)\n",
            "Requirement already satisfied: tensorboard-data-server<0.8.0,>=0.7.0 in c:\\users\\owent\\appdata\\local\\programs\\python\\python310\\lib\\site-packages (from tensorboard<2.19,>=2.18->tensorflow-intel==2.18.0->tensorflow<2.19,>=2.18->tf-keras->-r requirements.txt (line 10)) (0.7.2)\n",
            "Requirement already satisfied: werkzeug>=1.0.1 in c:\\users\\owent\\appdata\\local\\programs\\python\\python310\\lib\\site-packages (from tensorboard<2.19,>=2.18->tensorflow-intel==2.18.0->tensorflow<2.19,>=2.18->tf-keras->-r requirements.txt (line 10)) (3.0.4)\n",
            "Requirement already satisfied: markdown-it-py>=2.2.0 in c:\\users\\owent\\appdata\\local\\programs\\python\\python310\\lib\\site-packages (from rich->keras>=3.5.0->tensorflow-intel==2.18.0->tensorflow<2.19,>=2.18->tf-keras->-r requirements.txt (line 10)) (3.0.0)\n",
            "Requirement already satisfied: pygments<3.0.0,>=2.13.0 in c:\\users\\owent\\appdata\\roaming\\python\\python310\\site-packages (from rich->keras>=3.5.0->tensorflow-intel==2.18.0->tensorflow<2.19,>=2.18->tf-keras->-r requirements.txt (line 10)) (2.18.0)\n",
            "Requirement already satisfied: mdurl~=0.1 in c:\\users\\owent\\appdata\\local\\programs\\python\\python310\\lib\\site-packages (from markdown-it-py>=2.2.0->rich->keras>=3.5.0->tensorflow-intel==2.18.0->tensorflow<2.19,>=2.18->tf-keras->-r requirements.txt (line 10)) (0.1.2)\n",
            "Note: you may need to restart the kernel to use updated packages.\n"
          ]
        }
      ],
      "source": [
        "%pip install -r requirements.txt"
      ]
    },
    {
      "cell_type": "code",
      "execution_count": 2,
      "metadata": {},
      "outputs": [
        {
          "name": "stdout",
          "output_type": "stream",
          "text": [
            "Note: you may need to restart the kernel to use updated packages.\n",
            "Note: you may need to restart the kernel to use updated packages.\n",
            "Note: you may need to restart the kernel to use updated packages.\n",
            "Note: you may need to restart the kernel to use updated packages.\n"
          ]
        },
        {
          "name": "stderr",
          "output_type": "stream",
          "text": [
            "  WARNING: Did not find branch or tag 'fix-to-int8', assuming revision or ref.\n",
            "  error: subprocess-exited-with-error\n",
            "  \n",
            "  × git checkout -q fix-to-int8 did not run successfully.\n",
            "  │ exit code: 1\n",
            "  ╰─> [1 lines of output]\n",
            "      error: pathspec 'fix-to-int8' did not match any file(s) known to git\n",
            "      [end of output]\n",
            "  \n",
            "  note: This error originates from a subprocess, and is likely not a problem with pip.\n",
            "error: subprocess-exited-with-error\n",
            "\n",
            "× git checkout -q fix-to-int8 did not run successfully.\n",
            "│ exit code: 1\n",
            "╰─> See above for output.\n",
            "\n",
            "note: This error originates from a subprocess, and is likely not a problem with pip.\n"
          ]
        }
      ],
      "source": [
        "%pip install -q -U bitsandbytes\n",
        "%pip install -q -U git+https://github.com/huggingface/transformers.git\n",
        "%pip install -q -U git+https://github.com/huggingface/peft.git\n",
        "%pip install -q -U git+https://github.com/huggingface/accelerate.git@fix-to-int8"
      ]
    },
    {
      "cell_type": "code",
      "execution_count": 3,
      "metadata": {
        "id": "g0Cg9F1Mic5-"
      },
      "outputs": [
        {
          "name": "stderr",
          "output_type": "stream",
          "text": [
            "c:\\Users\\Owent\\AppData\\Local\\Programs\\Python\\Python310\\lib\\site-packages\\tqdm\\auto.py:21: TqdmWarning: IProgress not found. Please update jupyter and ipywidgets. See https://ipywidgets.readthedocs.io/en/stable/user_install.html\n",
            "  from .autonotebook import tqdm as notebook_tqdm\n",
            "c:\\Users\\Owent\\AppData\\Local\\Programs\\Python\\Python310\\lib\\site-packages\\torchvision\\datapoints\\__init__.py:12: UserWarning: The torchvision.datapoints and torchvision.transforms.v2 namespaces are still Beta. While we do not expect major breaking changes, some APIs may still change according to user feedback. Please submit any feedback you may have in this issue: https://github.com/pytorch/vision/issues/6753, and you can also check out https://github.com/pytorch/vision/issues/7319 to learn more about the APIs that we suspect might involve future changes. You can silence this warning by calling torchvision.disable_beta_transforms_warning().\n",
            "  warnings.warn(_BETA_TRANSFORMS_WARNING)\n",
            "c:\\Users\\Owent\\AppData\\Local\\Programs\\Python\\Python310\\lib\\site-packages\\torchvision\\transforms\\v2\\__init__.py:54: UserWarning: The torchvision.datapoints and torchvision.transforms.v2 namespaces are still Beta. While we do not expect major breaking changes, some APIs may still change according to user feedback. Please submit any feedback you may have in this issue: https://github.com/pytorch/vision/issues/6753, and you can also check out https://github.com/pytorch/vision/issues/7319 to learn more about the APIs that we suspect might involve future changes. You can silence this warning by calling torchvision.disable_beta_transforms_warning().\n",
            "  warnings.warn(_BETA_TRANSFORMS_WARNING)\n"
          ]
        },
        {
          "name": "stdout",
          "output_type": "stream",
          "text": [
            "WARNING:tensorflow:From c:\\Users\\Owent\\AppData\\Local\\Programs\\Python\\Python310\\lib\\site-packages\\tf_keras\\src\\losses.py:2976: The name tf.losses.sparse_softmax_cross_entropy is deprecated. Please use tf.compat.v1.losses.sparse_softmax_cross_entropy instead.\n",
            "\n"
          ]
        }
      ],
      "source": [
        "import pandas as pd\n",
        "import numpy as np\n",
        "from transformers import pipeline\n",
        "from sklearn.model_selection import train_test_split\n",
        "import torch\n",
        "\n",
        "from model_evaluation import get_model_evaluation\n",
        "from model_extraction import get_model, get_tokenizer, get_pipeline\n",
        "from model_training import train_model, train_lora_model"
      ]
    },
    {
      "cell_type": "code",
      "execution_count": 4,
      "metadata": {},
      "outputs": [
        {
          "data": {
            "text/plain": [
              "True"
            ]
          },
          "execution_count": 4,
          "metadata": {},
          "output_type": "execute_result"
        }
      ],
      "source": [
        "torch.cuda.is_available()"
      ]
    },
    {
      "cell_type": "code",
      "execution_count": 5,
      "metadata": {},
      "outputs": [],
      "source": [
        "device = torch.device('cuda' if torch.cuda.is_available() else 'cpu')"
      ]
    },
    {
      "cell_type": "markdown",
      "metadata": {
        "id": "QdVPKlrFir2m"
      },
      "source": [
        "# Reading in of Data"
      ]
    },
    {
      "cell_type": "code",
      "execution_count": 6,
      "metadata": {
        "colab": {
          "base_uri": "https://localhost:8080/"
        },
        "id": "Qggu5ylEikPr",
        "outputId": "4dafb1c5-8c1e-45e5-9d40-575ad174b194"
      },
      "outputs": [
        {
          "name": "stdout",
          "output_type": "stream",
          "text": [
            "                                                Text  Label\n",
            "0  the rock is destined to be the 21st century's ...      1\n",
            "1  the gorgeously elaborate continuation of \" the...      1\n",
            "2                     effective but too-tepid biopic      1\n",
            "3  if you sometimes like to go to the movies to h...      1\n",
            "4  emerges as something rare , an issue movie tha...      1\n",
            "(10662, 2)\n"
          ]
        }
      ],
      "source": [
        "data = pd.read_csv(\"data/dataset.csv\", header = None, names = [\"Label\", \"Text\"])\n",
        "data = data[['Text', 'Label']]\n",
        "\n",
        "print(data.head()) # First column: 1 - positive, 0 - negative\n",
        "print(data.shape)"
      ]
    },
    {
      "cell_type": "code",
      "execution_count": 7,
      "metadata": {},
      "outputs": [
        {
          "name": "stdout",
          "output_type": "stream",
          "text": [
            "                                                   Text  Label\n",
            "0     this bracingly truthful antidote to hollywood ...      1\n",
            "1     once the downward spiral comes to pass , auto ...      1\n",
            "2     bray is completely at sea ; with nothing but a...      0\n",
            "3     while the production details are lavish , film...      0\n",
            "4     anyone who suffers through this film deserves ...      0\n",
            "...                                                 ...    ...\n",
            "1595  a dream cast of solid female talent who build ...      1\n",
            "1596  it's an unusual , thoughtful bio-drama with a ...      1\n",
            "1597  a gorgeous , somnolent show that is splendidly...      0\n",
            "1598  it's tough to be startled when you're almost d...      0\n",
            "1599  george lucas returns as a visionary with a tal...      1\n",
            "\n",
            "[1600 rows x 2 columns]\n"
          ]
        }
      ],
      "source": [
        "testing_data = pd.read_csv('data/testing_data.csv')\n",
        "\n",
        "print(testing_data)"
      ]
    },
    {
      "cell_type": "markdown",
      "metadata": {
        "id": "ITkSaF8IzwHf"
      },
      "source": [
        "# Model (Pre-built on Hugging Face)\n",
        "For a start, we will try a pre-built model on Hugging Face that will analyse the text and give us a rating on whether it is `POSITIVE` or `NEGATIVE`."
      ]
    },
    {
      "cell_type": "code",
      "execution_count": 8,
      "metadata": {
        "id": "9t0tD8vZjIx2"
      },
      "outputs": [
        {
          "name": "stderr",
          "output_type": "stream",
          "text": [
            "Device set to use cuda:0\n"
          ]
        }
      ],
      "source": [
        "sentiment_pipeline = pipeline(\"sentiment-analysis\", model = \"distilbert/distilbert-base-uncased-finetuned-sst-2-english\", device = device)\n",
        "output = sentiment_pipeline(list(testing_data[\"Text\"]))"
      ]
    },
    {
      "cell_type": "code",
      "execution_count": 9,
      "metadata": {
        "colab": {
          "background_save": true
        },
        "id": "IdTr2sULjJGb"
      },
      "outputs": [],
      "source": [
        "model_predictions = pd.Series(map(lambda x: x['label'], output))\n",
        "\n",
        "label_mapping = {\"POSITIVE\": 1, \"NEGATIVE\": 0}\n",
        "model_predictions = model_predictions.map(label_mapping)"
      ]
    },
    {
      "cell_type": "markdown",
      "metadata": {
        "id": "7a9G7oMz0D2z"
      },
      "source": [
        "## Model Evaluation\n",
        "We will evaluate the model and look at the accuracy of the model."
      ]
    },
    {
      "cell_type": "code",
      "execution_count": 10,
      "metadata": {
        "colab": {
          "background_save": true
        },
        "id": "OilY3Ik4tMMg",
        "outputId": "f61d2f04-dbbe-4f6c-e939-c12896948d11"
      },
      "outputs": [
        {
          "data": {
            "image/png": "[encoded data removed]",
            "text/plain": [
              "<Figure size 640x480 with 2 Axes>"
            ]
          },
          "metadata": {},
          "output_type": "display_data"
        },
        {
          "name": "stdout",
          "output_type": "stream",
          "text": [
            "              precision    recall  f1-score   support\n",
            "\n",
            "    Negative       0.89      0.87      0.88       800\n",
            "    Positive       0.87      0.90      0.89       800\n",
            "\n",
            "    accuracy                           0.88      1600\n",
            "   macro avg       0.88      0.88      0.88      1600\n",
            "weighted avg       0.88      0.88      0.88      1600\n",
            "\n",
            "Accuracy: 0.884375\n",
            "Recall: 0.8975\n",
            "Precision: 0.8745432399512789\n",
            "F1-score: 0.8858729179518815\n"
          ]
        }
      ],
      "source": [
        "labels = ['Negative', 'Positive']\n",
        "\n",
        "get_model_evaluation(y_true=testing_data['Label'], y_pred=model_predictions, labels=labels)"
      ]
    },
    {
      "cell_type": "markdown",
      "metadata": {},
      "source": [
        "# Custom Model\n",
        "While we see that the pre-built model performs rather well (with an accuracy of around 88%), we will try to train a model on our own and fine-tune it based on the dataset provided. This would hopefully increase the accuracy of the model in determining the sentiment of the input text."
      ]
    },
    {
      "cell_type": "code",
      "execution_count": 11,
      "metadata": {},
      "outputs": [],
      "source": [
        "training_data = pd.read_csv('data/training_data.csv')\n",
        "validation_data = pd.read_csv('data/validation_data.csv')\n",
        "training_model_dir = \"google-bert/bert-large-uncased\"\n",
        "# training_model_dir = \"google-bert/bert-base-uncased\"\n",
        "# training_model_dir = \"distilbert/distilbert-base-uncased\"\n",
        "num_epochs = 20\n",
        "num_labels = 2 # Only 2 labels - Positive or Negative\n",
        "id2label = {0: \"NEGATIVE\", 1: \"POSITIVE\"}\n",
        "label2id = {\"NEGATIVE\": 0, \"POSITIVE\": 1}"
      ]
    },
    {
      "cell_type": "code",
      "execution_count": null,
      "metadata": {},
      "outputs": [
        {
          "name": "stderr",
          "output_type": "stream",
          "text": [
            "Some weights of BertForSequenceClassification were not initialized from the model checkpoint at google-bert/bert-large-uncased and are newly initialized: ['classifier.bias', 'classifier.weight']\n",
            "You should probably TRAIN this model on a down-stream task to be able to use it for predictions and inference.\n",
            "c:\\Users\\Owent\\Desktop\\Projects\\personal\\projects\\Sentence Sentiment Analysis\\model_training.py:123: FutureWarning: `tokenizer` is deprecated and will be removed in version 5.0.0 for `Trainer.__init__`. Use `processing_class` instead.\n",
            "  trainer = Trainer(\n"
          ]
        },
        {
          "data": {
            "text/html": [
              "\n",
              "    <div>\n",
              "      \n",
              "      <progress value='1096' max='20000' style='width:300px; height:20px; vertical-align: middle;'></progress>\n",
              "      [ 1096/20000 17:04 < 4:55:01, 1.07 it/s, Epoch 1.09/20]\n",
              "    </div>\n",
              "    <table border=\"1\" class=\"dataframe\">\n",
              "  <thead>\n",
              " <tr style=\"text-align: left;\">\n",
              "      <th>Epoch</th>\n",
              "      <th>Training Loss</th>\n",
              "      <th>Validation Loss</th>\n",
              "      <th>Accuracy</th>\n",
              "      <th>F1</th>\n",
              "      <th>Precision</th>\n",
              "      <th>Recall</th>\n",
              "    </tr>\n",
              "  </thead>\n",
              "  <tbody>\n",
              "    <tr>\n",
              "      <td>1</td>\n",
              "      <td>0.351500</td>\n",
              "      <td>0.353753</td>\n",
              "      <td>0.879100</td>\n",
              "      <td>0.879100</td>\n",
              "      <td>0.879101</td>\n",
              "      <td>0.879101</td>\n",
              "    </tr>\n",
              "  </tbody>\n",
              "</table><p>"
            ],
            "text/plain": [
              "<IPython.core.display.HTML object>"
            ]
          },
          "metadata": {},
          "output_type": "display_data"
        }
      ],
      "source": [
        "train_lora_model(training_data=training_data, \n",
        "            validation_data=validation_data, \n",
        "            model_dir=training_model_dir,\n",
        "            num_epochs=num_epochs,\n",
        "            num_labels=num_labels,\n",
        "            id2label=id2label,\n",
        "            label2id=label2id\n",
        "            )"
      ]
    },
    {
      "cell_type": "code",
      "execution_count": 15,
      "metadata": {},
      "outputs": [
        {
          "name": "stderr",
          "output_type": "stream",
          "text": [
            "Some weights of BertForSequenceClassification were not initialized from the model checkpoint at google-bert/bert-large-uncased and are newly initialized: ['classifier.bias', 'classifier.weight']\n",
            "You should probably TRAIN this model on a down-stream task to be able to use it for predictions and inference.\n",
            "Device set to use cuda:0\n"
          ]
        }
      ],
      "source": [
        "model_dir = 'google-bert/bert-large-uncased'\n",
        "model_name = model_dir.split('/')[1]\n",
        "num_epochs = 10\n",
        "num_labels = 2\n",
        "id2label = {0: \"NEGATIVE\", 1: \"POSITIVE\"}\n",
        "label2id = {\"NEGATIVE\": 0, \"POSITIVE\": 1}\n",
        "\n",
        "model = get_model(model_dir=model_dir, model_name=model_name, num_epochs=num_epochs, num_labels=num_labels, id2label=id2label, label2id=label2id, lora=True)\n",
        "tokenizer = get_tokenizer(model_name)\n",
        "pipeline = get_pipeline(model=model, tokenizer=tokenizer)"
      ]
    },
    {
      "cell_type": "code",
      "execution_count": 16,
      "metadata": {},
      "outputs": [],
      "source": [
        "model_predictions = pd.Series(map(lambda x: x['label'], pipeline(list(testing_data['Text']))))\n",
        "\n",
        "label_mapping = {\"POSITIVE\": 1, \"NEGATIVE\": 0}\n",
        "model_predictions = model_predictions.map(label_mapping)"
      ]
    },
    {
      "cell_type": "code",
      "execution_count": 17,
      "metadata": {},
      "outputs": [
        {
          "data": {
            "image/png": "[encoded data removed]",
            "text/plain": [
              "<Figure size 640x480 with 2 Axes>"
            ]
          },
          "metadata": {},
          "output_type": "display_data"
        },
        {
          "name": "stdout",
          "output_type": "stream",
          "text": [
            "              precision    recall  f1-score   support\n",
            "\n",
            "    Negative       0.87      0.91      0.89       800\n",
            "    Positive       0.91      0.86      0.89       800\n",
            "\n",
            "    accuracy                           0.89      1600\n",
            "   macro avg       0.89      0.89      0.89      1600\n",
            "weighted avg       0.89      0.89      0.89      1600\n",
            "\n",
            "Accuracy: 0.888125\n",
            "Recall: 0.865\n",
            "Precision: 0.9069462647444299\n",
            "F1-score: 0.8854766474728087\n"
          ]
        }
      ],
      "source": [
        "labels = ['Negative', 'Positive']\n",
        "\n",
        "get_model_evaluation(y_true=testing_data['Label'], y_pred=model_predictions, labels=labels)"
      ]
    }
  ],
  "metadata": {
    "accelerator": "GPU",
    "colab": {
      "gpuType": "T4",
      "provenance": []
    },
    "kernelspec": {
      "display_name": "Python 3",
      "language": "python",
      "name": "python3"
    },
    "language_info": {
      "codemirror_mode": {
        "name": "ipython",
        "version": 3
      },
      "file_extension": ".py",
      "mimetype": "text/x-python",
      "name": "python",
      "nbconvert_exporter": "python",
      "pygments_lexer": "ipython3",
      "version": "3.10.6"
    }
  },
  "nbformat": 4,
  "nbformat_minor": 0
}
